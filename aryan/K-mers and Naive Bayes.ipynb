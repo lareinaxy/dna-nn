{
 "cells": [
  {
   "cell_type": "code",
   "execution_count": 2,
   "metadata": {},
   "outputs": [],
   "source": [
    "import numpy as np\n",
    "from scipy.io import loadmat\n",
    "import matplotlib.pyplot as plt \n",
    "from Bio import SeqIO\n",
    "import pandas as pd\n",
    "\n",
    "def getKmers(sequence, size=6):\n",
    "    return [sequence[x:x+size].lower() for x in range (len(sequence)-size +1)]\n",
    "def read_pseudo():\n",
    "    file = SeqIO.parse('concatenated.fasta', 'fasta')\n",
    "    data = [(record.id, record.seq._data) for record in file]\n",
    "    seq = pd.DataFrame(data=data, columns=['id', 'sequence'])\n",
    "    return seq\n",
    "\n",
    "def read_staph():\n",
    "    file = SeqIO.parse('core_gene_alignment-narsa.aln', 'fasta')\n",
    "    data = [(record.id, record.seq._data) for record in file]\n",
    "    seq = pd.DataFrame(data=data, columns=['id', 'sequence'])\n",
    "    return seq\n",
    "\n",
    "def pseudo_resp():\n",
    "    responses= pd.read_csv('responses-pseudo.csv')\n",
    "    return responses\n",
    "\n",
    "def staph_resp():\n",
    "    responses = pd.read_csv('responses-staph.csv')\n",
    "    return responses"
   ]
  },
  {
   "cell_type": "code",
   "execution_count": 3,
   "metadata": {},
   "outputs": [],
   "source": [
    "pseudo=read_pseudo()\n",
    "sequences=pseudo['sequence']\n",
    "pseudo['sequence']=pseudo.apply(lambda x: getKmers(x['sequence']),axis=1)"
   ]
  },
  {
   "cell_type": "code",
   "execution_count": 4,
   "metadata": {},
   "outputs": [
    {
     "data": {
      "text/plain": [
       "(122,)"
      ]
     },
     "execution_count": 4,
     "metadata": {},
     "output_type": "execute_result"
    }
   ],
   "source": [
    "sequences.shape"
   ]
  },
  {
   "cell_type": "code",
   "execution_count": 4,
   "metadata": {},
   "outputs": [],
   "source": [
    "pseudoText=list(pseudo['sequence'])\n",
    "for item in range (len(pseudoText)):\n",
    "    pseudoText[item]=' '.join(pseudoText[item])\n"
   ]
  },
  {
   "cell_type": "code",
   "execution_count": 6,
   "metadata": {},
   "outputs": [],
   "source": [
    "#takes in responses for carb \n",
    "responses=pseudo_resp()\n",
    "carb=responses['carb']\n",
    "carb=carb.fillna(0)\n",
    "test=np.array(carb, dtype='object')\n",
    "test*= 1\n",
    "#changes all NA values to 0 too\n",
    "new_lst = np.array(test, dtype='int64')"
   ]
  },
  {
   "cell_type": "code",
   "execution_count": 7,
   "metadata": {},
   "outputs": [
    {
     "data": {
      "text/plain": [
       "array([1, 0, 1, 0, 0, 0, 0, 0, 0, 0, 0, 0, 0, 0, 0, 0, 0, 0, 0, 0, 0, 1,\n",
       "       0, 1, 0, 0, 1, 1, 0, 0, 0, 0, 0, 0, 1, 0, 0, 1, 0, 1, 1, 0, 0, 0,\n",
       "       0, 0, 0, 1, 0, 1, 0, 0, 0, 0, 0, 0, 0, 0, 0, 0, 0, 1, 0, 0, 0, 0,\n",
       "       0, 0, 0, 0, 0, 1, 0, 1, 0, 0, 0, 0, 0, 1, 1, 0, 1, 0, 0, 1, 0, 0,\n",
       "       1, 0, 1, 1, 1, 1, 0, 0, 0, 0, 0, 0, 0, 0, 0, 0, 0, 0, 0, 0, 0, 0,\n",
       "       0, 0, 0, 0, 0, 1, 0, 0, 0, 0, 0, 0])"
      ]
     },
     "execution_count": 7,
     "metadata": {},
     "output_type": "execute_result"
    }
   ],
   "source": [
    "new_lst"
   ]
  },
  {
   "cell_type": "code",
   "execution_count": 8,
   "metadata": {},
   "outputs": [],
   "source": [
    "#take in responses for toby \n",
    "toby= responses ['toby']\n",
    "toby=toby.fillna(0)\n",
    "test=np.array(toby, dtype='object')\n",
    "test*=1\n",
    "#changes all NA values to 0 too\n",
    "new_lst2 = np.array(test, dtype='int64')"
   ]
  },
  {
   "cell_type": "code",
   "execution_count": 9,
   "metadata": {},
   "outputs": [
    {
     "data": {
      "text/plain": [
       "array([0, 0, 0, 0, 0, 0, 0, 0, 1, 0, 0, 0, 0, 0, 0, 0, 0, 0, 0, 0, 0, 0,\n",
       "       0, 0, 0, 0, 0, 0, 0, 0, 0, 0, 0, 0, 0, 0, 0, 0, 0, 0, 0, 0, 0, 0,\n",
       "       0, 0, 0, 1, 0, 0, 0, 0, 0, 0, 0, 0, 0, 0, 0, 0, 0, 1, 0, 0, 0, 0,\n",
       "       0, 0, 0, 0, 0, 0, 0, 0, 0, 0, 0, 0, 0, 0, 1, 0, 0, 1, 0, 0, 0, 1,\n",
       "       0, 0, 0, 0, 0, 0, 0, 0, 0, 0, 0, 0, 0, 0, 0, 0, 0, 0, 0, 0, 0, 0,\n",
       "       0, 0, 0, 0, 0, 0, 0, 0, 0, 0, 0, 0])"
      ]
     },
     "execution_count": 9,
     "metadata": {},
     "output_type": "execute_result"
    }
   ],
   "source": [
    "new_lst2"
   ]
  },
  {
   "cell_type": "code",
   "execution_count": 10,
   "metadata": {},
   "outputs": [],
   "source": [
    "#tokenizing the strings into bag of words \n",
    "from sklearn.feature_extraction.text import CountVectorizer \n",
    "cv=CountVectorizer(ngram_range=(4,4))\n",
    "X=cv.fit_transform(pseudoText)"
   ]
  },
  {
   "cell_type": "code",
   "execution_count": 11,
   "metadata": {},
   "outputs": [
    {
     "data": {
      "text/plain": [
       "(122, 196510)"
      ]
     },
     "execution_count": 11,
     "metadata": {},
     "output_type": "execute_result"
    }
   ],
   "source": [
    "X.shape"
   ]
  },
  {
   "cell_type": "code",
   "execution_count": 12,
   "metadata": {},
   "outputs": [],
   "source": [
    "#splijtting datasets into training and testing sets for pseudomonas \n",
    "from sklearn.model_selection import train_test_split\n",
    "X_train, X_test, y_train, y_test= train_test_split(X, new_lst, test_size=0.20, random_state=42)"
   ]
  },
  {
   "cell_type": "code",
   "execution_count": 13,
   "metadata": {},
   "outputs": [
    {
     "data": {
      "text/plain": [
       "MultinomialNB(alpha=0.1, class_prior=None, fit_prior=True)"
      ]
     },
     "execution_count": 13,
     "metadata": {},
     "output_type": "execute_result"
    }
   ],
   "source": [
    "#ask about grid search from Zhaoyi\n",
    "from sklearn.naive_bayes import MultinomialNB\n",
    "#use grid search to derive this conclusion, but I used this value for alpha for the time-being \n",
    "#alpha=additive smoothing parameter\n",
    "classifier = MultinomialNB (alpha=0.1)\n",
    "classifier.fit (X_train, y_train)\n"
   ]
  },
  {
   "cell_type": "code",
   "execution_count": 14,
   "metadata": {},
   "outputs": [],
   "source": [
    "y_pred=classifier.predict(X_test)"
   ]
  },
  {
   "cell_type": "code",
   "execution_count": 15,
   "metadata": {},
   "outputs": [
    {
     "name": "stdout",
     "output_type": "stream",
     "text": [
      "Calculation of K-mers w Naive Bayes algo for Pseudomonas\n",
      "Confusion Matrix \n",
      "\n",
      "Predicted   0  1\n",
      "Actual          \n",
      "0          18  1\n",
      "1           3  3\n",
      "Accuracy = 0.840 \n",
      "precision = 0.831 \n",
      "recall = 0.840 \n",
      "f1 = 0.828\n"
     ]
    }
   ],
   "source": [
    "from sklearn.metrics import accuracy_score, f1_score, precision_score, recall_score\n",
    "print(\"Calculation of K-mers w Naive Bayes algo for Pseudomonas\")\n",
    "print(\"Confusion Matrix \\n\")\n",
    "print(pd.crosstab(pd.Series(y_test,name='Actual'), pd.Series(y_pred, name='Predicted')))\n",
    "def get_results(y_test, y_predicted):\n",
    "    accuracy=accuracy_score (y_test, y_predicted)\n",
    "    precision = precision_score (y_test, y_predicted, average='weighted')\n",
    "    recall=recall_score (y_test, y_predicted, average=\"weighted\")\n",
    "    f1=f1_score (y_test, y_predicted, average=\"weighted\")\n",
    "    return accuracy, precision, recall, f1\n",
    "accuracy, precision, recall, f1=get_results(y_test, y_pred)\n",
    "print(\"Accuracy = %.3f \\nprecision = %.3f \\nrecall = %.3f \\nf1 = %.3f\" % (accuracy, precision, recall,f1 ))\n",
    "#0=false\n",
    "#1=true\n",
    "#Confusion Matrix=True Negative, False Positive\n",
    "#False Negative, True Positive\n",
    "#Precision=TP/(TP+FP)=True Positive / Total predicted positive\n",
    "#Recall = True Positive/Total Actual Positive\n",
    "#F1=2* (Precision*Recall)/(Precision+Recall)"
   ]
  },
  {
   "cell_type": "code",
   "execution_count": 16,
   "metadata": {},
   "outputs": [
    {
     "name": "stdout",
     "output_type": "stream",
     "text": [
      "Calculation of K-mers w Naive Bayes algo for Pseudomonas\n",
      "Confusion Matrix \n",
      "\n",
      "Predicted   0  1\n",
      "Actual          \n",
      "0          20  4\n",
      "1           0  1\n",
      "Accuracy = 0.840 \n",
      "precision = 0.968 \n",
      "recall = 0.840 \n",
      "f1 = 0.886\n"
     ]
    }
   ],
   "source": [
    "#splijtting datasets into training and testing sets for pseudomonas \n",
    "X_train, X_test, y_train, y_test= train_test_split(X, new_lst2, test_size=0.20, random_state=42)\n",
    "#ask about grid search from Zhaoyi\n",
    "#use grid search to derive this conclusion, but I used this value for alpha for the time-being \n",
    "#alpha=additive smoothing parameter\n",
    "classifier = MultinomialNB (alpha=0.1)\n",
    "classifier.fit (X_train, y_train)\n",
    "y_pred=classifier.predict(X_test)\n",
    "\n",
    "print(\"Calculation of K-mers w Naive Bayes algo for Pseudomonas\")\n",
    "print(\"Confusion Matrix \\n\")\n",
    "print(pd.crosstab(pd.Series(y_test,name='Actual'), pd.Series(y_pred, name='Predicted')))\n",
    "def get_results(y_test, y_predicted):\n",
    "    accuracy=accuracy_score (y_test, y_predicted)\n",
    "    precision = precision_score (y_test, y_predicted, average='weighted')\n",
    "    recall=recall_score (y_test, y_predicted, average=\"weighted\")\n",
    "    f1=f1_score (y_test, y_predicted, average=\"weighted\")\n",
    "    return accuracy, precision, recall, f1\n",
    "accuracy, precision, recall, f1=get_results(y_test, y_pred)\n",
    "print(\"Accuracy = %.3f \\nprecision = %.3f \\nrecall = %.3f \\nf1 = %.3f\" % (accuracy, precision, recall,f1 ))\n"
   ]
  },
  {
   "cell_type": "code",
   "execution_count": 5,
   "metadata": {},
   "outputs": [
    {
     "name": "stdout",
     "output_type": "stream",
     "text": [
      "(125,)\n"
     ]
    }
   ],
   "source": [
    "#READINGS for staphylococcus\n",
    "staph=read_staph()\n",
    "sequences2=staph['sequence']\n",
    "staph['sequence']=staph.apply(lambda x: getKmers(x['sequence']),axis=1)\n",
    "\n",
    "print(sequences2.shape)\n",
    "\n",
    "staphText=list(staph['sequence'])\n",
    "for item in range (len(staphText)):\n",
    "    staphText[item]=' '.join(staphText[item])\n"
   ]
  },
  {
   "cell_type": "code",
   "execution_count": 6,
   "metadata": {},
   "outputs": [],
   "source": [
    "#takes in responses for staph \n",
    "responses=staph_resp()\n",
    "resp=responses['resp']\n",
    "resp=resp.fillna(0)\n",
    "test=np.array(resp, dtype='object')\n",
    "test*= 1\n",
    "#changes all NA values to 0 too\n",
    "#new_lst3 stores responses to antibiotic test against staph\n",
    "new_lst3 = np.array(test, dtype='int64')"
   ]
  },
  {
   "cell_type": "code",
   "execution_count": null,
   "metadata": {},
   "outputs": [],
   "source": [
    "from sklearn.feature_extraction.text import CountVectorizer \n",
    "cv=CountVectorizer(ngram_range=(4,4))\n",
    "X2=cv.fit_transform(staphText)"
   ]
  },
  {
   "cell_type": "code",
   "execution_count": null,
   "metadata": {},
   "outputs": [],
   "source": [
    "from sklearn.model_selection import train_test_split\n",
    "from sklearn.naive_bayes import MultinomialNB\n",
    "from sklearn.metrics import accuracy_score, f1_score, precision_score, recall_score\n",
    "#splijtting datasets into training and testing sets for pseudomonas \n",
    "X_train, X_test, y_train, y_test= train_test_split(X2, new_lst3, test_size=0.20, random_state=42)\n",
    "#ask about grid search from Zhaoyi\n",
    "#use grid search to derive this conclusion, but I used this value for alpha for the time-being \n",
    "#alpha=additive smoothing parameter\n",
    "classifier = MultinomialNB (alpha=0.1)\n",
    "classifier.fit (X_train, y_train)\n",
    "y_pred=classifier.predict(X_test)\n",
    "\n",
    "print(\"Calculation of K-mers w Naive Bayes algo for Staphylococcus\")\n",
    "print(\"Confusion Matrix \\n\")\n",
    "print(pd.crosstab(pd.Series(y_test,name='Actual'), pd.Series(y_pred, name='Predicted')))\n",
    "def get_results(y_test, y_predicted):\n",
    "    accuracy=accuracy_score (y_test, y_predicted)\n",
    "    precision = precision_score (y_test, y_predicted, average='weighted')\n",
    "    recall=recall_score (y_test, y_predicted, average=\"weighted\")\n",
    "    f1=f1_score (y_test, y_predicted, average=\"weighted\")\n",
    "    return accuracy, precision, recall, f1\n",
    "accuracy, precision, recall, f1=get_results(y_test, y_pred)\n",
    "print(\"Accuracy = %.3f \\nprecision = %.3f \\nrecall = %.3f \\nf1 = %.3f\" % (accuracy, precision, recall,f1 ))"
   ]
  }
 ],
 "metadata": {
  "kernelspec": {
   "display_name": "Python 3",
   "language": "python",
   "name": "python3"
  },
  "language_info": {
   "codemirror_mode": {
    "name": "ipython",
    "version": 3
   },
   "file_extension": ".py",
   "mimetype": "text/x-python",
   "name": "python",
   "nbconvert_exporter": "python",
   "pygments_lexer": "ipython3",
   "version": "3.6.9"
  }
 },
 "nbformat": 4,
 "nbformat_minor": 4
}
