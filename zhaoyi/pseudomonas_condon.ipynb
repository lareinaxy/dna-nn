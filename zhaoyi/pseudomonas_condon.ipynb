{
 "cells": [
  {
   "cell_type": "code",
   "execution_count": 1,
   "metadata": {},
   "outputs": [],
   "source": [
    "import numpy as np\n",
    "import pandas as pd\n",
    "import matplotlib.pyplot as plt\n",
    "\n",
    "from load import load_pseudo, load_condons\n",
    "\n",
    "pd.options.display.precision = 3\n",
    "pd.options.display.max_colwidth = 10\n",
    "\n",
    "%matplotlib inline"
   ]
  },
  {
   "cell_type": "code",
   "execution_count": 2,
   "metadata": {
    "scrolled": false
   },
   "outputs": [
    {
     "name": "stdout",
     "output_type": "stream",
     "text": [
      "CPU times: user 5.22 s, sys: 106 ms, total: 5.33 s\n",
      "Wall time: 5.35 s\n"
     ]
    },
    {
     "data": {
      "text/html": [
       "<div>\n",
       "<style scoped>\n",
       "    .dataframe tbody tr th:only-of-type {\n",
       "        vertical-align: middle;\n",
       "    }\n",
       "\n",
       "    .dataframe tbody tr th {\n",
       "        vertical-align: top;\n",
       "    }\n",
       "\n",
       "    .dataframe thead th {\n",
       "        text-align: right;\n",
       "    }\n",
       "</style>\n",
       "<table border=\"1\" class=\"dataframe\">\n",
       "  <thead>\n",
       "    <tr style=\"text-align: right;\">\n",
       "      <th></th>\n",
       "      <th>id</th>\n",
       "      <th>sequence</th>\n",
       "      <th>missing</th>\n",
       "      <th>missing_%</th>\n",
       "      <th>sequence_i</th>\n",
       "      <th>missing_i</th>\n",
       "      <th>missing_%_i</th>\n",
       "      <th>carb</th>\n",
       "      <th>toby</th>\n",
       "    </tr>\n",
       "  </thead>\n",
       "  <tbody>\n",
       "    <tr>\n",
       "      <td>0</td>\n",
       "      <td>TA151</td>\n",
       "      <td>ATGAGT...</td>\n",
       "      <td>31842</td>\n",
       "      <td>6.588</td>\n",
       "      <td>ATGAGT...</td>\n",
       "      <td>28410</td>\n",
       "      <td>5.878</td>\n",
       "      <td>True</td>\n",
       "      <td>False</td>\n",
       "    </tr>\n",
       "    <tr>\n",
       "      <td>1</td>\n",
       "      <td>IC1</td>\n",
       "      <td>ATGAGT...</td>\n",
       "      <td>46071</td>\n",
       "      <td>9.532</td>\n",
       "      <td>ATGAGT...</td>\n",
       "      <td>34714</td>\n",
       "      <td>7.182</td>\n",
       "      <td>False</td>\n",
       "      <td>False</td>\n",
       "    </tr>\n",
       "    <tr>\n",
       "      <td>2</td>\n",
       "      <td>A237</td>\n",
       "      <td>ATGAGT...</td>\n",
       "      <td>44514</td>\n",
       "      <td>9.210</td>\n",
       "      <td>ATGAGT...</td>\n",
       "      <td>35933</td>\n",
       "      <td>7.434</td>\n",
       "      <td>True</td>\n",
       "      <td>False</td>\n",
       "    </tr>\n",
       "    <tr>\n",
       "      <td>3</td>\n",
       "      <td>5920</td>\n",
       "      <td>ATGAGT...</td>\n",
       "      <td>49497</td>\n",
       "      <td>10.241</td>\n",
       "      <td>ATGAGT...</td>\n",
       "      <td>36873</td>\n",
       "      <td>7.629</td>\n",
       "      <td>NaN</td>\n",
       "      <td>NaN</td>\n",
       "    </tr>\n",
       "    <tr>\n",
       "      <td>4</td>\n",
       "      <td>LiA96</td>\n",
       "      <td>ATGAGT...</td>\n",
       "      <td>44067</td>\n",
       "      <td>9.117</td>\n",
       "      <td>ATGAGT...</td>\n",
       "      <td>34454</td>\n",
       "      <td>7.128</td>\n",
       "      <td>False</td>\n",
       "      <td>False</td>\n",
       "    </tr>\n",
       "    <tr>\n",
       "      <td>...</td>\n",
       "      <td>...</td>\n",
       "      <td>...</td>\n",
       "      <td>...</td>\n",
       "      <td>...</td>\n",
       "      <td>...</td>\n",
       "      <td>...</td>\n",
       "      <td>...</td>\n",
       "      <td>...</td>\n",
       "      <td>...</td>\n",
       "    </tr>\n",
       "    <tr>\n",
       "      <td>117</td>\n",
       "      <td>JD318</td>\n",
       "      <td>------...</td>\n",
       "      <td>77766</td>\n",
       "      <td>16.090</td>\n",
       "      <td>ATGAGT...</td>\n",
       "      <td>39108</td>\n",
       "      <td>8.091</td>\n",
       "      <td>False</td>\n",
       "      <td>False</td>\n",
       "    </tr>\n",
       "    <tr>\n",
       "      <td>118</td>\n",
       "      <td>Jp238</td>\n",
       "      <td>------...</td>\n",
       "      <td>43062</td>\n",
       "      <td>8.909</td>\n",
       "      <td>ATGAGT...</td>\n",
       "      <td>32466</td>\n",
       "      <td>6.717</td>\n",
       "      <td>False</td>\n",
       "      <td>False</td>\n",
       "    </tr>\n",
       "    <tr>\n",
       "      <td>119</td>\n",
       "      <td>Jp1303</td>\n",
       "      <td>------...</td>\n",
       "      <td>44151</td>\n",
       "      <td>9.135</td>\n",
       "      <td>ATGAGT...</td>\n",
       "      <td>32792</td>\n",
       "      <td>6.785</td>\n",
       "      <td>False</td>\n",
       "      <td>False</td>\n",
       "    </tr>\n",
       "    <tr>\n",
       "      <td>120</td>\n",
       "      <td>JD304</td>\n",
       "      <td>------...</td>\n",
       "      <td>75465</td>\n",
       "      <td>15.613</td>\n",
       "      <td>ATGAGT...</td>\n",
       "      <td>38729</td>\n",
       "      <td>8.013</td>\n",
       "      <td>False</td>\n",
       "      <td>False</td>\n",
       "    </tr>\n",
       "    <tr>\n",
       "      <td>121</td>\n",
       "      <td>LiA131</td>\n",
       "      <td>------...</td>\n",
       "      <td>42507</td>\n",
       "      <td>8.795</td>\n",
       "      <td>ATGAGT...</td>\n",
       "      <td>33933</td>\n",
       "      <td>7.021</td>\n",
       "      <td>False</td>\n",
       "      <td>False</td>\n",
       "    </tr>\n",
       "  </tbody>\n",
       "</table>\n",
       "<p>122 rows × 9 columns</p>\n",
       "</div>"
      ],
      "text/plain": [
       "         id   sequence  missing  missing_% sequence_i  missing_i  missing_%_i  \\\n",
       "0     TA151  ATGAGT...    31842      6.588  ATGAGT...      28410      5.878     \n",
       "1       IC1  ATGAGT...    46071      9.532  ATGAGT...      34714      7.182     \n",
       "2      A237  ATGAGT...    44514      9.210  ATGAGT...      35933      7.434     \n",
       "3      5920  ATGAGT...    49497     10.241  ATGAGT...      36873      7.629     \n",
       "4     LiA96  ATGAGT...    44067      9.117  ATGAGT...      34454      7.128     \n",
       "..      ...        ...      ...        ...        ...        ...        ...     \n",
       "117   JD318  ------...    77766     16.090  ATGAGT...      39108      8.091     \n",
       "118   Jp238  ------...    43062      8.909  ATGAGT...      32466      6.717     \n",
       "119  Jp1303  ------...    44151      9.135  ATGAGT...      32792      6.785     \n",
       "120   JD304  ------...    75465     15.613  ATGAGT...      38729      8.013     \n",
       "121  LiA131  ------...    42507      8.795  ATGAGT...      33933      7.021     \n",
       "\n",
       "      carb   toby  \n",
       "0     True  False  \n",
       "1    False  False  \n",
       "2     True  False  \n",
       "3      NaN    NaN  \n",
       "4    False  False  \n",
       "..     ...    ...  \n",
       "117  False  False  \n",
       "118  False  False  \n",
       "119  False  False  \n",
       "120  False  False  \n",
       "121  False  False  \n",
       "\n",
       "[122 rows x 9 columns]"
      ]
     },
     "execution_count": 2,
     "metadata": {},
     "output_type": "execute_result"
    }
   ],
   "source": [
    "%time records = load_pseudo()\n",
    "records"
   ]
  },
  {
   "cell_type": "code",
   "execution_count": 3,
   "metadata": {},
   "outputs": [],
   "source": [
    "# 22 seconds\n",
    "# %time o_c = load_condons('../data/pseudo/concatenated.fasta')\n",
    "# %time i_c = load_condons('../data/pseudo/concatenated_naive_impute.fasta')"
   ]
  },
  {
   "cell_type": "markdown",
   "metadata": {},
   "source": [
    "# Feature selection"
   ]
  },
  {
   "cell_type": "code",
   "execution_count": 4,
   "metadata": {},
   "outputs": [],
   "source": [
    "# 1.5 minutes\n",
    "# d = {}\n",
    "# for label, content in o_c.iteritems():\n",
    "#     d.update(content.value_counts().to_dict())\n",
    "# d_sorted = dict(sorted(d.items(), key=lambda x: x[1], reverse=True))\n",
    "# mapping = {key: i for i, key in enumerate(d_sorted.keys())}\n",
    "\n",
    "# import json\n",
    "# with open('../data/pseudo/preprocess/others/condon_mapping.json', 'w') as output:\n",
    "#     json.dump(mapping, output, indent='\\t')"
   ]
  },
  {
   "cell_type": "code",
   "execution_count": 5,
   "metadata": {},
   "outputs": [],
   "source": [
    "import json\n",
    "with open('../data/pseudo/preprocess/others/condon_mapping.json', 'r') as input_:\n",
    "    mapping = json.load(input_)"
   ]
  },
  {
   "cell_type": "code",
   "execution_count": 6,
   "metadata": {},
   "outputs": [],
   "source": [
    "# 22 seconds\n",
    "# %time o_c_ = o_c.applymap(lambda x: mapping[x])\n",
    "# %time i_c_ = i_c.applymap(lambda x: mapping[x])\n",
    "# np.save('../data/pseudo/preprocess/o_c_-.npy', o_c_)\n",
    "# np.save('../data/pseudo/preprocess/i_c_-.npy', i_c_)"
   ]
  },
  {
   "cell_type": "code",
   "execution_count": 3,
   "metadata": {},
   "outputs": [],
   "source": [
    "o_c_ = np.load('../data/pseudo/preprocess/o_c_-.npy')\n",
    "i_c_ = np.load('../data/pseudo/preprocess/i_c_-.npy')"
   ]
  },
  {
   "cell_type": "code",
   "execution_count": 8,
   "metadata": {},
   "outputs": [],
   "source": [
    "mask = (records['toby'].notna() & records['carb'].notna())"
   ]
  },
  {
   "cell_type": "markdown",
   "metadata": {},
   "source": [
    "## Remove based on SNP counts\n",
    "similar to variance threshold but seems better"
   ]
  },
  {
   "cell_type": "code",
   "execution_count": 9,
   "metadata": {},
   "outputs": [],
   "source": [
    "# 2 minutes\n",
    "# %time variant_counts_o = o_c.apply(pd.Series.value_counts, axis=0)\n",
    "# %time variant_counts_i = i_c.apply(pd.Series.value_counts, axis=0)\n",
    "# np.save('../data/pseudo/preprocess/others/variant_counts_o.npy', variant_counts_o)\n",
    "# np.save('../data/pseudo/preprocess/others/variant_counts_i.npy', variant_counts_i)"
   ]
  },
  {
   "cell_type": "code",
   "execution_count": 10,
   "metadata": {},
   "outputs": [],
   "source": [
    "variant_counts_o = pd.DataFrame(np.load('../data/pseudo/preprocess/others/variant_counts_o.npy'))\n",
    "variant_counts_i = pd.DataFrame(np.load('../data/pseudo/preprocess/others/variant_counts_i.npy'))"
   ]
  },
  {
   "cell_type": "code",
   "execution_count": 11,
   "metadata": {},
   "outputs": [
    {
     "data": {
      "text/plain": [
       "True     85753\n",
       "False    75358\n",
       "dtype: int64"
      ]
     },
     "execution_count": 11,
     "metadata": {},
     "output_type": "execute_result"
    }
   ],
   "source": [
    "variant_max_counts_o = variant_counts_o.max()\n",
    "(pd.Series(variant_max_counts_o<121)).value_counts()"
   ]
  },
  {
   "cell_type": "code",
   "execution_count": 12,
   "metadata": {},
   "outputs": [
    {
     "data": {
      "text/plain": [
       "False    104920\n",
       "True      56191\n",
       "dtype: int64"
      ]
     },
     "execution_count": 12,
     "metadata": {},
     "output_type": "execute_result"
    }
   ],
   "source": [
    "variant_max_counts_i = variant_counts_i.max()\n",
    "(variant_max_counts_i<121).value_counts()"
   ]
  },
  {
   "cell_type": "code",
   "execution_count": 13,
   "metadata": {},
   "outputs": [],
   "source": [
    "o_c_v = o_c_[mask][:, variant_max_counts_o<121]\n",
    "i_c_v = i_c_[mask][:, variant_max_counts_i<121]"
   ]
  },
  {
   "cell_type": "code",
   "execution_count": 14,
   "metadata": {},
   "outputs": [],
   "source": [
    "np.save('../data/pseudo/preprocess/o_c_v.npy', o_c_v)\n",
    "np.save('../data/pseudo/preprocess/i_c_v.npy', i_c_v)"
   ]
  },
  {
   "cell_type": "markdown",
   "metadata": {},
   "source": [
    "## $\\chi^2$ on the previous result\n",
    "because some features are all 0's, so gives `divide by 0` warning\n",
    "\n",
    "no warning if we remove those features (on the previous step)"
   ]
  },
  {
   "cell_type": "code",
   "execution_count": 15,
   "metadata": {
    "scrolled": true
   },
   "outputs": [],
   "source": [
    "from sklearn.feature_selection import SelectKBest\n",
    "from sklearn.feature_selection import chi2"
   ]
  },
  {
   "cell_type": "code",
   "execution_count": 16,
   "metadata": {},
   "outputs": [
    {
     "data": {
      "text/plain": [
       "(119, 42876)"
      ]
     },
     "execution_count": 16,
     "metadata": {},
     "output_type": "execute_result"
    }
   ],
   "source": [
    "kbest_o = SelectKBest(chi2, k=85753//2).fit_transform(o_c_v, records['toby'][mask].astype('i4'))\n",
    "kbest_o.shape"
   ]
  },
  {
   "cell_type": "code",
   "execution_count": 17,
   "metadata": {},
   "outputs": [
    {
     "data": {
      "text/plain": [
       "(119, 28095)"
      ]
     },
     "execution_count": 17,
     "metadata": {},
     "output_type": "execute_result"
    }
   ],
   "source": [
    "kbest_i = SelectKBest(chi2, k=56191//2).fit_transform(i_c_v, records['toby'][mask].astype('i4'))\n",
    "kbest_i.shape"
   ]
  },
  {
   "cell_type": "code",
   "execution_count": 18,
   "metadata": {},
   "outputs": [],
   "source": [
    "np.save('../data/pseudo/preprocess/o_c_x.npy', kbest_o)\n",
    "np.save('../data/pseudo/preprocess/i_c_x.npy', kbest_i)"
   ]
  },
  {
   "cell_type": "markdown",
   "metadata": {},
   "source": [
    "# Feature extraction"
   ]
  },
  {
   "cell_type": "markdown",
   "metadata": {},
   "source": [
    "## String kernel"
   ]
  },
  {
   "cell_type": "code",
   "execution_count": 4,
   "metadata": {},
   "outputs": [],
   "source": [
    "from strkernel.mismatch_kernel import MismatchKernel"
   ]
  },
  {
   "cell_type": "code",
   "execution_count": null,
   "metadata": {},
   "outputs": [],
   "source": [
    "%time o_c__s = MismatchKernel(l=125, k=4, m=1).get_kernel(o_c_)"
   ]
  },
  {
   "cell_type": "code",
   "execution_count": null,
   "metadata": {},
   "outputs": [],
   "source": [
    "%time i_c__s = MismatchKernel(l=125, k=4, m=1).get_kernel(i_c_)"
   ]
  },
  {
   "cell_type": "code",
   "execution_count": null,
   "metadata": {},
   "outputs": [],
   "source": []
  }
 ],
 "metadata": {
  "kernelspec": {
   "display_name": "Python 3",
   "language": "python",
   "name": "python3"
  },
  "language_info": {
   "codemirror_mode": {
    "name": "ipython",
    "version": 3
   },
   "file_extension": ".py",
   "mimetype": "text/x-python",
   "name": "python",
   "nbconvert_exporter": "python",
   "pygments_lexer": "ipython3",
   "version": "3.7.4"
  }
 },
 "nbformat": 4,
 "nbformat_minor": 2
}
