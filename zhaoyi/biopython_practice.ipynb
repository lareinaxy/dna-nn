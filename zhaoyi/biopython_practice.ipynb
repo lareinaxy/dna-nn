{
 "cells": [
  {
   "cell_type": "code",
   "execution_count": 4,
   "metadata": {},
   "outputs": [],
   "source": [
    "from Bio.Cluster import distancematrix"
   ]
  },
  {
   "cell_type": "code",
   "execution_count": 5,
   "metadata": {},
   "outputs": [],
   "source": [
    "import numpy as np"
   ]
  },
  {
   "cell_type": "code",
   "execution_count": 8,
   "metadata": {},
   "outputs": [
    {
     "data": {
      "text/plain": [
       "[array([], dtype=float64),\n",
       " array([16.]),\n",
       " array([64., 16.]),\n",
       " array([ 1.,  9., 49.])]"
      ]
     },
     "execution_count": 8,
     "metadata": {},
     "output_type": "execute_result"
    }
   ],
   "source": [
    "data = np.array([[0, 1,  2,  3],\n",
    "                 [4, 5,  6,  7],\n",
    "                 [8, 9, 10, 11],\n",
    "                 [1, 2,  3,  4]])\n",
    "distancematrix(data)"
   ]
  },
  {
   "cell_type": "code",
   "execution_count": 18,
   "metadata": {},
   "outputs": [
    {
     "data": {
      "text/plain": [
       "[array([], dtype=float64),\n",
       " array([12.5]),\n",
       " array([30.5,  4. ]),\n",
       " array([ 2.5,  4. , 16. ])]"
      ]
     },
     "execution_count": 18,
     "metadata": {},
     "output_type": "execute_result"
    }
   ],
   "source": [
    "data = np.array([[0, 0],\n",
    "                 [3, 4],\n",
    "                 [5, 6],\n",
    "                 [1, 2]])\n",
    "distancematrix(data, transpose=False, dist='e')"
   ]
  },
  {
   "cell_type": "code",
   "execution_count": 13,
   "metadata": {},
   "outputs": [
    {
     "data": {
      "text/plain": [
       "array([[ 0., 16., 64.,  1.],\n",
       "       [16.,  0., 16.,  9.],\n",
       "       [64., 16.,  0., 49.],\n",
       "       [ 1.,  9., 49.,  0.]])"
      ]
     },
     "execution_count": 13,
     "metadata": {},
     "output_type": "execute_result"
    }
   ],
   "source": [
    "np.array([[ 0., 16., 64., 1.], [16., 0., 16., 9.], [64., 16., 0., 49.], [ 1., 9., 49., 0.]])"
   ]
  },
  {
   "cell_type": "code",
   "execution_count": null,
   "metadata": {},
   "outputs": [],
   "source": []
  }
 ],
 "metadata": {
  "kernelspec": {
   "display_name": "Python 3",
   "language": "python",
   "name": "python3"
  },
  "language_info": {
   "codemirror_mode": {
    "name": "ipython",
    "version": 3
   },
   "file_extension": ".py",
   "mimetype": "text/x-python",
   "name": "python",
   "nbconvert_exporter": "python",
   "pygments_lexer": "ipython3",
   "version": "3.7.4"
  }
 },
 "nbformat": 4,
 "nbformat_minor": 2
}
