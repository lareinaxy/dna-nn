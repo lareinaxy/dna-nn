{
 "cells": [
  {
   "cell_type": "code",
   "execution_count": 1,
   "metadata": {},
   "outputs": [],
   "source": [
    "import numpy as np\n",
    "import pandas as pd\n",
    "\n",
    "from load import load_staph\n",
    "\n",
    "pd.options.display.precision = 3\n",
    "pd.options.display.max_colwidth = 12\n",
    "\n",
    "%matplotlib inline"
   ]
  },
  {
   "cell_type": "code",
   "execution_count": 2,
   "metadata": {},
   "outputs": [
    {
     "data": {
      "text/html": [
       "<div>\n",
       "<style scoped>\n",
       "    .dataframe tbody tr th:only-of-type {\n",
       "        vertical-align: middle;\n",
       "    }\n",
       "\n",
       "    .dataframe tbody tr th {\n",
       "        vertical-align: top;\n",
       "    }\n",
       "\n",
       "    .dataframe thead th {\n",
       "        text-align: right;\n",
       "    }\n",
       "</style>\n",
       "<table border=\"1\" class=\"dataframe\">\n",
       "  <thead>\n",
       "    <tr style=\"text-align: right;\">\n",
       "      <th></th>\n",
       "      <th>id</th>\n",
       "      <th>sequence</th>\n",
       "      <th>missing</th>\n",
       "      <th>missing_%</th>\n",
       "      <th>sequence_i</th>\n",
       "      <th>missing_i</th>\n",
       "      <th>missing_%_i</th>\n",
       "      <th>resp</th>\n",
       "      <th>Total.Area</th>\n",
       "    </tr>\n",
       "  </thead>\n",
       "  <tbody>\n",
       "    <tr>\n",
       "      <td>0</td>\n",
       "      <td>NRS001</td>\n",
       "      <td>ATGAACAT...</td>\n",
       "      <td>2511</td>\n",
       "      <td>0.255</td>\n",
       "      <td>ATGAACAT...</td>\n",
       "      <td>2356</td>\n",
       "      <td>0.240</td>\n",
       "      <td>False</td>\n",
       "      <td>0.000</td>\n",
       "    </tr>\n",
       "    <tr>\n",
       "      <td>1</td>\n",
       "      <td>NRS002</td>\n",
       "      <td>--------...</td>\n",
       "      <td>25278</td>\n",
       "      <td>2.571</td>\n",
       "      <td>ATGAACAT...</td>\n",
       "      <td>2236</td>\n",
       "      <td>0.227</td>\n",
       "      <td>False</td>\n",
       "      <td>0.000</td>\n",
       "    </tr>\n",
       "    <tr>\n",
       "      <td>2</td>\n",
       "      <td>NRS003</td>\n",
       "      <td>ATGAACAT...</td>\n",
       "      <td>48213</td>\n",
       "      <td>4.904</td>\n",
       "      <td>ATGAACAT...</td>\n",
       "      <td>2253</td>\n",
       "      <td>0.229</td>\n",
       "      <td>False</td>\n",
       "      <td>0.000</td>\n",
       "    </tr>\n",
       "    <tr>\n",
       "      <td>3</td>\n",
       "      <td>NRS021</td>\n",
       "      <td>ATGAAAAT...</td>\n",
       "      <td>2442</td>\n",
       "      <td>0.248</td>\n",
       "      <td>ATGAAAAT...</td>\n",
       "      <td>2088</td>\n",
       "      <td>0.212</td>\n",
       "      <td>False</td>\n",
       "      <td>473.152</td>\n",
       "    </tr>\n",
       "    <tr>\n",
       "      <td>4</td>\n",
       "      <td>NRS022</td>\n",
       "      <td>ATGAACAT...</td>\n",
       "      <td>3885</td>\n",
       "      <td>0.395</td>\n",
       "      <td>ATGAACAT...</td>\n",
       "      <td>2154</td>\n",
       "      <td>0.219</td>\n",
       "      <td>False</td>\n",
       "      <td>6686.806</td>\n",
       "    </tr>\n",
       "  </tbody>\n",
       "</table>\n",
       "</div>"
      ],
      "text/plain": [
       "       id     sequence  missing  missing_%   sequence_i  missing_i  \\\n",
       "0  NRS001  ATGAACAT...     2511      0.255  ATGAACAT...       2356   \n",
       "1  NRS002  --------...    25278      2.571  ATGAACAT...       2236   \n",
       "2  NRS003  ATGAACAT...    48213      4.904  ATGAACAT...       2253   \n",
       "3  NRS021  ATGAAAAT...     2442      0.248  ATGAAAAT...       2088   \n",
       "4  NRS022  ATGAACAT...     3885      0.395  ATGAACAT...       2154   \n",
       "\n",
       "   missing_%_i   resp  Total.Area  \n",
       "0        0.240  False       0.000  \n",
       "1        0.227  False       0.000  \n",
       "2        0.229  False       0.000  \n",
       "3        0.212  False     473.152  \n",
       "4        0.219  False    6686.806  "
      ]
     },
     "execution_count": 2,
     "metadata": {},
     "output_type": "execute_result"
    }
   ],
   "source": [
    "records = load_staph(True)\n",
    "mask = records['resp'].notna()\n",
    "records.head()"
   ]
  },
  {
   "cell_type": "code",
   "execution_count": 3,
   "metadata": {},
   "outputs": [],
   "source": [
    "import os\n",
    "\n",
    "random_state = 42\n",
    "\n",
    "s = {'{}_{}_{}_{}.npy'.format(impute, nc, selection, extraction)\n",
    "     for impute in 'io'\n",
    "     for nc in 'nc'\n",
    "     for selection in '-vx'\n",
    "     for extraction in '-pts'}\n",
    "\n",
    "# numerical data\n",
    "data_u = {d: np.load(os.path.join('../data/staph/preprocess', d)) for d in s}\n",
    "for k, v in data_u.items():\n",
    "    if v.shape[0] != 124:\n",
    "        print(k)\n",
    "\n",
    "# one-hot encoded data\n",
    "data_e = {d: np.load(os.path.join('../data/staph/preprocess/onehot', d)) for d in s}"
   ]
  },
  {
   "cell_type": "code",
   "execution_count": 4,
   "metadata": {},
   "outputs": [],
   "source": [
    "from sklearn.model_selection import train_test_split"
   ]
  },
  {
   "cell_type": "markdown",
   "metadata": {},
   "source": [
    "# Classification"
   ]
  },
  {
   "cell_type": "code",
   "execution_count": 5,
   "metadata": {},
   "outputs": [],
   "source": [
    "from sklearn.metrics import accuracy_score, balanced_accuracy_score, f1_score, roc_auc_score\n",
    "from sklearn.linear_model import LogisticRegression\n",
    "from sklearn.ensemble import RandomForestClassifier\n",
    "from sklearn.svm import SVC"
   ]
  },
  {
   "cell_type": "code",
   "execution_count": 6,
   "metadata": {},
   "outputs": [],
   "source": [
    "# silence warning for getting 0 on f1 score\n",
    "from sklearn.exceptions import UndefinedMetricWarning\n",
    "import warnings\n",
    "warnings.filterwarnings('ignore', category=UndefinedMetricWarning)"
   ]
  },
  {
   "cell_type": "code",
   "execution_count": 8,
   "metadata": {},
   "outputs": [],
   "source": [
    "y_c = records['resp'][mask].astype('?')\n",
    "metrics_c = [accuracy_score, balanced_accuracy_score, f1_score, roc_auc_score]"
   ]
  },
  {
   "cell_type": "code",
   "execution_count": 9,
   "metadata": {},
   "outputs": [],
   "source": [
    "def train_clfs(clf, model, encode):\n",
    "    results = []\n",
    "    data = data_e if encode else data_u\n",
    "    for d, X in data.items():\n",
    "        X_train, X_test, y_train, y_test = train_test_split(X, y_c, random_state=random_state,\n",
    "                                                            stratify=y_c, train_size=0.7)\n",
    "        clf.fit(X_train, y_train)\n",
    "        y_pred = clf.predict(X_test)\n",
    "        m = {metric.__name__.replace('_score', ''): metric(y_test, y_pred)\n",
    "             for metric in metrics_c}\n",
    "        m.update({'file': d, 'encode': encode, 'model': model})\n",
    "        results.append(m)\n",
    "    return results"
   ]
  },
  {
   "cell_type": "markdown",
   "metadata": {},
   "source": [
    "### Logistic regression"
   ]
  },
  {
   "cell_type": "code",
   "execution_count": 10,
   "metadata": {
    "scrolled": true
   },
   "outputs": [
    {
     "name": "stdout",
     "output_type": "stream",
     "text": [
      "CPU times: user 1min 31s, sys: 8.09 s, total: 1min 39s\n",
      "Wall time: 3min 51s\n",
      "CPU times: user 4min, sys: 14.6 s, total: 4min 14s\n",
      "Wall time: 4min 13s\n"
     ]
    }
   ],
   "source": [
    "# 4*2 minutes\n",
    "lr = LogisticRegression(penalty='none', class_weight='balanced',\n",
    "                         solver='lbfgs', max_iter=2000, n_jobs=5, warm_start=False)\n",
    "%time lr_u = train_clfs(lr, 'logistic', False)\n",
    "%time lr_e = train_clfs(lr, 'logistic', True)"
   ]
  },
  {
   "cell_type": "markdown",
   "metadata": {},
   "source": [
    "###  Random forest"
   ]
  },
  {
   "cell_type": "code",
   "execution_count": 11,
   "metadata": {
    "scrolled": true
   },
   "outputs": [
    {
     "name": "stdout",
     "output_type": "stream",
     "text": [
      "CPU times: user 1min 24s, sys: 9.95 s, total: 1min 34s\n",
      "Wall time: 59.3 s\n",
      "CPU times: user 1min 31s, sys: 8.63 s, total: 1min 40s\n",
      "Wall time: 54.5 s\n"
     ]
    }
   ],
   "source": [
    "# 1*2 minutes\n",
    "rfc = RandomForestClassifier(n_estimators=500, n_jobs=5, class_weight='balanced')\n",
    "%time rfc_u = train_clfs(rfc, 'rf', False)\n",
    "%time rfc_e = train_clfs(rfc, 'rf', True)"
   ]
  },
  {
   "cell_type": "markdown",
   "metadata": {},
   "source": [
    "###  Support vector machine"
   ]
  },
  {
   "cell_type": "code",
   "execution_count": 12,
   "metadata": {},
   "outputs": [
    {
     "name": "stdout",
     "output_type": "stream",
     "text": [
      "CPU times: user 1min 43s, sys: 3.51 s, total: 1min 47s\n",
      "Wall time: 1min 47s\n",
      "CPU times: user 2min 25s, sys: 2.42 s, total: 2min 28s\n",
      "Wall time: 2min 28s\n"
     ]
    }
   ],
   "source": [
    "# 1.75 and 2.5 minutes\n",
    "svc = SVC(gamma='auto', class_weight='balanced')\n",
    "%time svc_u = train_clfs(svc, 'svm', False)\n",
    "%time svc_e = train_clfs(svc, 'svm', True)"
   ]
  },
  {
   "cell_type": "markdown",
   "metadata": {},
   "source": [
    "### Results"
   ]
  },
  {
   "cell_type": "code",
   "execution_count": 13,
   "metadata": {},
   "outputs": [
    {
     "data": {
      "text/html": [
       "<div>\n",
       "<style scoped>\n",
       "    .dataframe tbody tr th:only-of-type {\n",
       "        vertical-align: middle;\n",
       "    }\n",
       "\n",
       "    .dataframe tbody tr th {\n",
       "        vertical-align: top;\n",
       "    }\n",
       "\n",
       "    .dataframe thead th {\n",
       "        text-align: right;\n",
       "    }\n",
       "</style>\n",
       "<table border=\"1\" class=\"dataframe\">\n",
       "  <thead>\n",
       "    <tr style=\"text-align: right;\">\n",
       "      <th></th>\n",
       "      <th>accuracy</th>\n",
       "      <th>balanced_accuracy</th>\n",
       "      <th>f1</th>\n",
       "      <th>roc_auc</th>\n",
       "      <th>file</th>\n",
       "      <th>encode</th>\n",
       "      <th>model</th>\n",
       "    </tr>\n",
       "  </thead>\n",
       "  <tbody>\n",
       "    <tr>\n",
       "      <td>0</td>\n",
       "      <td>0.842</td>\n",
       "      <td>0.500</td>\n",
       "      <td>0.000</td>\n",
       "      <td>0.500</td>\n",
       "      <td>o_n_v_s.npy</td>\n",
       "      <td>True</td>\n",
       "      <td>logistic</td>\n",
       "    </tr>\n",
       "    <tr>\n",
       "      <td>1</td>\n",
       "      <td>0.842</td>\n",
       "      <td>0.500</td>\n",
       "      <td>0.000</td>\n",
       "      <td>0.500</td>\n",
       "      <td>i_n_x_t.npy</td>\n",
       "      <td>True</td>\n",
       "      <td>logistic</td>\n",
       "    </tr>\n",
       "    <tr>\n",
       "      <td>2</td>\n",
       "      <td>0.842</td>\n",
       "      <td>0.500</td>\n",
       "      <td>0.000</td>\n",
       "      <td>0.500</td>\n",
       "      <td>i_c_-_p.npy</td>\n",
       "      <td>True</td>\n",
       "      <td>logistic</td>\n",
       "    </tr>\n",
       "    <tr>\n",
       "      <td>3</td>\n",
       "      <td>0.868</td>\n",
       "      <td>0.651</td>\n",
       "      <td>0.444</td>\n",
       "      <td>0.651</td>\n",
       "      <td>o_n_v_-.npy</td>\n",
       "      <td>True</td>\n",
       "      <td>logistic</td>\n",
       "    </tr>\n",
       "    <tr>\n",
       "      <td>4</td>\n",
       "      <td>0.842</td>\n",
       "      <td>0.500</td>\n",
       "      <td>0.000</td>\n",
       "      <td>0.500</td>\n",
       "      <td>o_c_x_t.npy</td>\n",
       "      <td>True</td>\n",
       "      <td>logistic</td>\n",
       "    </tr>\n",
       "  </tbody>\n",
       "</table>\n",
       "</div>"
      ],
      "text/plain": [
       "   accuracy  balanced_accuracy     f1  roc_auc         file  encode     model\n",
       "0     0.842        0.500        0.000    0.500  o_n_v_s.npy    True  logistic\n",
       "1     0.842        0.500        0.000    0.500  i_n_x_t.npy    True  logistic\n",
       "2     0.842        0.500        0.000    0.500  i_c_-_p.npy    True  logistic\n",
       "3     0.868        0.651        0.444    0.651  o_n_v_-.npy    True  logistic\n",
       "4     0.842        0.500        0.000    0.500  o_c_x_t.npy    True  logistic"
      ]
     },
     "execution_count": 13,
     "metadata": {},
     "output_type": "execute_result"
    }
   ],
   "source": [
    "results_c = pd.DataFrame(lr_e + lr_u + rfc_u + rfc_e + svc_u + svc_e)\n",
    "results_c.to_csv('result/result_staph_clf.csv', index=False)\n",
    "results_c.head()"
   ]
  },
  {
   "cell_type": "code",
   "execution_count": 14,
   "metadata": {},
   "outputs": [
    {
     "data": {
      "text/html": [
       "<div>\n",
       "<style scoped>\n",
       "    .dataframe tbody tr th:only-of-type {\n",
       "        vertical-align: middle;\n",
       "    }\n",
       "\n",
       "    .dataframe tbody tr th {\n",
       "        vertical-align: top;\n",
       "    }\n",
       "\n",
       "    .dataframe thead th {\n",
       "        text-align: right;\n",
       "    }\n",
       "</style>\n",
       "<table border=\"1\" class=\"dataframe\">\n",
       "  <thead>\n",
       "    <tr style=\"text-align: right;\">\n",
       "      <th></th>\n",
       "      <th>accuracy</th>\n",
       "      <th>balanced_accuracy</th>\n",
       "      <th>f1</th>\n",
       "      <th>roc_auc</th>\n",
       "      <th>file</th>\n",
       "      <th>encode</th>\n",
       "      <th>model</th>\n",
       "    </tr>\n",
       "  </thead>\n",
       "  <tbody>\n",
       "    <tr>\n",
       "      <td>82</td>\n",
       "      <td>0.711</td>\n",
       "      <td>0.828</td>\n",
       "      <td>0.522</td>\n",
       "      <td>0.828</td>\n",
       "      <td>i_c_-_t.npy</td>\n",
       "      <td>False</td>\n",
       "      <td>logistic</td>\n",
       "    </tr>\n",
       "    <tr>\n",
       "      <td>93</td>\n",
       "      <td>0.895</td>\n",
       "      <td>0.667</td>\n",
       "      <td>0.500</td>\n",
       "      <td>0.667</td>\n",
       "      <td>o_n_-_-.npy</td>\n",
       "      <td>False</td>\n",
       "      <td>logistic</td>\n",
       "    </tr>\n",
       "    <tr>\n",
       "      <td>51</td>\n",
       "      <td>0.895</td>\n",
       "      <td>0.667</td>\n",
       "      <td>0.500</td>\n",
       "      <td>0.667</td>\n",
       "      <td>o_n_v_-.npy</td>\n",
       "      <td>False</td>\n",
       "      <td>logistic</td>\n",
       "    </tr>\n",
       "    <tr>\n",
       "      <td>221</td>\n",
       "      <td>0.895</td>\n",
       "      <td>0.667</td>\n",
       "      <td>0.500</td>\n",
       "      <td>0.667</td>\n",
       "      <td>i_c_-_-.npy</td>\n",
       "      <td>False</td>\n",
       "      <td>svm</td>\n",
       "    </tr>\n",
       "    <tr>\n",
       "      <td>141</td>\n",
       "      <td>0.895</td>\n",
       "      <td>0.667</td>\n",
       "      <td>0.500</td>\n",
       "      <td>0.667</td>\n",
       "      <td>o_n_-_-.npy</td>\n",
       "      <td>False</td>\n",
       "      <td>rf</td>\n",
       "    </tr>\n",
       "    <tr>\n",
       "      <td>...</td>\n",
       "      <td>...</td>\n",
       "      <td>...</td>\n",
       "      <td>...</td>\n",
       "      <td>...</td>\n",
       "      <td>...</td>\n",
       "      <td>...</td>\n",
       "      <td>...</td>\n",
       "    </tr>\n",
       "    <tr>\n",
       "      <td>148</td>\n",
       "      <td>0.842</td>\n",
       "      <td>0.500</td>\n",
       "      <td>0.000</td>\n",
       "      <td>0.500</td>\n",
       "      <td>o_c_x_t.npy</td>\n",
       "      <td>True</td>\n",
       "      <td>rf</td>\n",
       "    </tr>\n",
       "    <tr>\n",
       "      <td>150</td>\n",
       "      <td>0.842</td>\n",
       "      <td>0.500</td>\n",
       "      <td>0.000</td>\n",
       "      <td>0.500</td>\n",
       "      <td>o_c_v_p.npy</td>\n",
       "      <td>True</td>\n",
       "      <td>rf</td>\n",
       "    </tr>\n",
       "    <tr>\n",
       "      <td>152</td>\n",
       "      <td>0.842</td>\n",
       "      <td>0.500</td>\n",
       "      <td>0.000</td>\n",
       "      <td>0.500</td>\n",
       "      <td>o_n_x_p.npy</td>\n",
       "      <td>True</td>\n",
       "      <td>rf</td>\n",
       "    </tr>\n",
       "    <tr>\n",
       "      <td>153</td>\n",
       "      <td>0.842</td>\n",
       "      <td>0.500</td>\n",
       "      <td>0.000</td>\n",
       "      <td>0.500</td>\n",
       "      <td>i_n_-_t.npy</td>\n",
       "      <td>True</td>\n",
       "      <td>rf</td>\n",
       "    </tr>\n",
       "    <tr>\n",
       "      <td>144</td>\n",
       "      <td>0.842</td>\n",
       "      <td>0.500</td>\n",
       "      <td>0.000</td>\n",
       "      <td>0.500</td>\n",
       "      <td>o_n_v_s.npy</td>\n",
       "      <td>True</td>\n",
       "      <td>rf</td>\n",
       "    </tr>\n",
       "  </tbody>\n",
       "</table>\n",
       "<p>288 rows × 7 columns</p>\n",
       "</div>"
      ],
      "text/plain": [
       "     accuracy  balanced_accuracy     f1  roc_auc         file  encode  \\\n",
       "82      0.711        0.828        0.522    0.828  i_c_-_t.npy   False   \n",
       "93      0.895        0.667        0.500    0.667  o_n_-_-.npy   False   \n",
       "51      0.895        0.667        0.500    0.667  o_n_v_-.npy   False   \n",
       "221     0.895        0.667        0.500    0.667  i_c_-_-.npy   False   \n",
       "141     0.895        0.667        0.500    0.667  o_n_-_-.npy   False   \n",
       "..        ...          ...          ...      ...          ...     ...   \n",
       "148     0.842        0.500        0.000    0.500  o_c_x_t.npy    True   \n",
       "150     0.842        0.500        0.000    0.500  o_c_v_p.npy    True   \n",
       "152     0.842        0.500        0.000    0.500  o_n_x_p.npy    True   \n",
       "153     0.842        0.500        0.000    0.500  i_n_-_t.npy    True   \n",
       "144     0.842        0.500        0.000    0.500  o_n_v_s.npy    True   \n",
       "\n",
       "        model  \n",
       "82   logistic  \n",
       "93   logistic  \n",
       "51   logistic  \n",
       "221       svm  \n",
       "141        rf  \n",
       "..        ...  \n",
       "148        rf  \n",
       "150        rf  \n",
       "152        rf  \n",
       "153        rf  \n",
       "144        rf  \n",
       "\n",
       "[288 rows x 7 columns]"
      ]
     },
     "execution_count": 14,
     "metadata": {},
     "output_type": "execute_result"
    }
   ],
   "source": [
    "results_c.sort_values(by=['f1'], ascending=False)"
   ]
  },
  {
   "cell_type": "markdown",
   "metadata": {},
   "source": [
    "# Regression"
   ]
  },
  {
   "cell_type": "code",
   "execution_count": 16,
   "metadata": {},
   "outputs": [],
   "source": [
    "from sklearn.metrics import r2_score, mean_squared_error\n",
    "from sklearn.linear_model import LinearRegression\n",
    "from sklearn.ensemble import RandomForestRegressor\n",
    "from sklearn.svm import SVR"
   ]
  },
  {
   "cell_type": "code",
   "execution_count": 17,
   "metadata": {},
   "outputs": [],
   "source": [
    "y_r = records['carb_num'][mask]\n",
    "metrics_r = [r2_score, mean_squared_error]"
   ]
  },
  {
   "cell_type": "code",
   "execution_count": 22,
   "metadata": {},
   "outputs": [],
   "source": [
    "def train_regs(reg, model, encode):\n",
    "    results = []\n",
    "    data = data_e if encode else data_u\n",
    "    for d, X in data.items():\n",
    "        X_train, X_test, y_train, y_test = train_test_split(X, y_r, random_state=random_state,\n",
    "                                                            train_size=0.7)\n",
    "        reg.fit(X_train, y_train)\n",
    "        y_pred = reg.predict(X_test)\n",
    "        m = {metric.__name__.replace('_score', ''): metric(y_test, y_pred)\n",
    "             for metric in metrics_r}\n",
    "        m.update({'file': d, 'encode': encode, 'model': model})\n",
    "        results.append(m)\n",
    "    return results"
   ]
  },
  {
   "cell_type": "markdown",
   "metadata": {},
   "source": [
    "### Linear regression"
   ]
  },
  {
   "cell_type": "code",
   "execution_count": 23,
   "metadata": {},
   "outputs": [
    {
     "name": "stdout",
     "output_type": "stream",
     "text": [
      "CPU times: user 4min 48s, sys: 11.1 s, total: 4min 59s\n",
      "Wall time: 15.1 s\n",
      "CPU times: user 8min 48s, sys: 18.1 s, total: 9min 7s\n",
      "Wall time: 20.1 s\n"
     ]
    }
   ],
   "source": [
    "lrr = LinearRegression(n_jobs=5)\n",
    "%time lrr_u = train_regs(lrr, 'linear', False)\n",
    "%time lrr_e = train_regs(lrr, 'linear', True)"
   ]
  },
  {
   "cell_type": "markdown",
   "metadata": {},
   "source": [
    "### Random forest"
   ]
  },
  {
   "cell_type": "code",
   "execution_count": null,
   "metadata": {},
   "outputs": [
    {
     "name": "stdout",
     "output_type": "stream",
     "text": [
      "CPU times: user 1h 38min, sys: 7.95 s, total: 1h 38min 8s\n",
      "Wall time: 20min 15s\n"
     ]
    }
   ],
   "source": [
    "# 20*2 minutes\n",
    "rfr = RandomForestRegressor(n_estimators=500, n_jobs=5)\n",
    "%time rfr_u = train_regs(rfr, 'rf', False)\n",
    "%time rfr_e = train_regs(rfr, 'rf', True)"
   ]
  },
  {
   "cell_type": "markdown",
   "metadata": {},
   "source": [
    "### Support vector machine"
   ]
  },
  {
   "cell_type": "code",
   "execution_count": null,
   "metadata": {},
   "outputs": [],
   "source": [
    "svr = SVR(gamma='auto')\n",
    "%time svr_u = train_regs(svr, 'svm', False)\n",
    "%time svr_e = train_regs(svr, 'svm', True)"
   ]
  },
  {
   "cell_type": "code",
   "execution_count": null,
   "metadata": {},
   "outputs": [],
   "source": [
    "results_r = pd.DataFrame(lrr_e + lrr_u + rfr_u + rfr_e + svr_u + svr_e)\n",
    "results_r.to_csv('result/result_staph_reg.csv', index=False)\n",
    "results_r.head()"
   ]
  },
  {
   "cell_type": "code",
   "execution_count": null,
   "metadata": {},
   "outputs": [],
   "source": [
    "results_r.sort_values(by=['f1'], ascending=False)"
   ]
  }
 ],
 "metadata": {
  "kernelspec": {
   "display_name": "Python 3",
   "language": "python",
   "name": "python3"
  },
  "language_info": {
   "codemirror_mode": {
    "name": "ipython",
    "version": 3
   },
   "file_extension": ".py",
   "mimetype": "text/x-python",
   "name": "python",
   "nbconvert_exporter": "python",
   "pygments_lexer": "ipython3",
   "version": "3.7.4"
  }
 },
 "nbformat": 4,
 "nbformat_minor": 2
}
