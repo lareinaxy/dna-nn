{
 "cells": [
  {
   "cell_type": "code",
   "execution_count": 1,
   "metadata": {},
   "outputs": [],
   "source": [
    "import numpy as np\n",
    "import pandas as pd\n",
    "\n",
    "from load import load_staph\n",
    "\n",
    "pd.options.display.precision = 3\n",
    "pd.options.display.max_colwidth = 12\n",
    "\n",
    "%matplotlib inline"
   ]
  },
  {
   "cell_type": "code",
   "execution_count": 2,
   "metadata": {},
   "outputs": [
    {
     "data": {
      "text/html": [
       "<div>\n",
       "<style scoped>\n",
       "    .dataframe tbody tr th:only-of-type {\n",
       "        vertical-align: middle;\n",
       "    }\n",
       "\n",
       "    .dataframe tbody tr th {\n",
       "        vertical-align: top;\n",
       "    }\n",
       "\n",
       "    .dataframe thead th {\n",
       "        text-align: right;\n",
       "    }\n",
       "</style>\n",
       "<table border=\"1\" class=\"dataframe\">\n",
       "  <thead>\n",
       "    <tr style=\"text-align: right;\">\n",
       "      <th></th>\n",
       "      <th>id</th>\n",
       "      <th>sequence</th>\n",
       "      <th>missing</th>\n",
       "      <th>missing_%</th>\n",
       "      <th>sequence_i</th>\n",
       "      <th>missing_i</th>\n",
       "      <th>missing_%_i</th>\n",
       "      <th>resp</th>\n",
       "      <th>Total.Area</th>\n",
       "    </tr>\n",
       "  </thead>\n",
       "  <tbody>\n",
       "    <tr>\n",
       "      <td>0</td>\n",
       "      <td>NRS001</td>\n",
       "      <td>ATGAACAT...</td>\n",
       "      <td>2511</td>\n",
       "      <td>0.255</td>\n",
       "      <td>ATGAACAT...</td>\n",
       "      <td>2356</td>\n",
       "      <td>0.240</td>\n",
       "      <td>False</td>\n",
       "      <td>0.000</td>\n",
       "    </tr>\n",
       "    <tr>\n",
       "      <td>1</td>\n",
       "      <td>NRS002</td>\n",
       "      <td>--------...</td>\n",
       "      <td>25278</td>\n",
       "      <td>2.571</td>\n",
       "      <td>ATGAACAT...</td>\n",
       "      <td>2236</td>\n",
       "      <td>0.227</td>\n",
       "      <td>False</td>\n",
       "      <td>0.000</td>\n",
       "    </tr>\n",
       "    <tr>\n",
       "      <td>2</td>\n",
       "      <td>NRS003</td>\n",
       "      <td>ATGAACAT...</td>\n",
       "      <td>48213</td>\n",
       "      <td>4.904</td>\n",
       "      <td>ATGAACAT...</td>\n",
       "      <td>2253</td>\n",
       "      <td>0.229</td>\n",
       "      <td>False</td>\n",
       "      <td>0.000</td>\n",
       "    </tr>\n",
       "    <tr>\n",
       "      <td>3</td>\n",
       "      <td>NRS021</td>\n",
       "      <td>ATGAAAAT...</td>\n",
       "      <td>2442</td>\n",
       "      <td>0.248</td>\n",
       "      <td>ATGAAAAT...</td>\n",
       "      <td>2088</td>\n",
       "      <td>0.212</td>\n",
       "      <td>False</td>\n",
       "      <td>473.152</td>\n",
       "    </tr>\n",
       "    <tr>\n",
       "      <td>4</td>\n",
       "      <td>NRS022</td>\n",
       "      <td>ATGAACAT...</td>\n",
       "      <td>3885</td>\n",
       "      <td>0.395</td>\n",
       "      <td>ATGAACAT...</td>\n",
       "      <td>2154</td>\n",
       "      <td>0.219</td>\n",
       "      <td>False</td>\n",
       "      <td>6686.806</td>\n",
       "    </tr>\n",
       "  </tbody>\n",
       "</table>\n",
       "</div>"
      ],
      "text/plain": [
       "       id     sequence  missing  missing_%   sequence_i  missing_i  \\\n",
       "0  NRS001  ATGAACAT...     2511      0.255  ATGAACAT...       2356   \n",
       "1  NRS002  --------...    25278      2.571  ATGAACAT...       2236   \n",
       "2  NRS003  ATGAACAT...    48213      4.904  ATGAACAT...       2253   \n",
       "3  NRS021  ATGAAAAT...     2442      0.248  ATGAAAAT...       2088   \n",
       "4  NRS022  ATGAACAT...     3885      0.395  ATGAACAT...       2154   \n",
       "\n",
       "   missing_%_i   resp  Total.Area  \n",
       "0        0.240  False       0.000  \n",
       "1        0.227  False       0.000  \n",
       "2        0.229  False       0.000  \n",
       "3        0.212  False     473.152  \n",
       "4        0.219  False    6686.806  "
      ]
     },
     "execution_count": 2,
     "metadata": {},
     "output_type": "execute_result"
    }
   ],
   "source": [
    "records = load_staph(True)\n",
    "mask = records['resp'].notna()\n",
    "records.head()"
   ]
  },
  {
   "cell_type": "code",
   "execution_count": 3,
   "metadata": {},
   "outputs": [],
   "source": [
    "import os\n",
    "\n",
    "random_state = 42\n",
    "\n",
    "s = {'{}_{}_{}_{}.npy'.format(impute, nc, selection, extraction)\n",
    "     for impute in 'io'\n",
    "     for nc in 'nc'\n",
    "     for selection in '-vx'\n",
    "     for extraction in '-pts'}\n",
    "\n",
    "# numerical data\n",
    "data_u = {d: np.load(os.path.join('../data/staph/preprocess', d)) for d in s}\n",
    "for k, v in data_u.items():\n",
    "    if v.shape[0] != 124:\n",
    "        print(k)\n",
    "\n",
    "# one-hot encoded data\n",
    "data_e = {d: np.load(os.path.join('../data/staph/preprocess/onehot', d)) for d in s}"
   ]
  },
  {
   "cell_type": "code",
   "execution_count": 4,
   "metadata": {},
   "outputs": [],
   "source": [
    "from sklearn.model_selection import train_test_split"
   ]
  },
  {
   "cell_type": "markdown",
   "metadata": {},
   "source": [
    "# Classification"
   ]
  },
  {
   "cell_type": "code",
   "execution_count": 5,
   "metadata": {},
   "outputs": [],
   "source": [
    "from sklearn.metrics import accuracy_score, balanced_accuracy_score, precision_score, recall_score, f1_score\n",
    "from sklearn.linear_model import LogisticRegression\n",
    "from sklearn.ensemble import RandomForestClassifier\n",
    "from sklearn.svm import SVC"
   ]
  },
  {
   "cell_type": "code",
   "execution_count": 6,
   "metadata": {},
   "outputs": [],
   "source": [
    "# silence warning for getting 0 on f1 score\n",
    "from sklearn.exceptions import UndefinedMetricWarning\n",
    "import warnings\n",
    "warnings.filterwarnings('ignore', category=UndefinedMetricWarning)"
   ]
  },
  {
   "cell_type": "code",
   "execution_count": 7,
   "metadata": {},
   "outputs": [],
   "source": [
    "y_c = records['resp'][mask].astype('?')\n",
    "metrics_c = [accuracy_score, balanced_accuracy_score, precision_score, recall_score, f1_score]"
   ]
  },
  {
   "cell_type": "code",
   "execution_count": 8,
   "metadata": {},
   "outputs": [],
   "source": [
    "def train_clfs(clf, model, encode):\n",
    "    results = []\n",
    "    data = data_e if encode else data_u\n",
    "    for d, X in data.items():\n",
    "        X_train, X_test, y_train, y_test = train_test_split(X, y_c, random_state=random_state,\n",
    "                                                            stratify=y_c, train_size=0.7)\n",
    "        clf.fit(X_train, y_train)\n",
    "        y_pred = clf.predict(X_test)\n",
    "        m = {metric.__name__.replace('_score', ''): metric(y_test, y_pred)\n",
    "             for metric in metrics_c}\n",
    "        m.update({'file': d, 'encode': encode, 'model': model})\n",
    "        results.append(m)\n",
    "    return results"
   ]
  },
  {
   "cell_type": "markdown",
   "metadata": {},
   "source": [
    "### Logistic regression"
   ]
  },
  {
   "cell_type": "code",
   "execution_count": 9,
   "metadata": {
    "scrolled": true
   },
   "outputs": [
    {
     "name": "stdout",
     "output_type": "stream",
     "text": [
      "CPU times: user 1min 37s, sys: 8.6 s, total: 1min 45s\n",
      "Wall time: 3min 51s\n",
      "CPU times: user 4min 21s, sys: 14.5 s, total: 4min 35s\n",
      "Wall time: 4min 28s\n"
     ]
    }
   ],
   "source": [
    "# 4*2 minutes\n",
    "lr = LogisticRegression(penalty='none', class_weight='balanced',\n",
    "                         solver='lbfgs', max_iter=2000, n_jobs=5, warm_start=False)\n",
    "%time lr_u = train_clfs(lr, 'logistic', False)\n",
    "%time lr_e = train_clfs(lr, 'logistic', True)"
   ]
  },
  {
   "cell_type": "markdown",
   "metadata": {},
   "source": [
    "###  Random forest"
   ]
  },
  {
   "cell_type": "code",
   "execution_count": 10,
   "metadata": {
    "scrolled": true
   },
   "outputs": [
    {
     "name": "stdout",
     "output_type": "stream",
     "text": [
      "CPU times: user 1min 13s, sys: 9.98 s, total: 1min 23s\n",
      "Wall time: 54.6 s\n",
      "CPU times: user 1min 11s, sys: 7.85 s, total: 1min 18s\n",
      "Wall time: 47.5 s\n"
     ]
    }
   ],
   "source": [
    "# 1*2 minutes\n",
    "rfc = RandomForestClassifier(n_estimators=500, n_jobs=5, class_weight='balanced')\n",
    "%time rfc_u = train_clfs(rfc, 'rf', False)\n",
    "%time rfc_e = train_clfs(rfc, 'rf', True)"
   ]
  },
  {
   "cell_type": "markdown",
   "metadata": {},
   "source": [
    "###  Support vector machine"
   ]
  },
  {
   "cell_type": "code",
   "execution_count": 11,
   "metadata": {},
   "outputs": [
    {
     "name": "stdout",
     "output_type": "stream",
     "text": [
      "CPU times: user 1min 31s, sys: 3.11 s, total: 1min 35s\n",
      "Wall time: 1min 35s\n",
      "CPU times: user 2min 13s, sys: 2.34 s, total: 2min 15s\n",
      "Wall time: 2min 16s\n"
     ]
    }
   ],
   "source": [
    "# 1.75 and 2.5 minutes\n",
    "svc = SVC(gamma='auto', class_weight='balanced')\n",
    "%time svc_u = train_clfs(svc, 'svm', False)\n",
    "%time svc_e = train_clfs(svc, 'svm', True)"
   ]
  },
  {
   "cell_type": "markdown",
   "metadata": {},
   "source": [
    "### Results"
   ]
  },
  {
   "cell_type": "code",
   "execution_count": 12,
   "metadata": {},
   "outputs": [
    {
     "data": {
      "text/html": [
       "<div>\n",
       "<style scoped>\n",
       "    .dataframe tbody tr th:only-of-type {\n",
       "        vertical-align: middle;\n",
       "    }\n",
       "\n",
       "    .dataframe tbody tr th {\n",
       "        vertical-align: top;\n",
       "    }\n",
       "\n",
       "    .dataframe thead th {\n",
       "        text-align: right;\n",
       "    }\n",
       "</style>\n",
       "<table border=\"1\" class=\"dataframe\">\n",
       "  <thead>\n",
       "    <tr style=\"text-align: right;\">\n",
       "      <th></th>\n",
       "      <th>accuracy</th>\n",
       "      <th>balanced_accuracy</th>\n",
       "      <th>precision</th>\n",
       "      <th>recall</th>\n",
       "      <th>f1</th>\n",
       "      <th>file</th>\n",
       "      <th>encode</th>\n",
       "      <th>model</th>\n",
       "    </tr>\n",
       "  </thead>\n",
       "  <tbody>\n",
       "    <tr>\n",
       "      <td>0</td>\n",
       "      <td>0.842</td>\n",
       "      <td>0.50</td>\n",
       "      <td>0.0</td>\n",
       "      <td>0.000</td>\n",
       "      <td>0.000</td>\n",
       "      <td>i_c_-_t.npy</td>\n",
       "      <td>True</td>\n",
       "      <td>logistic</td>\n",
       "    </tr>\n",
       "    <tr>\n",
       "      <td>1</td>\n",
       "      <td>0.842</td>\n",
       "      <td>0.50</td>\n",
       "      <td>0.0</td>\n",
       "      <td>0.000</td>\n",
       "      <td>0.000</td>\n",
       "      <td>i_n_-_p.npy</td>\n",
       "      <td>True</td>\n",
       "      <td>logistic</td>\n",
       "    </tr>\n",
       "    <tr>\n",
       "      <td>2</td>\n",
       "      <td>0.842</td>\n",
       "      <td>0.50</td>\n",
       "      <td>0.0</td>\n",
       "      <td>0.000</td>\n",
       "      <td>0.000</td>\n",
       "      <td>o_n_-_t.npy</td>\n",
       "      <td>True</td>\n",
       "      <td>logistic</td>\n",
       "    </tr>\n",
       "    <tr>\n",
       "      <td>3</td>\n",
       "      <td>0.816</td>\n",
       "      <td>0.62</td>\n",
       "      <td>0.4</td>\n",
       "      <td>0.333</td>\n",
       "      <td>0.364</td>\n",
       "      <td>i_c_-_-.npy</td>\n",
       "      <td>True</td>\n",
       "      <td>logistic</td>\n",
       "    </tr>\n",
       "    <tr>\n",
       "      <td>4</td>\n",
       "      <td>0.842</td>\n",
       "      <td>0.50</td>\n",
       "      <td>0.0</td>\n",
       "      <td>0.000</td>\n",
       "      <td>0.000</td>\n",
       "      <td>i_c_-_s.npy</td>\n",
       "      <td>True</td>\n",
       "      <td>logistic</td>\n",
       "    </tr>\n",
       "  </tbody>\n",
       "</table>\n",
       "</div>"
      ],
      "text/plain": [
       "   accuracy  balanced_accuracy  precision  recall     f1         file  encode  \\\n",
       "0     0.842         0.50              0.0   0.000  0.000  i_c_-_t.npy    True   \n",
       "1     0.842         0.50              0.0   0.000  0.000  i_n_-_p.npy    True   \n",
       "2     0.842         0.50              0.0   0.000  0.000  o_n_-_t.npy    True   \n",
       "3     0.816         0.62              0.4   0.333  0.364  i_c_-_-.npy    True   \n",
       "4     0.842         0.50              0.0   0.000  0.000  i_c_-_s.npy    True   \n",
       "\n",
       "      model  \n",
       "0  logistic  \n",
       "1  logistic  \n",
       "2  logistic  \n",
       "3  logistic  \n",
       "4  logistic  "
      ]
     },
     "execution_count": 12,
     "metadata": {},
     "output_type": "execute_result"
    }
   ],
   "source": [
    "results_c = pd.DataFrame(lr_e + lr_u + rfc_u + rfc_e + svc_u + svc_e)\n",
    "results_c.to_csv('result/result_staph_clf.csv', index=False)\n",
    "results_c.head()"
   ]
  },
  {
   "cell_type": "code",
   "execution_count": 13,
   "metadata": {},
   "outputs": [
    {
     "data": {
      "text/html": [
       "<div>\n",
       "<style scoped>\n",
       "    .dataframe tbody tr th:only-of-type {\n",
       "        vertical-align: middle;\n",
       "    }\n",
       "\n",
       "    .dataframe tbody tr th {\n",
       "        vertical-align: top;\n",
       "    }\n",
       "\n",
       "    .dataframe thead th {\n",
       "        text-align: right;\n",
       "    }\n",
       "</style>\n",
       "<table border=\"1\" class=\"dataframe\">\n",
       "  <thead>\n",
       "    <tr style=\"text-align: right;\">\n",
       "      <th></th>\n",
       "      <th>accuracy</th>\n",
       "      <th>balanced_accuracy</th>\n",
       "      <th>precision</th>\n",
       "      <th>recall</th>\n",
       "      <th>f1</th>\n",
       "      <th>file</th>\n",
       "      <th>encode</th>\n",
       "      <th>model</th>\n",
       "    </tr>\n",
       "  </thead>\n",
       "  <tbody>\n",
       "    <tr>\n",
       "      <td>48</td>\n",
       "      <td>0.711</td>\n",
       "      <td>0.828</td>\n",
       "      <td>0.353</td>\n",
       "      <td>1.000</td>\n",
       "      <td>0.522</td>\n",
       "      <td>i_c_-_t.npy</td>\n",
       "      <td>False</td>\n",
       "      <td>logistic</td>\n",
       "    </tr>\n",
       "    <tr>\n",
       "      <td>113</td>\n",
       "      <td>0.895</td>\n",
       "      <td>0.667</td>\n",
       "      <td>1.000</td>\n",
       "      <td>0.333</td>\n",
       "      <td>0.500</td>\n",
       "      <td>i_n_-_s.npy</td>\n",
       "      <td>False</td>\n",
       "      <td>rf</td>\n",
       "    </tr>\n",
       "    <tr>\n",
       "      <td>59</td>\n",
       "      <td>0.895</td>\n",
       "      <td>0.667</td>\n",
       "      <td>1.000</td>\n",
       "      <td>0.333</td>\n",
       "      <td>0.500</td>\n",
       "      <td>o_n_v_-.npy</td>\n",
       "      <td>False</td>\n",
       "      <td>logistic</td>\n",
       "    </tr>\n",
       "    <tr>\n",
       "      <td>155</td>\n",
       "      <td>0.895</td>\n",
       "      <td>0.667</td>\n",
       "      <td>1.000</td>\n",
       "      <td>0.333</td>\n",
       "      <td>0.500</td>\n",
       "      <td>o_n_v_-.npy</td>\n",
       "      <td>True</td>\n",
       "      <td>rf</td>\n",
       "    </tr>\n",
       "    <tr>\n",
       "      <td>218</td>\n",
       "      <td>0.895</td>\n",
       "      <td>0.667</td>\n",
       "      <td>1.000</td>\n",
       "      <td>0.333</td>\n",
       "      <td>0.500</td>\n",
       "      <td>o_n_-_-.npy</td>\n",
       "      <td>False</td>\n",
       "      <td>svm</td>\n",
       "    </tr>\n",
       "    <tr>\n",
       "      <td>...</td>\n",
       "      <td>...</td>\n",
       "      <td>...</td>\n",
       "      <td>...</td>\n",
       "      <td>...</td>\n",
       "      <td>...</td>\n",
       "      <td>...</td>\n",
       "      <td>...</td>\n",
       "      <td>...</td>\n",
       "    </tr>\n",
       "    <tr>\n",
       "      <td>146</td>\n",
       "      <td>0.842</td>\n",
       "      <td>0.500</td>\n",
       "      <td>0.000</td>\n",
       "      <td>0.000</td>\n",
       "      <td>0.000</td>\n",
       "      <td>o_n_-_t.npy</td>\n",
       "      <td>True</td>\n",
       "      <td>rf</td>\n",
       "    </tr>\n",
       "    <tr>\n",
       "      <td>148</td>\n",
       "      <td>0.842</td>\n",
       "      <td>0.500</td>\n",
       "      <td>0.000</td>\n",
       "      <td>0.000</td>\n",
       "      <td>0.000</td>\n",
       "      <td>i_c_-_s.npy</td>\n",
       "      <td>True</td>\n",
       "      <td>rf</td>\n",
       "    </tr>\n",
       "    <tr>\n",
       "      <td>149</td>\n",
       "      <td>0.842</td>\n",
       "      <td>0.500</td>\n",
       "      <td>0.000</td>\n",
       "      <td>0.000</td>\n",
       "      <td>0.000</td>\n",
       "      <td>i_n_v_t.npy</td>\n",
       "      <td>True</td>\n",
       "      <td>rf</td>\n",
       "    </tr>\n",
       "    <tr>\n",
       "      <td>151</td>\n",
       "      <td>0.842</td>\n",
       "      <td>0.500</td>\n",
       "      <td>0.000</td>\n",
       "      <td>0.000</td>\n",
       "      <td>0.000</td>\n",
       "      <td>i_c_v_p.npy</td>\n",
       "      <td>True</td>\n",
       "      <td>rf</td>\n",
       "    </tr>\n",
       "    <tr>\n",
       "      <td>144</td>\n",
       "      <td>0.842</td>\n",
       "      <td>0.500</td>\n",
       "      <td>0.000</td>\n",
       "      <td>0.000</td>\n",
       "      <td>0.000</td>\n",
       "      <td>i_c_-_t.npy</td>\n",
       "      <td>True</td>\n",
       "      <td>rf</td>\n",
       "    </tr>\n",
       "  </tbody>\n",
       "</table>\n",
       "<p>288 rows × 8 columns</p>\n",
       "</div>"
      ],
      "text/plain": [
       "     accuracy  balanced_accuracy  precision  recall     f1         file  \\\n",
       "48      0.711        0.828            0.353   1.000  0.522  i_c_-_t.npy   \n",
       "113     0.895        0.667            1.000   0.333  0.500  i_n_-_s.npy   \n",
       "59      0.895        0.667            1.000   0.333  0.500  o_n_v_-.npy   \n",
       "155     0.895        0.667            1.000   0.333  0.500  o_n_v_-.npy   \n",
       "218     0.895        0.667            1.000   0.333  0.500  o_n_-_-.npy   \n",
       "..        ...          ...              ...     ...    ...          ...   \n",
       "146     0.842        0.500            0.000   0.000  0.000  o_n_-_t.npy   \n",
       "148     0.842        0.500            0.000   0.000  0.000  i_c_-_s.npy   \n",
       "149     0.842        0.500            0.000   0.000  0.000  i_n_v_t.npy   \n",
       "151     0.842        0.500            0.000   0.000  0.000  i_c_v_p.npy   \n",
       "144     0.842        0.500            0.000   0.000  0.000  i_c_-_t.npy   \n",
       "\n",
       "     encode     model  \n",
       "48    False  logistic  \n",
       "113   False        rf  \n",
       "59    False  logistic  \n",
       "155    True        rf  \n",
       "218   False       svm  \n",
       "..      ...       ...  \n",
       "146    True        rf  \n",
       "148    True        rf  \n",
       "149    True        rf  \n",
       "151    True        rf  \n",
       "144    True        rf  \n",
       "\n",
       "[288 rows x 8 columns]"
      ]
     },
     "execution_count": 13,
     "metadata": {},
     "output_type": "execute_result"
    }
   ],
   "source": [
    "results_c.sort_values(by=['f1'], ascending=False)"
   ]
  },
  {
   "cell_type": "markdown",
   "metadata": {},
   "source": [
    "# Regression"
   ]
  },
  {
   "cell_type": "code",
   "execution_count": 6,
   "metadata": {},
   "outputs": [],
   "source": [
    "from sklearn.metrics import r2_score, mean_squared_error\n",
    "from sklearn.linear_model import LinearRegression\n",
    "from sklearn.ensemble import RandomForestRegressor\n",
    "from sklearn.svm import SVR"
   ]
  },
  {
   "cell_type": "code",
   "execution_count": 7,
   "metadata": {},
   "outputs": [],
   "source": [
    "y_r = records['resp'][mask]\n",
    "metrics_r = [r2_score, mean_squared_error]"
   ]
  },
  {
   "cell_type": "code",
   "execution_count": 8,
   "metadata": {},
   "outputs": [],
   "source": [
    "def train_regs(reg, model, encode):\n",
    "    results = []\n",
    "    data = data_e if encode else data_u\n",
    "    for d, X in data.items():\n",
    "        X_train, X_test, y_train, y_test = train_test_split(X, y_r, random_state=random_state,\n",
    "                                                            train_size=0.7)\n",
    "        reg.fit(X_train, y_train)\n",
    "        y_pred = reg.predict(X_test)\n",
    "        m = {metric.__name__.replace('_score', ''): metric(y_test, y_pred)\n",
    "             for metric in metrics_r}\n",
    "        m.update({'file': d, 'encode': encode, 'model': model})\n",
    "        results.append(m)\n",
    "    return results"
   ]
  },
  {
   "cell_type": "markdown",
   "metadata": {},
   "source": [
    "### Linear regression"
   ]
  },
  {
   "cell_type": "code",
   "execution_count": 9,
   "metadata": {},
   "outputs": [
    {
     "name": "stdout",
     "output_type": "stream",
     "text": [
      "CPU times: user 8min 47s, sys: 26 s, total: 9min 13s\n",
      "Wall time: 31.5 s\n",
      "CPU times: user 11min 53s, sys: 25.1 s, total: 12min 18s\n",
      "Wall time: 29.7 s\n"
     ]
    }
   ],
   "source": [
    "# 30*2 seconds\n",
    "lrr = LinearRegression(n_jobs=5)\n",
    "%time lrr_u = train_regs(lrr, 'linear', False)\n",
    "%time lrr_e = train_regs(lrr, 'linear', True)"
   ]
  },
  {
   "cell_type": "markdown",
   "metadata": {},
   "source": [
    "### Random forest"
   ]
  },
  {
   "cell_type": "code",
   "execution_count": 10,
   "metadata": {},
   "outputs": [
    {
     "name": "stdout",
     "output_type": "stream",
     "text": [
      "CPU times: user 1h 5min 12s, sys: 8.3 s, total: 1h 5min 20s\n",
      "Wall time: 13min 37s\n",
      "CPU times: user 2h 3min 31s, sys: 7.35 s, total: 2h 3min 38s\n",
      "Wall time: 25min 14s\n"
     ]
    }
   ],
   "source": [
    "# 13 and 25 minutes\n",
    "rfr = RandomForestRegressor(n_estimators=500, n_jobs=5)\n",
    "%time rfr_u = train_regs(rfr, 'rf', False)\n",
    "%time rfr_e = train_regs(rfr, 'rf', True)"
   ]
  },
  {
   "cell_type": "markdown",
   "metadata": {},
   "source": [
    "### Support vector machine"
   ]
  },
  {
   "cell_type": "code",
   "execution_count": 11,
   "metadata": {},
   "outputs": [
    {
     "name": "stdout",
     "output_type": "stream",
     "text": [
      "CPU times: user 1min 10s, sys: 2.57 s, total: 1min 13s\n",
      "Wall time: 1min 13s\n",
      "CPU times: user 1min 26s, sys: 1.95 s, total: 1min 28s\n",
      "Wall time: 1min 28s\n"
     ]
    }
   ],
   "source": [
    "# 1.5*2 minutes\n",
    "svr = SVR(gamma='auto')\n",
    "%time svr_u = train_regs(svr, 'svm', False)\n",
    "%time svr_e = train_regs(svr, 'svm', True)"
   ]
  },
  {
   "cell_type": "code",
   "execution_count": 12,
   "metadata": {},
   "outputs": [
    {
     "data": {
      "text/html": [
       "<div>\n",
       "<style scoped>\n",
       "    .dataframe tbody tr th:only-of-type {\n",
       "        vertical-align: middle;\n",
       "    }\n",
       "\n",
       "    .dataframe tbody tr th {\n",
       "        vertical-align: top;\n",
       "    }\n",
       "\n",
       "    .dataframe thead th {\n",
       "        text-align: right;\n",
       "    }\n",
       "</style>\n",
       "<table border=\"1\" class=\"dataframe\">\n",
       "  <thead>\n",
       "    <tr style=\"text-align: right;\">\n",
       "      <th></th>\n",
       "      <th>r2</th>\n",
       "      <th>mean_squared_error</th>\n",
       "      <th>file</th>\n",
       "      <th>encode</th>\n",
       "      <th>model</th>\n",
       "    </tr>\n",
       "  </thead>\n",
       "  <tbody>\n",
       "    <tr>\n",
       "      <td>0</td>\n",
       "      <td>-0.040</td>\n",
       "      <td>0.188</td>\n",
       "      <td>i_c_-_s.npy</td>\n",
       "      <td>True</td>\n",
       "      <td>linear</td>\n",
       "    </tr>\n",
       "    <tr>\n",
       "      <td>1</td>\n",
       "      <td>-0.382</td>\n",
       "      <td>0.250</td>\n",
       "      <td>o_c_x_-.npy</td>\n",
       "      <td>True</td>\n",
       "      <td>linear</td>\n",
       "    </tr>\n",
       "    <tr>\n",
       "      <td>2</td>\n",
       "      <td>-0.054</td>\n",
       "      <td>0.191</td>\n",
       "      <td>o_n_x_s.npy</td>\n",
       "      <td>True</td>\n",
       "      <td>linear</td>\n",
       "    </tr>\n",
       "    <tr>\n",
       "      <td>3</td>\n",
       "      <td>-0.052</td>\n",
       "      <td>0.190</td>\n",
       "      <td>i_n_-_p.npy</td>\n",
       "      <td>True</td>\n",
       "      <td>linear</td>\n",
       "    </tr>\n",
       "    <tr>\n",
       "      <td>4</td>\n",
       "      <td>-0.038</td>\n",
       "      <td>0.188</td>\n",
       "      <td>i_c_v_t.npy</td>\n",
       "      <td>True</td>\n",
       "      <td>linear</td>\n",
       "    </tr>\n",
       "  </tbody>\n",
       "</table>\n",
       "</div>"
      ],
      "text/plain": [
       "      r2  mean_squared_error         file  encode   model\n",
       "0 -0.040        0.188         i_c_-_s.npy    True  linear\n",
       "1 -0.382        0.250         o_c_x_-.npy    True  linear\n",
       "2 -0.054        0.191         o_n_x_s.npy    True  linear\n",
       "3 -0.052        0.190         i_n_-_p.npy    True  linear\n",
       "4 -0.038        0.188         i_c_v_t.npy    True  linear"
      ]
     },
     "execution_count": 12,
     "metadata": {},
     "output_type": "execute_result"
    }
   ],
   "source": [
    "results_r = pd.DataFrame(lrr_e + lrr_u + rfr_u + rfr_e + svr_u + svr_e)\n",
    "results_r.to_csv('result/result_staph_reg.csv', index=False)\n",
    "results_r.head()"
   ]
  },
  {
   "cell_type": "code",
   "execution_count": 15,
   "metadata": {},
   "outputs": [
    {
     "data": {
      "text/html": [
       "<div>\n",
       "<style scoped>\n",
       "    .dataframe tbody tr th:only-of-type {\n",
       "        vertical-align: middle;\n",
       "    }\n",
       "\n",
       "    .dataframe tbody tr th {\n",
       "        vertical-align: top;\n",
       "    }\n",
       "\n",
       "    .dataframe thead th {\n",
       "        text-align: right;\n",
       "    }\n",
       "</style>\n",
       "<table border=\"1\" class=\"dataframe\">\n",
       "  <thead>\n",
       "    <tr style=\"text-align: right;\">\n",
       "      <th></th>\n",
       "      <th>r2</th>\n",
       "      <th>mean_squared_error</th>\n",
       "      <th>file</th>\n",
       "      <th>encode</th>\n",
       "      <th>model</th>\n",
       "    </tr>\n",
       "  </thead>\n",
       "  <tbody>\n",
       "    <tr>\n",
       "      <td>127</td>\n",
       "      <td>0.198</td>\n",
       "      <td>0.145</td>\n",
       "      <td>i_c_-_t.npy</td>\n",
       "      <td>False</td>\n",
       "      <td>rf</td>\n",
       "    </tr>\n",
       "    <tr>\n",
       "      <td>233</td>\n",
       "      <td>0.182</td>\n",
       "      <td>0.148</td>\n",
       "      <td>i_c_-_-.npy</td>\n",
       "      <td>False</td>\n",
       "      <td>svm</td>\n",
       "    </tr>\n",
       "    <tr>\n",
       "      <td>139</td>\n",
       "      <td>0.108</td>\n",
       "      <td>0.161</td>\n",
       "      <td>o_n_v_p.npy</td>\n",
       "      <td>False</td>\n",
       "      <td>rf</td>\n",
       "    </tr>\n",
       "    <tr>\n",
       "      <td>123</td>\n",
       "      <td>0.104</td>\n",
       "      <td>0.162</td>\n",
       "      <td>i_c_v_p.npy</td>\n",
       "      <td>False</td>\n",
       "      <td>rf</td>\n",
       "    </tr>\n",
       "    <tr>\n",
       "      <td>216</td>\n",
       "      <td>0.101</td>\n",
       "      <td>0.162</td>\n",
       "      <td>i_n_x_-.npy</td>\n",
       "      <td>False</td>\n",
       "      <td>svm</td>\n",
       "    </tr>\n",
       "    <tr>\n",
       "      <td>...</td>\n",
       "      <td>...</td>\n",
       "      <td>...</td>\n",
       "      <td>...</td>\n",
       "      <td>...</td>\n",
       "      <td>...</td>\n",
       "    </tr>\n",
       "    <tr>\n",
       "      <td>76</td>\n",
       "      <td>-37.295</td>\n",
       "      <td>6.922</td>\n",
       "      <td>o_n_-_s.npy</td>\n",
       "      <td>False</td>\n",
       "      <td>linear</td>\n",
       "    </tr>\n",
       "    <tr>\n",
       "      <td>66</td>\n",
       "      <td>-48.700</td>\n",
       "      <td>8.983</td>\n",
       "      <td>i_c_x_s.npy</td>\n",
       "      <td>False</td>\n",
       "      <td>linear</td>\n",
       "    </tr>\n",
       "    <tr>\n",
       "      <td>84</td>\n",
       "      <td>-74.312</td>\n",
       "      <td>13.612</td>\n",
       "      <td>i_n_-_s.npy</td>\n",
       "      <td>False</td>\n",
       "      <td>linear</td>\n",
       "    </tr>\n",
       "    <tr>\n",
       "      <td>50</td>\n",
       "      <td>-77.714</td>\n",
       "      <td>14.227</td>\n",
       "      <td>o_n_x_s.npy</td>\n",
       "      <td>False</td>\n",
       "      <td>linear</td>\n",
       "    </tr>\n",
       "    <tr>\n",
       "      <td>71</td>\n",
       "      <td>-80.991</td>\n",
       "      <td>14.820</td>\n",
       "      <td>i_n_v_s.npy</td>\n",
       "      <td>False</td>\n",
       "      <td>linear</td>\n",
       "    </tr>\n",
       "  </tbody>\n",
       "</table>\n",
       "<p>288 rows × 5 columns</p>\n",
       "</div>"
      ],
      "text/plain": [
       "         r2  mean_squared_error         file  encode   model\n",
       "127   0.198        0.145         i_c_-_t.npy   False      rf\n",
       "233   0.182        0.148         i_c_-_-.npy   False     svm\n",
       "139   0.108        0.161         o_n_v_p.npy   False      rf\n",
       "123   0.104        0.162         i_c_v_p.npy   False      rf\n",
       "216   0.101        0.162         i_n_x_-.npy   False     svm\n",
       "..      ...          ...                 ...     ...     ...\n",
       "76  -37.295        6.922         o_n_-_s.npy   False  linear\n",
       "66  -48.700        8.983         i_c_x_s.npy   False  linear\n",
       "84  -74.312       13.612         i_n_-_s.npy   False  linear\n",
       "50  -77.714       14.227         o_n_x_s.npy   False  linear\n",
       "71  -80.991       14.820         i_n_v_s.npy   False  linear\n",
       "\n",
       "[288 rows x 5 columns]"
      ]
     },
     "execution_count": 15,
     "metadata": {},
     "output_type": "execute_result"
    }
   ],
   "source": [
    "results_r.sort_values(by=['mean_squared_error'])"
   ]
  },
  {
   "cell_type": "code",
   "execution_count": null,
   "metadata": {},
   "outputs": [],
   "source": []
  }
 ],
 "metadata": {
  "kernelspec": {
   "display_name": "Python 3",
   "language": "python",
   "name": "python3"
  },
  "language_info": {
   "codemirror_mode": {
    "name": "ipython",
    "version": 3
   },
   "file_extension": ".py",
   "mimetype": "text/x-python",
   "name": "python",
   "nbconvert_exporter": "python",
   "pygments_lexer": "ipython3",
   "version": "3.7.4"
  }
 },
 "nbformat": 4,
 "nbformat_minor": 2
}
