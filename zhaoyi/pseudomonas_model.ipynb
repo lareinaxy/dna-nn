{
 "cells": [
  {
   "cell_type": "code",
   "execution_count": 1,
   "metadata": {},
   "outputs": [],
   "source": [
    "import numpy as np\n",
    "import pandas as pd\n",
    "\n",
    "from load import load_pseudo\n",
    "\n",
    "pd.options.display.precision = 3\n",
    "pd.options.display.max_colwidth = 12\n",
    "\n",
    "%matplotlib inline"
   ]
  },
  {
   "cell_type": "code",
   "execution_count": 2,
   "metadata": {},
   "outputs": [
    {
     "data": {
      "text/html": [
       "<div>\n",
       "<style scoped>\n",
       "    .dataframe tbody tr th:only-of-type {\n",
       "        vertical-align: middle;\n",
       "    }\n",
       "\n",
       "    .dataframe tbody tr th {\n",
       "        vertical-align: top;\n",
       "    }\n",
       "\n",
       "    .dataframe thead th {\n",
       "        text-align: right;\n",
       "    }\n",
       "</style>\n",
       "<table border=\"1\" class=\"dataframe\">\n",
       "  <thead>\n",
       "    <tr style=\"text-align: right;\">\n",
       "      <th></th>\n",
       "      <th>id</th>\n",
       "      <th>sequence</th>\n",
       "      <th>missing</th>\n",
       "      <th>missing_%</th>\n",
       "      <th>sequence_i</th>\n",
       "      <th>missing_i</th>\n",
       "      <th>missing_%_i</th>\n",
       "      <th>carb</th>\n",
       "      <th>toby</th>\n",
       "      <th>carb_num</th>\n",
       "      <th>toby_num</th>\n",
       "    </tr>\n",
       "  </thead>\n",
       "  <tbody>\n",
       "    <tr>\n",
       "      <td>0</td>\n",
       "      <td>TA151</td>\n",
       "      <td>ATGAGTGA...</td>\n",
       "      <td>31842</td>\n",
       "      <td>6.588</td>\n",
       "      <td>ATGAGTGA...</td>\n",
       "      <td>28410</td>\n",
       "      <td>5.878</td>\n",
       "      <td>True</td>\n",
       "      <td>False</td>\n",
       "      <td>-2.0</td>\n",
       "      <td>16.0</td>\n",
       "    </tr>\n",
       "    <tr>\n",
       "      <td>1</td>\n",
       "      <td>IC1</td>\n",
       "      <td>ATGAGTGA...</td>\n",
       "      <td>46071</td>\n",
       "      <td>9.532</td>\n",
       "      <td>ATGAGTGA...</td>\n",
       "      <td>34714</td>\n",
       "      <td>7.182</td>\n",
       "      <td>False</td>\n",
       "      <td>False</td>\n",
       "      <td>2.0</td>\n",
       "      <td>14.0</td>\n",
       "    </tr>\n",
       "    <tr>\n",
       "      <td>2</td>\n",
       "      <td>A237</td>\n",
       "      <td>ATGAGTGA...</td>\n",
       "      <td>44514</td>\n",
       "      <td>9.210</td>\n",
       "      <td>ATGAGTGA...</td>\n",
       "      <td>35933</td>\n",
       "      <td>7.434</td>\n",
       "      <td>True</td>\n",
       "      <td>False</td>\n",
       "      <td>-1.0</td>\n",
       "      <td>4.0</td>\n",
       "    </tr>\n",
       "    <tr>\n",
       "      <td>3</td>\n",
       "      <td>5920</td>\n",
       "      <td>ATGAGTGA...</td>\n",
       "      <td>49497</td>\n",
       "      <td>10.241</td>\n",
       "      <td>ATGAGTGA...</td>\n",
       "      <td>36873</td>\n",
       "      <td>7.629</td>\n",
       "      <td>NaN</td>\n",
       "      <td>NaN</td>\n",
       "      <td>NaN</td>\n",
       "      <td>NaN</td>\n",
       "    </tr>\n",
       "    <tr>\n",
       "      <td>4</td>\n",
       "      <td>LiA96</td>\n",
       "      <td>ATGAGTGA...</td>\n",
       "      <td>44067</td>\n",
       "      <td>9.117</td>\n",
       "      <td>ATGAGTGA...</td>\n",
       "      <td>34454</td>\n",
       "      <td>7.128</td>\n",
       "      <td>False</td>\n",
       "      <td>False</td>\n",
       "      <td>0.0</td>\n",
       "      <td>18.0</td>\n",
       "    </tr>\n",
       "  </tbody>\n",
       "</table>\n",
       "</div>"
      ],
      "text/plain": [
       "      id     sequence  missing  missing_%   sequence_i  missing_i  \\\n",
       "0  TA151  ATGAGTGA...    31842      6.588  ATGAGTGA...      28410   \n",
       "1    IC1  ATGAGTGA...    46071      9.532  ATGAGTGA...      34714   \n",
       "2   A237  ATGAGTGA...    44514      9.210  ATGAGTGA...      35933   \n",
       "3   5920  ATGAGTGA...    49497     10.241  ATGAGTGA...      36873   \n",
       "4  LiA96  ATGAGTGA...    44067      9.117  ATGAGTGA...      34454   \n",
       "\n",
       "   missing_%_i   carb   toby  carb_num  toby_num  \n",
       "0        5.878   True  False      -2.0      16.0  \n",
       "1        7.182  False  False       2.0      14.0  \n",
       "2        7.434   True  False      -1.0       4.0  \n",
       "3        7.629    NaN    NaN       NaN       NaN  \n",
       "4        7.128  False  False       0.0      18.0  "
      ]
     },
     "execution_count": 2,
     "metadata": {},
     "output_type": "execute_result"
    }
   ],
   "source": [
    "records = load_pseudo(True)\n",
    "mask = (records['toby'].notna() & records['carb'].notna())\n",
    "records.head()"
   ]
  },
  {
   "cell_type": "code",
   "execution_count": 3,
   "metadata": {},
   "outputs": [],
   "source": [
    "import os\n",
    "\n",
    "random_state = 42\n",
    "\n",
    "s = {'{}_{}_{}_{}.npy'.format(impute, nc, selection, extraction)\n",
    "     for impute in 'io'\n",
    "     for nc in 'nc'\n",
    "     for selection in '-vx'\n",
    "     for extraction in '-pts'}\n",
    "\n",
    "# numerical data\n",
    "data_u = {d: np.load(os.path.join('../data/pseudo/preprocess', d)) for d in s}\n",
    "for k, v in data_u.items():\n",
    "    if v.shape[0] != 119:\n",
    "        print(k)\n",
    "\n",
    "# one-hot encoded data\n",
    "data_e = {d: np.load(os.path.join('../data/pseudo/preprocess/onehot', d)) for d in s}"
   ]
  },
  {
   "cell_type": "code",
   "execution_count": 4,
   "metadata": {},
   "outputs": [],
   "source": [
    "from sklearn.model_selection import train_test_split"
   ]
  },
  {
   "cell_type": "markdown",
   "metadata": {},
   "source": [
    "# Classification"
   ]
  },
  {
   "cell_type": "code",
   "execution_count": 5,
   "metadata": {},
   "outputs": [],
   "source": [
    "from sklearn.metrics import accuracy_score, balanced_accuracy_score, f1_score, roc_auc_score\n",
    "from sklearn.linear_model import LogisticRegression\n",
    "from sklearn.ensemble import RandomForestClassifier\n",
    "from sklearn.svm import SVC"
   ]
  },
  {
   "cell_type": "code",
   "execution_count": 6,
   "metadata": {},
   "outputs": [],
   "source": [
    "# silence warning for getting 0 on f1 score\n",
    "from sklearn.exceptions import UndefinedMetricWarning\n",
    "import warnings\n",
    "warnings.filterwarnings('ignore', category=UndefinedMetricWarning)"
   ]
  },
  {
   "cell_type": "code",
   "execution_count": 7,
   "metadata": {},
   "outputs": [],
   "source": [
    "y_c = records['carb'][mask].astype('?')\n",
    "metrics_c = [accuracy_score, balanced_accuracy_score, f1_score, roc_auc_score]"
   ]
  },
  {
   "cell_type": "code",
   "execution_count": 8,
   "metadata": {},
   "outputs": [],
   "source": [
    "def train_clfs(clf, model, encode):\n",
    "    results = []\n",
    "    data = data_e if encode else data_u\n",
    "    for d, X in data.items():\n",
    "        X_train, X_test, y_train, y_test = train_test_split(X, y_c, random_state=random_state,\n",
    "                                                            stratify=y_c, train_size=0.7)\n",
    "        clf.fit(X_train, y_train)\n",
    "        y_pred = clf.predict(X_test)\n",
    "        m = {metric.__name__.replace('_score', ''): metric(y_test, y_pred)\n",
    "             for metric in metrics_c}\n",
    "        m.update({'file': d, 'encode': encode, 'model': model})\n",
    "        results.append(m)\n",
    "    return results"
   ]
  },
  {
   "cell_type": "markdown",
   "metadata": {},
   "source": [
    "### Logistic regression"
   ]
  },
  {
   "cell_type": "code",
   "execution_count": 9,
   "metadata": {
    "scrolled": true
   },
   "outputs": [
    {
     "name": "stdout",
     "output_type": "stream",
     "text": [
      "CPU times: user 1min 34s, sys: 8.28 s, total: 1min 42s\n",
      "Wall time: 2min 3s\n",
      "CPU times: user 4min 27s, sys: 16.5 s, total: 4min 44s\n",
      "Wall time: 3min 7s\n"
     ]
    }
   ],
   "source": [
    "# 2 and 3 minutes\n",
    "lr = LogisticRegression(penalty='none', class_weight='balanced',\n",
    "                         solver='lbfgs', max_iter=2000, n_jobs=5, warm_start=False)\n",
    "%time lr_u = train_clfs(lr, 'logistic', False)\n",
    "%time lr_e = train_clfs(lr, 'logistic', True)"
   ]
  },
  {
   "cell_type": "markdown",
   "metadata": {},
   "source": [
    "###  Random forest"
   ]
  },
  {
   "cell_type": "code",
   "execution_count": 10,
   "metadata": {
    "scrolled": true
   },
   "outputs": [
    {
     "name": "stdout",
     "output_type": "stream",
     "text": [
      "CPU times: user 1min 2s, sys: 10.1 s, total: 1min 12s\n",
      "Wall time: 49.5 s\n",
      "CPU times: user 1min 2s, sys: 8.98 s, total: 1min 11s\n",
      "Wall time: 44.8 s\n"
     ]
    }
   ],
   "source": [
    "# 45*2 seconds\n",
    "rfc = RandomForestClassifier(n_estimators=500, n_jobs=5, class_weight='balanced')\n",
    "%time rfc_u = train_clfs(rfc, 'rf', False)\n",
    "%time rfc_e = train_clfs(rfc, 'rf', True)"
   ]
  },
  {
   "cell_type": "markdown",
   "metadata": {},
   "source": [
    "###  Support vector machine"
   ]
  },
  {
   "cell_type": "code",
   "execution_count": 11,
   "metadata": {},
   "outputs": [
    {
     "name": "stdout",
     "output_type": "stream",
     "text": [
      "CPU times: user 51.5 s, sys: 4.33 s, total: 55.8 s\n",
      "Wall time: 55.9 s\n",
      "CPU times: user 1min 35s, sys: 3.94 s, total: 1min 39s\n",
      "Wall time: 1min 39s\n"
     ]
    }
   ],
   "source": [
    "# 1 and 1.75 minutes\n",
    "svc = SVC(gamma='auto', class_weight='balanced')\n",
    "%time svc_u = train_clfs(svc, 'svm', False)\n",
    "%time svc_e = train_clfs(svc, 'svm', True)"
   ]
  },
  {
   "cell_type": "markdown",
   "metadata": {},
   "source": [
    "### Results"
   ]
  },
  {
   "cell_type": "code",
   "execution_count": 12,
   "metadata": {},
   "outputs": [
    {
     "data": {
      "text/html": [
       "<div>\n",
       "<style scoped>\n",
       "    .dataframe tbody tr th:only-of-type {\n",
       "        vertical-align: middle;\n",
       "    }\n",
       "\n",
       "    .dataframe tbody tr th {\n",
       "        vertical-align: top;\n",
       "    }\n",
       "\n",
       "    .dataframe thead th {\n",
       "        text-align: right;\n",
       "    }\n",
       "</style>\n",
       "<table border=\"1\" class=\"dataframe\">\n",
       "  <thead>\n",
       "    <tr style=\"text-align: right;\">\n",
       "      <th></th>\n",
       "      <th>accuracy</th>\n",
       "      <th>balanced_accuracy</th>\n",
       "      <th>f1</th>\n",
       "      <th>roc_auc</th>\n",
       "      <th>file</th>\n",
       "      <th>encode</th>\n",
       "      <th>model</th>\n",
       "    </tr>\n",
       "  </thead>\n",
       "  <tbody>\n",
       "    <tr>\n",
       "      <td>0</td>\n",
       "      <td>0.778</td>\n",
       "      <td>0.500</td>\n",
       "      <td>0.000</td>\n",
       "      <td>0.500</td>\n",
       "      <td>i_c_x_t.npy</td>\n",
       "      <td>True</td>\n",
       "      <td>logistic</td>\n",
       "    </tr>\n",
       "    <tr>\n",
       "      <td>1</td>\n",
       "      <td>0.778</td>\n",
       "      <td>0.500</td>\n",
       "      <td>0.000</td>\n",
       "      <td>0.500</td>\n",
       "      <td>o_c_x_t.npy</td>\n",
       "      <td>True</td>\n",
       "      <td>logistic</td>\n",
       "    </tr>\n",
       "    <tr>\n",
       "      <td>2</td>\n",
       "      <td>0.861</td>\n",
       "      <td>0.821</td>\n",
       "      <td>0.706</td>\n",
       "      <td>0.821</td>\n",
       "      <td>o_n_x_-.npy</td>\n",
       "      <td>True</td>\n",
       "      <td>logistic</td>\n",
       "    </tr>\n",
       "    <tr>\n",
       "      <td>3</td>\n",
       "      <td>0.778</td>\n",
       "      <td>0.500</td>\n",
       "      <td>0.000</td>\n",
       "      <td>0.500</td>\n",
       "      <td>o_c_-_p.npy</td>\n",
       "      <td>True</td>\n",
       "      <td>logistic</td>\n",
       "    </tr>\n",
       "    <tr>\n",
       "      <td>4</td>\n",
       "      <td>0.778</td>\n",
       "      <td>0.500</td>\n",
       "      <td>0.000</td>\n",
       "      <td>0.500</td>\n",
       "      <td>i_c_v_s.npy</td>\n",
       "      <td>True</td>\n",
       "      <td>logistic</td>\n",
       "    </tr>\n",
       "  </tbody>\n",
       "</table>\n",
       "</div>"
      ],
      "text/plain": [
       "   accuracy  balanced_accuracy     f1  roc_auc         file  encode     model\n",
       "0     0.778        0.500        0.000    0.500  i_c_x_t.npy    True  logistic\n",
       "1     0.778        0.500        0.000    0.500  o_c_x_t.npy    True  logistic\n",
       "2     0.861        0.821        0.706    0.821  o_n_x_-.npy    True  logistic\n",
       "3     0.778        0.500        0.000    0.500  o_c_-_p.npy    True  logistic\n",
       "4     0.778        0.500        0.000    0.500  i_c_v_s.npy    True  logistic"
      ]
     },
     "execution_count": 12,
     "metadata": {},
     "output_type": "execute_result"
    }
   ],
   "source": [
    "results_c = pd.DataFrame(lr_e + lr_u + rfc_u + rfc_e + svc_u + svc_e)\n",
    "results_c.to_csv('result/result_pseudo_clf.csv', index=False)\n",
    "results_c.head()"
   ]
  },
  {
   "cell_type": "code",
   "execution_count": 13,
   "metadata": {},
   "outputs": [
    {
     "data": {
      "text/html": [
       "<div>\n",
       "<style scoped>\n",
       "    .dataframe tbody tr th:only-of-type {\n",
       "        vertical-align: middle;\n",
       "    }\n",
       "\n",
       "    .dataframe tbody tr th {\n",
       "        vertical-align: top;\n",
       "    }\n",
       "\n",
       "    .dataframe thead th {\n",
       "        text-align: right;\n",
       "    }\n",
       "</style>\n",
       "<table border=\"1\" class=\"dataframe\">\n",
       "  <thead>\n",
       "    <tr style=\"text-align: right;\">\n",
       "      <th></th>\n",
       "      <th>accuracy</th>\n",
       "      <th>balanced_accuracy</th>\n",
       "      <th>f1</th>\n",
       "      <th>roc_auc</th>\n",
       "      <th>file</th>\n",
       "      <th>encode</th>\n",
       "      <th>model</th>\n",
       "    </tr>\n",
       "  </thead>\n",
       "  <tbody>\n",
       "    <tr>\n",
       "      <td>210</td>\n",
       "      <td>0.889</td>\n",
       "      <td>0.884</td>\n",
       "      <td>0.778</td>\n",
       "      <td>0.884</td>\n",
       "      <td>o_n_v_-.npy</td>\n",
       "      <td>False</td>\n",
       "      <td>svm</td>\n",
       "    </tr>\n",
       "    <tr>\n",
       "      <td>50</td>\n",
       "      <td>0.889</td>\n",
       "      <td>0.839</td>\n",
       "      <td>0.750</td>\n",
       "      <td>0.839</td>\n",
       "      <td>o_n_x_-.npy</td>\n",
       "      <td>False</td>\n",
       "      <td>logistic</td>\n",
       "    </tr>\n",
       "    <tr>\n",
       "      <td>263</td>\n",
       "      <td>0.861</td>\n",
       "      <td>0.866</td>\n",
       "      <td>0.737</td>\n",
       "      <td>0.866</td>\n",
       "      <td>o_c_-_-.npy</td>\n",
       "      <td>True</td>\n",
       "      <td>svm</td>\n",
       "    </tr>\n",
       "    <tr>\n",
       "      <td>242</td>\n",
       "      <td>0.861</td>\n",
       "      <td>0.821</td>\n",
       "      <td>0.706</td>\n",
       "      <td>0.821</td>\n",
       "      <td>o_n_x_-.npy</td>\n",
       "      <td>True</td>\n",
       "      <td>svm</td>\n",
       "    </tr>\n",
       "    <tr>\n",
       "      <td>219</td>\n",
       "      <td>0.861</td>\n",
       "      <td>0.821</td>\n",
       "      <td>0.706</td>\n",
       "      <td>0.821</td>\n",
       "      <td>o_n_-_-.npy</td>\n",
       "      <td>False</td>\n",
       "      <td>svm</td>\n",
       "    </tr>\n",
       "    <tr>\n",
       "      <td>...</td>\n",
       "      <td>...</td>\n",
       "      <td>...</td>\n",
       "      <td>...</td>\n",
       "      <td>...</td>\n",
       "      <td>...</td>\n",
       "      <td>...</td>\n",
       "      <td>...</td>\n",
       "    </tr>\n",
       "    <tr>\n",
       "      <td>149</td>\n",
       "      <td>0.778</td>\n",
       "      <td>0.500</td>\n",
       "      <td>0.000</td>\n",
       "      <td>0.500</td>\n",
       "      <td>o_n_x_s.npy</td>\n",
       "      <td>True</td>\n",
       "      <td>rf</td>\n",
       "    </tr>\n",
       "    <tr>\n",
       "      <td>151</td>\n",
       "      <td>0.778</td>\n",
       "      <td>0.500</td>\n",
       "      <td>0.000</td>\n",
       "      <td>0.500</td>\n",
       "      <td>i_n_v_t.npy</td>\n",
       "      <td>True</td>\n",
       "      <td>rf</td>\n",
       "    </tr>\n",
       "    <tr>\n",
       "      <td>152</td>\n",
       "      <td>0.778</td>\n",
       "      <td>0.500</td>\n",
       "      <td>0.000</td>\n",
       "      <td>0.500</td>\n",
       "      <td>i_n_-_t.npy</td>\n",
       "      <td>True</td>\n",
       "      <td>rf</td>\n",
       "    </tr>\n",
       "    <tr>\n",
       "      <td>155</td>\n",
       "      <td>0.778</td>\n",
       "      <td>0.500</td>\n",
       "      <td>0.000</td>\n",
       "      <td>0.500</td>\n",
       "      <td>o_c_x_p.npy</td>\n",
       "      <td>True</td>\n",
       "      <td>rf</td>\n",
       "    </tr>\n",
       "    <tr>\n",
       "      <td>144</td>\n",
       "      <td>0.778</td>\n",
       "      <td>0.500</td>\n",
       "      <td>0.000</td>\n",
       "      <td>0.500</td>\n",
       "      <td>i_c_x_t.npy</td>\n",
       "      <td>True</td>\n",
       "      <td>rf</td>\n",
       "    </tr>\n",
       "  </tbody>\n",
       "</table>\n",
       "<p>288 rows × 7 columns</p>\n",
       "</div>"
      ],
      "text/plain": [
       "     accuracy  balanced_accuracy     f1  roc_auc         file  encode  \\\n",
       "210     0.889        0.884        0.778    0.884  o_n_v_-.npy   False   \n",
       "50      0.889        0.839        0.750    0.839  o_n_x_-.npy   False   \n",
       "263     0.861        0.866        0.737    0.866  o_c_-_-.npy    True   \n",
       "242     0.861        0.821        0.706    0.821  o_n_x_-.npy    True   \n",
       "219     0.861        0.821        0.706    0.821  o_n_-_-.npy   False   \n",
       "..        ...          ...          ...      ...          ...     ...   \n",
       "149     0.778        0.500        0.000    0.500  o_n_x_s.npy    True   \n",
       "151     0.778        0.500        0.000    0.500  i_n_v_t.npy    True   \n",
       "152     0.778        0.500        0.000    0.500  i_n_-_t.npy    True   \n",
       "155     0.778        0.500        0.000    0.500  o_c_x_p.npy    True   \n",
       "144     0.778        0.500        0.000    0.500  i_c_x_t.npy    True   \n",
       "\n",
       "        model  \n",
       "210       svm  \n",
       "50   logistic  \n",
       "263       svm  \n",
       "242       svm  \n",
       "219       svm  \n",
       "..        ...  \n",
       "149        rf  \n",
       "151        rf  \n",
       "152        rf  \n",
       "155        rf  \n",
       "144        rf  \n",
       "\n",
       "[288 rows x 7 columns]"
      ]
     },
     "execution_count": 13,
     "metadata": {},
     "output_type": "execute_result"
    }
   ],
   "source": [
    "results_c.sort_values(by=['f1'], ascending=False)"
   ]
  },
  {
   "cell_type": "markdown",
   "metadata": {},
   "source": [
    "# Regression"
   ]
  },
  {
   "cell_type": "code",
   "execution_count": 16,
   "metadata": {},
   "outputs": [],
   "source": [
    "from sklearn.metrics import r2_score, mean_squared_error\n",
    "from sklearn.linear_model import LinearRegression\n",
    "from sklearn.ensemble import RandomForestRegressor\n",
    "from sklearn.svm import SVR"
   ]
  },
  {
   "cell_type": "code",
   "execution_count": 17,
   "metadata": {},
   "outputs": [],
   "source": [
    "y_r = records['carb_num'][mask]\n",
    "metrics_r = [r2_score, mean_squared_error]"
   ]
  },
  {
   "cell_type": "code",
   "execution_count": 22,
   "metadata": {},
   "outputs": [],
   "source": [
    "def train_regs(reg, model, encode):\n",
    "    results = []\n",
    "    data = data_e if encode else data_u\n",
    "    for d, X in data.items():\n",
    "        X_train, X_test, y_train, y_test = train_test_split(X, y_r, random_state=random_state,\n",
    "                                                            train_size=0.7)\n",
    "        reg.fit(X_train, y_train)\n",
    "        y_pred = reg.predict(X_test)\n",
    "        m = {metric.__name__.replace('_score', ''): metric(y_test, y_pred)\n",
    "             for metric in metrics_r}\n",
    "        m.update({'file': d, 'encode': encode, 'model': model})\n",
    "        results.append(m)\n",
    "    return results"
   ]
  },
  {
   "cell_type": "markdown",
   "metadata": {},
   "source": [
    "### Linear regression"
   ]
  },
  {
   "cell_type": "code",
   "execution_count": 23,
   "metadata": {},
   "outputs": [
    {
     "name": "stdout",
     "output_type": "stream",
     "text": [
      "CPU times: user 4min 48s, sys: 11.1 s, total: 4min 59s\n",
      "Wall time: 15.1 s\n",
      "CPU times: user 8min 48s, sys: 18.1 s, total: 9min 7s\n",
      "Wall time: 20.1 s\n"
     ]
    }
   ],
   "source": [
    "# 20*2 seconds\n",
    "lrr = LinearRegression(n_jobs=5)\n",
    "%time lrr_u = train_regs(lrr, 'linear', False)\n",
    "%time lrr_e = train_regs(lrr, 'linear', True)"
   ]
  },
  {
   "cell_type": "markdown",
   "metadata": {},
   "source": [
    "### Random forest"
   ]
  },
  {
   "cell_type": "code",
   "execution_count": 24,
   "metadata": {},
   "outputs": [
    {
     "name": "stdout",
     "output_type": "stream",
     "text": [
      "CPU times: user 1h 38min, sys: 7.95 s, total: 1h 38min 8s\n",
      "Wall time: 20min 15s\n",
      "CPU times: user 4h 22min 20s, sys: 10.3 s, total: 4h 22min 30s\n",
      "Wall time: 53min 17s\n"
     ]
    }
   ],
   "source": [
    "# 20 and 53 minutes\n",
    "rfr = RandomForestRegressor(n_estimators=500, n_jobs=5)\n",
    "%time rfr_u = train_regs(rfr, 'rf', False)\n",
    "%time rfr_e = train_regs(rfr, 'rf', True)"
   ]
  },
  {
   "cell_type": "markdown",
   "metadata": {},
   "source": [
    "### Support vector machine"
   ]
  },
  {
   "cell_type": "code",
   "execution_count": 25,
   "metadata": {},
   "outputs": [
    {
     "name": "stdout",
     "output_type": "stream",
     "text": [
      "CPU times: user 48.8 s, sys: 1.72 s, total: 50.5 s\n",
      "Wall time: 50.6 s\n",
      "CPU times: user 1min 26s, sys: 1.97 s, total: 1min 28s\n",
      "Wall time: 1min 28s\n"
     ]
    }
   ],
   "source": [
    "# 1 and 1.5 minutes\n",
    "svr = SVR(gamma='auto')\n",
    "%time svr_u = train_regs(svr, 'svm', False)\n",
    "%time svr_e = train_regs(svr, 'svm', True)"
   ]
  },
  {
   "cell_type": "code",
   "execution_count": 26,
   "metadata": {},
   "outputs": [
    {
     "data": {
      "text/html": [
       "<div>\n",
       "<style scoped>\n",
       "    .dataframe tbody tr th:only-of-type {\n",
       "        vertical-align: middle;\n",
       "    }\n",
       "\n",
       "    .dataframe tbody tr th {\n",
       "        vertical-align: top;\n",
       "    }\n",
       "\n",
       "    .dataframe thead th {\n",
       "        text-align: right;\n",
       "    }\n",
       "</style>\n",
       "<table border=\"1\" class=\"dataframe\">\n",
       "  <thead>\n",
       "    <tr style=\"text-align: right;\">\n",
       "      <th></th>\n",
       "      <th>r2</th>\n",
       "      <th>mean_squared_error</th>\n",
       "      <th>file</th>\n",
       "      <th>encode</th>\n",
       "      <th>model</th>\n",
       "    </tr>\n",
       "  </thead>\n",
       "  <tbody>\n",
       "    <tr>\n",
       "      <td>0</td>\n",
       "      <td>8.847e-04</td>\n",
       "      <td>111.842</td>\n",
       "      <td>i_n_v_s.npy</td>\n",
       "      <td>True</td>\n",
       "      <td>linear</td>\n",
       "    </tr>\n",
       "    <tr>\n",
       "      <td>1</td>\n",
       "      <td>-9.008e-01</td>\n",
       "      <td>212.781</td>\n",
       "      <td>i_n_x_-.npy</td>\n",
       "      <td>True</td>\n",
       "      <td>linear</td>\n",
       "    </tr>\n",
       "    <tr>\n",
       "      <td>2</td>\n",
       "      <td>-2.881e-03</td>\n",
       "      <td>112.264</td>\n",
       "      <td>o_n_v_p.npy</td>\n",
       "      <td>True</td>\n",
       "      <td>linear</td>\n",
       "    </tr>\n",
       "    <tr>\n",
       "      <td>3</td>\n",
       "      <td>-2.565e-01</td>\n",
       "      <td>140.657</td>\n",
       "      <td>o_c_x_-.npy</td>\n",
       "      <td>True</td>\n",
       "      <td>linear</td>\n",
       "    </tr>\n",
       "    <tr>\n",
       "      <td>4</td>\n",
       "      <td>-4.616e-03</td>\n",
       "      <td>112.458</td>\n",
       "      <td>i_n_-_p.npy</td>\n",
       "      <td>True</td>\n",
       "      <td>linear</td>\n",
       "    </tr>\n",
       "  </tbody>\n",
       "</table>\n",
       "</div>"
      ],
      "text/plain": [
       "          r2  mean_squared_error         file  encode   model\n",
       "0  8.847e-04      111.842         i_n_v_s.npy    True  linear\n",
       "1 -9.008e-01      212.781         i_n_x_-.npy    True  linear\n",
       "2 -2.881e-03      112.264         o_n_v_p.npy    True  linear\n",
       "3 -2.565e-01      140.657         o_c_x_-.npy    True  linear\n",
       "4 -4.616e-03      112.458         i_n_-_p.npy    True  linear"
      ]
     },
     "execution_count": 26,
     "metadata": {},
     "output_type": "execute_result"
    }
   ],
   "source": [
    "results_r = pd.DataFrame(lrr_e + lrr_u + rfr_u + rfr_e + svr_u + svr_e)\n",
    "results_r.to_csv('result/result_pseudo_reg.csv', index=False)\n",
    "results_r.head()"
   ]
  },
  {
   "cell_type": "code",
   "execution_count": 29,
   "metadata": {},
   "outputs": [
    {
     "data": {
      "text/html": [
       "<div>\n",
       "<style scoped>\n",
       "    .dataframe tbody tr th:only-of-type {\n",
       "        vertical-align: middle;\n",
       "    }\n",
       "\n",
       "    .dataframe tbody tr th {\n",
       "        vertical-align: top;\n",
       "    }\n",
       "\n",
       "    .dataframe thead th {\n",
       "        text-align: right;\n",
       "    }\n",
       "</style>\n",
       "<table border=\"1\" class=\"dataframe\">\n",
       "  <thead>\n",
       "    <tr style=\"text-align: right;\">\n",
       "      <th></th>\n",
       "      <th>r2</th>\n",
       "      <th>mean_squared_error</th>\n",
       "      <th>file</th>\n",
       "      <th>encode</th>\n",
       "      <th>model</th>\n",
       "    </tr>\n",
       "  </thead>\n",
       "  <tbody>\n",
       "    <tr>\n",
       "      <td>110</td>\n",
       "      <td>0.052</td>\n",
       "      <td>106.118</td>\n",
       "      <td>o_c_x_s.npy</td>\n",
       "      <td>False</td>\n",
       "      <td>rf</td>\n",
       "    </tr>\n",
       "    <tr>\n",
       "      <td>115</td>\n",
       "      <td>0.049</td>\n",
       "      <td>106.413</td>\n",
       "      <td>o_c_v_p.npy</td>\n",
       "      <td>False</td>\n",
       "      <td>rf</td>\n",
       "    </tr>\n",
       "    <tr>\n",
       "      <td>14</td>\n",
       "      <td>0.020</td>\n",
       "      <td>109.688</td>\n",
       "      <td>o_c_x_s.npy</td>\n",
       "      <td>True</td>\n",
       "      <td>linear</td>\n",
       "    </tr>\n",
       "    <tr>\n",
       "      <td>15</td>\n",
       "      <td>0.020</td>\n",
       "      <td>109.722</td>\n",
       "      <td>i_n_x_s.npy</td>\n",
       "      <td>True</td>\n",
       "      <td>linear</td>\n",
       "    </tr>\n",
       "    <tr>\n",
       "      <td>105</td>\n",
       "      <td>0.016</td>\n",
       "      <td>110.198</td>\n",
       "      <td>i_n_x_t.npy</td>\n",
       "      <td>False</td>\n",
       "      <td>rf</td>\n",
       "    </tr>\n",
       "    <tr>\n",
       "      <td>...</td>\n",
       "      <td>...</td>\n",
       "      <td>...</td>\n",
       "      <td>...</td>\n",
       "      <td>...</td>\n",
       "      <td>...</td>\n",
       "    </tr>\n",
       "    <tr>\n",
       "      <td>48</td>\n",
       "      <td>-20.476</td>\n",
       "      <td>2404.067</td>\n",
       "      <td>i_n_v_s.npy</td>\n",
       "      <td>False</td>\n",
       "      <td>linear</td>\n",
       "    </tr>\n",
       "    <tr>\n",
       "      <td>63</td>\n",
       "      <td>-25.124</td>\n",
       "      <td>2924.399</td>\n",
       "      <td>i_n_x_s.npy</td>\n",
       "      <td>False</td>\n",
       "      <td>linear</td>\n",
       "    </tr>\n",
       "    <tr>\n",
       "      <td>82</td>\n",
       "      <td>-41.163</td>\n",
       "      <td>4719.836</td>\n",
       "      <td>i_c_v_s.npy</td>\n",
       "      <td>False</td>\n",
       "      <td>linear</td>\n",
       "    </tr>\n",
       "    <tr>\n",
       "      <td>75</td>\n",
       "      <td>-52.805</td>\n",
       "      <td>6022.988</td>\n",
       "      <td>i_c_x_s.npy</td>\n",
       "      <td>False</td>\n",
       "      <td>linear</td>\n",
       "    </tr>\n",
       "    <tr>\n",
       "      <td>64</td>\n",
       "      <td>-68.246</td>\n",
       "      <td>7751.516</td>\n",
       "      <td>i_c_-_s.npy</td>\n",
       "      <td>False</td>\n",
       "      <td>linear</td>\n",
       "    </tr>\n",
       "  </tbody>\n",
       "</table>\n",
       "<p>288 rows × 5 columns</p>\n",
       "</div>"
      ],
      "text/plain": [
       "         r2  mean_squared_error         file  encode   model\n",
       "110   0.052      106.118         o_c_x_s.npy   False      rf\n",
       "115   0.049      106.413         o_c_v_p.npy   False      rf\n",
       "14    0.020      109.688         o_c_x_s.npy    True  linear\n",
       "15    0.020      109.722         i_n_x_s.npy    True  linear\n",
       "105   0.016      110.198         i_n_x_t.npy   False      rf\n",
       "..      ...          ...                 ...     ...     ...\n",
       "48  -20.476     2404.067         i_n_v_s.npy   False  linear\n",
       "63  -25.124     2924.399         i_n_x_s.npy   False  linear\n",
       "82  -41.163     4719.836         i_c_v_s.npy   False  linear\n",
       "75  -52.805     6022.988         i_c_x_s.npy   False  linear\n",
       "64  -68.246     7751.516         i_c_-_s.npy   False  linear\n",
       "\n",
       "[288 rows x 5 columns]"
      ]
     },
     "execution_count": 29,
     "metadata": {},
     "output_type": "execute_result"
    }
   ],
   "source": [
    "results_r.sort_values(by=['mean_squared_error'])"
   ]
  },
  {
   "cell_type": "code",
   "execution_count": null,
   "metadata": {},
   "outputs": [],
   "source": []
  }
 ],
 "metadata": {
  "kernelspec": {
   "display_name": "Python 3",
   "language": "python",
   "name": "python3"
  },
  "language_info": {
   "codemirror_mode": {
    "name": "ipython",
    "version": 3
   },
   "file_extension": ".py",
   "mimetype": "text/x-python",
   "name": "python",
   "nbconvert_exporter": "python",
   "pygments_lexer": "ipython3",
   "version": "3.7.4"
  }
 },
 "nbformat": 4,
 "nbformat_minor": 2
}
