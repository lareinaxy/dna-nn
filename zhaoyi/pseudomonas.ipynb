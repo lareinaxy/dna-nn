{
 "cells": [
  {
   "cell_type": "markdown",
   "metadata": {},
   "source": [
    "## Notes\n",
    "- [ ] condon features\n",
    "- [ ] imputation for the missing nucleotide\n",
    "- [x] distance matrix like to measure how close two sequence are\n",
    "- [x] PCA on distance matrix, distances would be features\n",
    "- [x] simple models\n",
    "- [ ] generate data from phylogenetic tree\n",
    "- [ ] high sample weights for false negatives\n",
    "- [ ] similarly, give weights based on the variation frequencies of each loci\n",
    "- [ ] **more accurate description of xy labels of graphs**\n",
    "\n",
    "## Next Week\n",
    "- [x] phylogentic tree\n",
    "- [x] DendroPy\n",
    "- [x] frequency of nucleotides"
   ]
  },
  {
   "cell_type": "markdown",
   "metadata": {},
   "source": [
    "# Explore data"
   ]
  },
  {
   "cell_type": "code",
   "execution_count": 1,
   "metadata": {},
   "outputs": [],
   "source": [
    "from collections import Counter\n",
    "\n",
    "import numpy as np\n",
    "import pandas as pd\n",
    "import matplotlib.pyplot as plt\n",
    "import dendropy\n",
    "from Bio import SeqIO, Phylo\n",
    "\n",
    "%matplotlib inline\n",
    "pd.options.display.precision = 3"
   ]
  },
  {
   "cell_type": "code",
   "execution_count": 159,
   "metadata": {},
   "outputs": [
    {
     "data": {
      "text/html": [
       "<div>\n",
       "<style scoped>\n",
       "    .dataframe tbody tr th:only-of-type {\n",
       "        vertical-align: middle;\n",
       "    }\n",
       "\n",
       "    .dataframe tbody tr th {\n",
       "        vertical-align: top;\n",
       "    }\n",
       "\n",
       "    .dataframe thead th {\n",
       "        text-align: right;\n",
       "    }\n",
       "</style>\n",
       "<table border=\"1\" class=\"dataframe\">\n",
       "  <thead>\n",
       "    <tr style=\"text-align: right;\">\n",
       "      <th></th>\n",
       "      <th>id</th>\n",
       "      <th>sequence</th>\n",
       "      <th>carb</th>\n",
       "      <th>toby</th>\n",
       "      <th>missing</th>\n",
       "      <th>missing_percentage</th>\n",
       "    </tr>\n",
       "  </thead>\n",
       "  <tbody>\n",
       "    <tr>\n",
       "      <td>0</td>\n",
       "      <td>TA151</td>\n",
       "      <td>ATGAGTGATCTGCCAAGTCCGAAGAAACACAAGACCTCGAACTGGT...</td>\n",
       "      <td>True</td>\n",
       "      <td>False</td>\n",
       "      <td>31842</td>\n",
       "      <td>6.588</td>\n",
       "    </tr>\n",
       "    <tr>\n",
       "      <td>1</td>\n",
       "      <td>IC1</td>\n",
       "      <td>ATGAGTGATCTGCCAAGTCCGAAGAAACACAAGACCTCGAACTGGT...</td>\n",
       "      <td>False</td>\n",
       "      <td>False</td>\n",
       "      <td>46071</td>\n",
       "      <td>9.532</td>\n",
       "    </tr>\n",
       "    <tr>\n",
       "      <td>2</td>\n",
       "      <td>A237</td>\n",
       "      <td>ATGAGTGATCTGCCAAGTCCGAAGAAACACAAGACCTCGAACTGGT...</td>\n",
       "      <td>True</td>\n",
       "      <td>False</td>\n",
       "      <td>44514</td>\n",
       "      <td>9.210</td>\n",
       "    </tr>\n",
       "    <tr>\n",
       "      <td>3</td>\n",
       "      <td>5920</td>\n",
       "      <td>ATGAGTGATCTGCCAAGTCCGAAGAAACACAAGACCTCGAACTGGT...</td>\n",
       "      <td>NaN</td>\n",
       "      <td>NaN</td>\n",
       "      <td>49497</td>\n",
       "      <td>10.241</td>\n",
       "    </tr>\n",
       "    <tr>\n",
       "      <td>4</td>\n",
       "      <td>LiA96</td>\n",
       "      <td>ATGAGTGATCTGCCAAGTCCGAAGAAACACAAGACCTCGAACTGGT...</td>\n",
       "      <td>False</td>\n",
       "      <td>False</td>\n",
       "      <td>44067</td>\n",
       "      <td>9.117</td>\n",
       "    </tr>\n",
       "    <tr>\n",
       "      <td>...</td>\n",
       "      <td>...</td>\n",
       "      <td>...</td>\n",
       "      <td>...</td>\n",
       "      <td>...</td>\n",
       "      <td>...</td>\n",
       "      <td>...</td>\n",
       "    </tr>\n",
       "    <tr>\n",
       "      <td>117</td>\n",
       "      <td>JD318</td>\n",
       "      <td>----------------------------------------------...</td>\n",
       "      <td>False</td>\n",
       "      <td>False</td>\n",
       "      <td>77766</td>\n",
       "      <td>16.090</td>\n",
       "    </tr>\n",
       "    <tr>\n",
       "      <td>118</td>\n",
       "      <td>Jp238</td>\n",
       "      <td>----------------------------------------------...</td>\n",
       "      <td>False</td>\n",
       "      <td>False</td>\n",
       "      <td>43062</td>\n",
       "      <td>8.909</td>\n",
       "    </tr>\n",
       "    <tr>\n",
       "      <td>119</td>\n",
       "      <td>Jp1303</td>\n",
       "      <td>----------------------------------------------...</td>\n",
       "      <td>False</td>\n",
       "      <td>False</td>\n",
       "      <td>44151</td>\n",
       "      <td>9.135</td>\n",
       "    </tr>\n",
       "    <tr>\n",
       "      <td>120</td>\n",
       "      <td>JD304</td>\n",
       "      <td>----------------------------------------------...</td>\n",
       "      <td>False</td>\n",
       "      <td>False</td>\n",
       "      <td>75465</td>\n",
       "      <td>15.613</td>\n",
       "    </tr>\n",
       "    <tr>\n",
       "      <td>121</td>\n",
       "      <td>LiA131</td>\n",
       "      <td>----------------------------------------------...</td>\n",
       "      <td>False</td>\n",
       "      <td>False</td>\n",
       "      <td>42507</td>\n",
       "      <td>8.795</td>\n",
       "    </tr>\n",
       "  </tbody>\n",
       "</table>\n",
       "<p>122 rows × 6 columns</p>\n",
       "</div>"
      ],
      "text/plain": [
       "         id                                           sequence   carb   toby  \\\n",
       "0     TA151  ATGAGTGATCTGCCAAGTCCGAAGAAACACAAGACCTCGAACTGGT...   True  False   \n",
       "1       IC1  ATGAGTGATCTGCCAAGTCCGAAGAAACACAAGACCTCGAACTGGT...  False  False   \n",
       "2      A237  ATGAGTGATCTGCCAAGTCCGAAGAAACACAAGACCTCGAACTGGT...   True  False   \n",
       "3      5920  ATGAGTGATCTGCCAAGTCCGAAGAAACACAAGACCTCGAACTGGT...    NaN    NaN   \n",
       "4     LiA96  ATGAGTGATCTGCCAAGTCCGAAGAAACACAAGACCTCGAACTGGT...  False  False   \n",
       "..      ...                                                ...    ...    ...   \n",
       "117   JD318  ----------------------------------------------...  False  False   \n",
       "118   Jp238  ----------------------------------------------...  False  False   \n",
       "119  Jp1303  ----------------------------------------------...  False  False   \n",
       "120   JD304  ----------------------------------------------...  False  False   \n",
       "121  LiA131  ----------------------------------------------...  False  False   \n",
       "\n",
       "     missing  missing_percentage  \n",
       "0      31842               6.588  \n",
       "1      46071               9.532  \n",
       "2      44514               9.210  \n",
       "3      49497              10.241  \n",
       "4      44067               9.117  \n",
       "..       ...                 ...  \n",
       "117    77766              16.090  \n",
       "118    43062               8.909  \n",
       "119    44151               9.135  \n",
       "120    75465              15.613  \n",
       "121    42507               8.795  \n",
       "\n",
       "[122 rows x 6 columns]"
      ]
     },
     "execution_count": 159,
     "metadata": {},
     "output_type": "execute_result"
    }
   ],
   "source": [
    "# load responses-pseudo.csv - the result of antibiotic resistence of pseudomonas\n",
    "# 122 * 2 (2 antibiotics)\n",
    "resp = pd.read_csv('../data/responses-pseudo.csv', names=['id', 'lab-id', 'carb', 'toby'], skiprows=1)\n",
    "resp.drop('lab-id', axis=1, inplace=True)\n",
    "\n",
    "# load concatenated.fasta - the gene sequence of pseudomonas\n",
    "# 122 * (483333 -> 261868)\n",
    "src = SeqIO.parse('../data/concatenated.fasta', 'fasta')\n",
    "data = [(record.id, record.seq._data) for record in src]\n",
    "seq = pd.DataFrame(data=data, columns=['id', 'sequence'])\n",
    "\n",
    "# merge DataFrames of two files into one DataFrame\n",
    "records = pd.merge(seq, resp, on='id')\n",
    "\n",
    "# calculate missing number and percentage of nucleotides of each sequence\n",
    "seq_len = np.mean(records['sequence'].apply(len))\n",
    "records['missing'] = records['sequence'].apply(lambda seq: Counter(seq)['-'])\n",
    "\n",
    "records['missing_percentage'] = records['missing'] / seq_len * 100\n",
    "records"
   ]
  },
  {
   "cell_type": "code",
   "execution_count": 3,
   "metadata": {},
   "outputs": [
    {
     "data": {
      "image/png": "[encoded data removed]",
      "text/plain": [
       "<Figure size 432x288 with 1 Axes>"
      ]
     },
     "metadata": {
      "needs_background": "light"
     },
     "output_type": "display_data"
    }
   ],
   "source": [
    "# show the skewness of the data set\n",
    "def show_count(rects):\n",
    "    '''Show the height of each bar in the bar chart'''\n",
    "    for rect in rects:\n",
    "        height = rect.get_height()\n",
    "        plt.annotate('{}'.format(height),\n",
    "                     xy=(rect.get_x() + rect.get_width()/2, height),\n",
    "                     ha='center', va='bottom')\n",
    "\n",
    "x = np.array([0, 1]) # False, True\n",
    "\n",
    "counts_carb = records['carb'].value_counts()\n",
    "carb = plt.bar(x=x-0.125, height=counts_carb, width=0.25, alpha=0.9, label='carb')\n",
    "counts_toby = records['toby'].value_counts()\n",
    "toby = plt.bar(x=x+0.125, height=counts_toby, width=0.25, alpha=0.9, label='toby')\n",
    "\n",
    "show_count(carb)\n",
    "show_count(toby)\n",
    "\n",
    "plt.xticks(x, ['Susceptible', 'Resistant'])\n",
    "plt.ylim((0, 120))\n",
    "plt.ylabel('counts')\n",
    "plt.title('Resistance of $Pseudomonas$ to carb and toby')\n",
    "\n",
    "plt.tight_layout()\n",
    "plt.legend()\n",
    "plt.savefig('pseudo_skewness.png')\n",
    "plt.show()"
   ]
  },
  {
   "cell_type": "code",
   "execution_count": 8,
   "metadata": {
    "scrolled": true
   },
   "outputs": [
    {
     "data": {
      "text/html": [
       "<div>\n",
       "<style scoped>\n",
       "    .dataframe tbody tr th:only-of-type {\n",
       "        vertical-align: middle;\n",
       "    }\n",
       "\n",
       "    .dataframe tbody tr th {\n",
       "        vertical-align: top;\n",
       "    }\n",
       "\n",
       "    .dataframe thead th {\n",
       "        text-align: right;\n",
       "    }\n",
       "</style>\n",
       "<table border=\"1\" class=\"dataframe\">\n",
       "  <thead>\n",
       "    <tr style=\"text-align: right;\">\n",
       "      <th></th>\n",
       "      <th>carb</th>\n",
       "      <th>toby</th>\n",
       "    </tr>\n",
       "  </thead>\n",
       "  <tbody>\n",
       "    <tr>\n",
       "      <td>False</td>\n",
       "      <td>78.992</td>\n",
       "      <td>94.958</td>\n",
       "    </tr>\n",
       "    <tr>\n",
       "      <td>True</td>\n",
       "      <td>21.008</td>\n",
       "      <td>5.042</td>\n",
       "    </tr>\n",
       "  </tbody>\n",
       "</table>\n",
       "</div>"
      ],
      "text/plain": [
       "         carb    toby\n",
       "False  78.992  94.958\n",
       "True   21.008   5.042"
      ]
     },
     "execution_count": 8,
     "metadata": {},
     "output_type": "execute_result"
    }
   ],
   "source": [
    "# calculate true/false percentage of two classes\n",
    "counts = pd.DataFrame({'carb':counts_carb, 'toby':counts_toby})\n",
    "counts.div(counts.sum() / 100)"
   ]
  },
  {
   "cell_type": "code",
   "execution_count": null,
   "metadata": {
    "scrolled": true
   },
   "outputs": [],
   "source": [
    "# show the missingness of the sequence\n",
    "data = records['missing_percentage']\n",
    "n, bins, patches = plt.hist(data, bins=25, alpha=0.9)\n",
    "mu, sigma = np.mean(data), np.std(data)\n",
    "\n",
    "plt.grid()\n",
    "plt.yticks(ticks=range(0, 21, 5))\n",
    "plt.ylabel('counts')\n",
    "plt.xlabel('percentage of missing nucleotides(%)')\n",
    "plt.title('Distribution of percentage of missing nucleotides')\n",
    "plt.text(12, 15, '$\\mu={:.3}, \\sigma={:.3}$'.format(mu, sigma))\n",
    "\n",
    "plt.tight_layout()\n",
    "plt.savefig('pseudo_missingness_1.png')\n",
    "plt.show()"
   ]
  },
  {
   "cell_type": "code",
   "execution_count": null,
   "metadata": {},
   "outputs": [],
   "source": [
    "highest_missing_percentage = np.max(records['missing_percentage'])\n",
    "highest_missing_percentage"
   ]
  },
  {
   "cell_type": "code",
   "execution_count": null,
   "metadata": {},
   "outputs": [],
   "source": [
    "# show the individual missingness of the sequence\n",
    "plt.figure(figsize=(19.2, 4.8))\n",
    "plt.scatter(range(122), records['missing_percentage'])\n",
    "\n",
    "plt.xlim((-1, 122))\n",
    "plt.ylim((0, 20))\n",
    "plt.xticks(ticks=range(122), labels=records['id'].to_list(), rotation=90, fontsize=9)\n",
    "plt.ylabel('percentage of missing nucleotides(%)')\n",
    "plt.title('Individual percentage of missing nucleotides')\n",
    "plt.grid(axis='y')\n",
    "plt.savefig('pseudo_missingness_2.png')\n",
    "plt.show()"
   ]
  },
  {
   "cell_type": "code",
   "execution_count": 12,
   "metadata": {},
   "outputs": [],
   "source": [
    "# ratio of different nucleotides in total\n",
    "c = Counter()\n",
    "for seq in records['sequence']:\n",
    "    c.update(Counter(seq))"
   ]
  },
  {
   "cell_type": "code",
   "execution_count": 20,
   "metadata": {},
   "outputs": [
    {
     "data": {
      "image/png": "[encoded data removed]",
      "text/plain": [
       "<Figure size 432x288 with 1 Axes>"
      ]
     },
     "metadata": {
      "needs_background": "light"
     },
     "output_type": "display_data"
    }
   ],
   "source": [
    "total = pd.Series(c)\n",
    "total /= (total.sum() / 100)\n",
    "plt.bar(x=total.index, height=total, alpha=0.9)\n",
    "\n",
    "plt.xlabel('nucleotide')\n",
    "plt.ylabel('total percentage across all samples')\n",
    "plt.show()"
   ]
  },
  {
   "cell_type": "markdown",
   "metadata": {},
   "source": [
    "# Group into condons"
   ]
  },
  {
   "cell_type": "code",
   "execution_count": null,
   "metadata": {},
   "outputs": [],
   "source": [
    "# group genes in the sequence by three (into condons)\n",
    "# and count different number of condons across all samples\n",
    "condonify = lambda seq: [seq[i:i+3] for i in range(0, len(seq), 3)]\n",
    "sequence_condonified = records['sequence'].apply(condonify)\n",
    "c = Counter()\n",
    "for condons in sequence_condonified:\n",
    "    c.update(Counter(condons))"
   ]
  },
  {
   "cell_type": "code",
   "execution_count": null,
   "metadata": {},
   "outputs": [],
   "source": [
    "len(c.keys())"
   ]
  },
  {
   "cell_type": "code",
   "execution_count": null,
   "metadata": {},
   "outputs": [],
   "source": [
    "c.keys()"
   ]
  },
  {
   "cell_type": "code",
   "execution_count": null,
   "metadata": {},
   "outputs": [],
   "source": [
    "# verify the result\n",
    "sum(c.values()) * 3 / 122 == seq_len"
   ]
  },
  {
   "cell_type": "code",
   "execution_count": null,
   "metadata": {},
   "outputs": [],
   "source": [
    "%time condon_df = pd.DataFrame(sequence_condonified.to_list())"
   ]
  },
  {
   "cell_type": "markdown",
   "metadata": {},
   "source": [
    "## no imputation"
   ]
  },
  {
   "cell_type": "code",
   "execution_count": null,
   "metadata": {},
   "outputs": [],
   "source": [
    "l = []\n",
    "for i in range(condon_df.shape[1]):\n",
    "    if condon_df.iloc[:, i].value_counts().size == 1:\n",
    "        l.append(i)"
   ]
  },
  {
   "cell_type": "code",
   "execution_count": null,
   "metadata": {},
   "outputs": [],
   "source": [
    "condon_df_variant = condon_df.drop(columns=l)\n",
    "condon_df_variant.shape"
   ]
  },
  {
   "cell_type": "markdown",
   "metadata": {},
   "source": [
    "## naive imputation"
   ]
  },
  {
   "cell_type": "code",
   "execution_count": null,
   "metadata": {},
   "outputs": [],
   "source": [
    "def impute(condons):\n",
    "    '''replace --- with the most frequent condon at this locus'''\n",
    "    counts = condons.value_counts()\n",
    "    if '---' in counts.index:\n",
    "        return condons.where(condons!='---', counts.idxmax())\n",
    "    return condons"
   ]
  },
  {
   "cell_type": "code",
   "execution_count": null,
   "metadata": {},
   "outputs": [],
   "source": [
    "%time condon_df_impute = condon_df.apply(impute)"
   ]
  },
  {
   "cell_type": "code",
   "execution_count": null,
   "metadata": {},
   "outputs": [],
   "source": [
    "l_impute = []\n",
    "for i in range(condon_df_impute.shape[1]):\n",
    "    if condon_df_impute.iloc[:, i].value_counts().size == 1:\n",
    "        l_impute.append(i)"
   ]
  },
  {
   "cell_type": "code",
   "execution_count": null,
   "metadata": {},
   "outputs": [],
   "source": [
    "condon_df_impute_variant = condon_df_impute.drop(columns=l_impute)\n",
    "condon_df_impute_variant.shape"
   ]
  },
  {
   "cell_type": "code",
   "execution_count": null,
   "metadata": {},
   "outputs": [],
   "source": [
    "c = []\n",
    "for col in condon_df_impute_variant.columns:\n",
    "    c.append(condon_df_impute_variant[col].value_counts().size)\n",
    "condon_counts = np.bincount(c)"
   ]
  },
  {
   "cell_type": "code",
   "execution_count": null,
   "metadata": {},
   "outputs": [],
   "source": [
    "# number of different condons at each loci\n",
    "plt.bar(np.arange(condon_counts.size), condon_counts)\n",
    "plt.xlim((0, 15))\n",
    "plt.xlabel('different condons at a particular locus')\n",
    "plt.ylabel('counts of different condons')"
   ]
  },
  {
   "cell_type": "code",
   "execution_count": null,
   "metadata": {},
   "outputs": [],
   "source": [
    "# condon_df_impute_variant['missing'] = condon_df_impute_variant.agg()\n",
    "missing = []\n",
    "count_missing = lambda series: Counter(''.join(series))['-']\n",
    "for row in range(condon_df_impute_variant.shape[0]):\n",
    "    missing.append(count_missing(condon_df_impute_variant.iloc[row]))"
   ]
  },
  {
   "cell_type": "code",
   "execution_count": null,
   "metadata": {},
   "outputs": [],
   "source": [
    "missing[:5]"
   ]
  },
  {
   "cell_type": "code",
   "execution_count": null,
   "metadata": {},
   "outputs": [],
   "source": [
    "len(''.join(condon_df_impute_variant.iloc[1])), count_missing(''.join(condon_df_impute_variant.iloc[1]))"
   ]
  },
  {
   "cell_type": "code",
   "execution_count": null,
   "metadata": {},
   "outputs": [],
   "source": [
    "seq_len_variant = condon_df_impute_variant.columns.size * 3\n",
    "missing_percent = np.array(missing) / seq_len_variant * 100\n",
    "plt.hist(missing_percent, bins=25)"
   ]
  },
  {
   "cell_type": "markdown",
   "metadata": {},
   "source": [
    "# Distance matrix & Phylogenetic tree"
   ]
  },
  {
   "cell_type": "code",
   "execution_count": null,
   "metadata": {},
   "outputs": [],
   "source": [
    "def diff(seq1, seq2):\n",
    "    '''Count the number of different loci between two sequences'''\n",
    "    diff_count = 0\n",
    "    for n1, n2 in zip(seq1, seq2):\n",
    "        if n1 != n2:\n",
    "            diff_count += 1\n",
    "    return diff_count"
   ]
  },
  {
   "cell_type": "code",
   "execution_count": null,
   "metadata": {},
   "outputs": [],
   "source": [
    "# build the distance matrix\n",
    "dist_mat = np.zeros((records.shape[0], records.shape[0]), dtype='i4')\n",
    "for i in range(records.shape[0]):\n",
    "    for j in range(i, records.shape[0]):\n",
    "        d = diff(records['sequence'][i], records['sequence'][j])\n",
    "        dist_mat[i, j] = d\n",
    "        dist_mat[j, i] = d"
   ]
  },
  {
   "cell_type": "code",
   "execution_count": null,
   "metadata": {},
   "outputs": [],
   "source": [
    "dist_mat = pd.DataFrame(dist_mat, index=records['id'], columns=records['id'])\n",
    "dist_mat[dist_mat==0] = np.inf\n",
    "dist_mat.to_csv('../data/pseudo_dist_mat.csv')"
   ]
  },
  {
   "cell_type": "code",
   "execution_count": 204,
   "metadata": {},
   "outputs": [
    {
     "name": "stdout",
     "output_type": "stream",
     "text": [
      "<class 'pandas.core.frame.DataFrame'>\n",
      "Index: 122 entries, TA151 to LiA131\n",
      "Columns: 122 entries, TA151 to LiA131\n",
      "dtypes: float64(122)\n",
      "memory usage: 117.2+ KB\n"
     ]
    }
   ],
   "source": [
    "dist_mat = pd.read_csv('../data/pseudo_dist_mat.csv', index_col='id')\n",
    "dist_mat.info()"
   ]
  },
  {
   "cell_type": "markdown",
   "metadata": {},
   "source": [
    "## testing"
   ]
  },
  {
   "cell_type": "code",
   "execution_count": null,
   "metadata": {},
   "outputs": [],
   "source": [
    "# test data for UPGMA\n",
    "data = np.array([[0 , 9 , 2 , 4 , 9 , 10],\n",
    "                 [9 , 0 , 9 , 6 , 2 , 10],\n",
    "                 [2 , 9 , 0 , 5 , 9 , 10],\n",
    "                 [4 , 6 , 5 , 0 , 6 , 10],\n",
    "                 [9 , 2 , 9 , 6 , 0 , 10],\n",
    "                 [10, 10, 10, 10, 10,  0]], dtype='i4')\n",
    "test = pd.DataFrame(data, index=list('ABCDEF'), columns=list('ABCDEF'))\n",
    "test[test==0] = np.inf\n",
    "test"
   ]
  },
  {
   "cell_type": "code",
   "execution_count": null,
   "metadata": {},
   "outputs": [],
   "source": [
    "mask = test == test.min().min()\n",
    "mask"
   ]
  },
  {
   "cell_type": "code",
   "execution_count": null,
   "metadata": {},
   "outputs": [],
   "source": [
    "row = mask.any(axis=1)\n",
    "pos = test[row].idxmin(axis=1)\n",
    "pos"
   ]
  },
  {
   "cell_type": "code",
   "execution_count": null,
   "metadata": {},
   "outputs": [],
   "source": [
    "a = pos.index[0]\n",
    "b = pos[0]\n",
    "result = (test.loc[a] + test.loc[b]) / 2\n",
    "test.loc[a] = result\n",
    "test.loc[:, a] = result\n",
    "temp = test.drop(b, axis=0).drop(b, axis=1)\n",
    "temp.rename(mapper=lambda s: s if s != a else '({}/{})'.format(a, b), axis=0, inplace=True)\n",
    "temp.rename(mapper=lambda s: s if s != a else '({}/{})'.format(a, b), axis=1, inplace=True)\n",
    "temp"
   ]
  },
  {
   "cell_type": "code",
   "execution_count": null,
   "metadata": {},
   "outputs": [],
   "source": [
    "a = pos.index[1]\n",
    "b = pos[1]\n",
    "result = (test.loc[a] + test.loc[b]) / 2\n",
    "test.loc[a] = result\n",
    "test.loc[:, a] = result\n",
    "test.drop(b, axis=0).drop(b, axis=1)"
   ]
  },
  {
   "cell_type": "code",
   "execution_count": null,
   "metadata": {},
   "outputs": [],
   "source": [
    "# test data for UPGMA\n",
    "data = np.array([[0 , 9 , 2 , 4 , 9 , 10],\n",
    "                 [9 , 0 , 9 , 6 , 2 , 10],\n",
    "                 [2 , 9 , 0 , 5 , 9 , 10],\n",
    "                 [4 , 6 , 5 , 0 , 6 , 10],\n",
    "                 [9 , 2 , 9 , 6 , 0 , 10],\n",
    "                 [10, 10, 10, 10, 10,  0]], dtype='i4')\n",
    "\n",
    "test = pd.DataFrame(data, index=list('ABCDEF'), columns=list('ABCDEF'))\n",
    "test[test==0] = np.inf\n",
    "\n",
    "while test.size > 1:\n",
    "    mask = test == test.min().min()   # where is the minimum\n",
    "    row = mask.any(axis=1)            # which row\n",
    "    pos = test[row].idxmin(axis=1)    # which column\n",
    "    for i in range(0, pos.size//2):\n",
    "        a = pos.index[i]\n",
    "        b = pos[i]\n",
    "        # combine the row and column of one with the other\n",
    "        result = (test.loc[a] + test.loc[b]) / 2\n",
    "        test.loc[a] = result\n",
    "        test.loc[:, a] = result\n",
    "        # drop row and coulmn of the other\n",
    "        test = test.drop(b, axis=0).drop(b, axis=1)\n",
    "        # rename index and column name of the combined sample\n",
    "        test.rename(mapper=lambda s: s if s != a else '({},{})'.format(a, b), axis=0, inplace=True)\n",
    "        test.rename(mapper=lambda s: s if s != a else '({},{})'.format(a, b), axis=1, inplace=True)\n",
    "test.index[0]"
   ]
  },
  {
   "cell_type": "code",
   "execution_count": null,
   "metadata": {},
   "outputs": [],
   "source": [
    "# test data for UPGMA\n",
    "data = np.array([[0 , 9 , 2 , 4 , 9 , 10],\n",
    "                 [9 , 0 , 9 , 6 , 2 , 10],\n",
    "                 [2 , 9 , 0 , 5 , 9 , 10],\n",
    "                 [4 , 6 , 5 , 0 , 6 , 10],\n",
    "                 [9 , 2 , 9 , 6 , 0 , 10],\n",
    "                 [10, 10, 10, 10, 10,  0]], dtype='i4')\n",
    "\n",
    "test = pd.DataFrame(data, index=list('ABCDEF'), columns=list('ABCDEF'))\n",
    "test[test==0] = np.inf\n",
    "tree = upgma(test)\n",
    "tree"
   ]
  },
  {
   "cell_type": "code",
   "execution_count": null,
   "metadata": {},
   "outputs": [],
   "source": [
    "t = dendropy.Tree.get(data=tree, schema='newick')\n",
    "print(t.as_ascii_plot())"
   ]
  },
  {
   "cell_type": "markdown",
   "metadata": {},
   "source": [
    "## testing end"
   ]
  },
  {
   "cell_type": "code",
   "execution_count": 202,
   "metadata": {},
   "outputs": [],
   "source": [
    "def upgma(df, copy=True):\n",
    "    '''Build a phylogenetic tree (in newick format) using UPGMA based on a distance matrix'''\n",
    "    if copy:\n",
    "        df = df.copy()\n",
    "    while df.size > 1:\n",
    "        mask = (df == df.min().min())     # where is the minimum\n",
    "        row = mask.any(axis=1)            # which row\n",
    "        pos = df[row].idxmin(axis=1)      # which column\n",
    "        for i in range(0, pos.size//2):\n",
    "            a = pos.index[i]\n",
    "            b = pos[i]\n",
    "            # combine the row and column of one with the other\n",
    "            result = (df.loc[a] + df.loc[b]) / 2\n",
    "            df.loc[a] = result\n",
    "            df.loc[:, a] = result\n",
    "            # drop row and coulmn of the other\n",
    "            df = df.drop(b, axis=0).drop(b, axis=1)\n",
    "            # rename index and column name of the combined sample\n",
    "            df.rename(mapper=lambda s: s if s != a else '({},{})'.format(a, b), axis=0, inplace=True)\n",
    "            df.rename(mapper=lambda s: s if s != a else '({},{})'.format(a, b), axis=1, inplace=True)\n",
    "    return df.index[0]+';'"
   ]
  },
  {
   "cell_type": "code",
   "execution_count": 205,
   "metadata": {},
   "outputs": [
    {
     "name": "stdout",
     "output_type": "stream",
     "text": [
      "CPU times: user 2.04 s, sys: 4.52 ms, total: 2.05 s\n",
      "Wall time: 2.08 s\n"
     ]
    },
    {
     "data": {
      "text/plain": [
       "'(((((((((TA151,(((Jp222,(Bo559,W15Apr4)),Cotonu1),LiA179)),((((Lw1047,CPHL2000),(((LiA18,Jp241),A17),Aa249)),LiA145),(((A15,A9),Tu863),(Tu61,SWPA15J_NSWPA15a)))),((ATCC27853,((LiA50,(A22,(W15Aug23,Us411))),(M72,((A11,A13),(5BR2,CPHL10299))))),PhDW6)),(((((IC1,((CPHL950,Mi159),W5Aug16)),Pae85),((ESP06B,Br993),(Co380791,Co398373))),(((((A237,Pae113),(W15Okt31,Jp245)),(((C3128,PT31M),W5Aug28),(C5311,JD303))),LiA161),(A19,((((Pae110,Pae100),Pae102),CPHL8203),CPHL5083)))),(((((LiA96,LiA91),LiA131),PMM38),Mex2),((W15Dec3,CND03),Jp1303)))),((((((5920,(PHLS08959,W15Dec4)),(((A10,CPHL6749),Jp238),Pae160)),(Lo049,(CPHL1999,CPHL8058))),CPHL10701),(LiA70,Br670)),(((((Jp1170,Jp1200),(Jp1155,Jp1206)),TuD199),Jp224),LMG2107))),((CPHL10662,(Jp100,Jp97)),(J80UH1OS1,LiA133))),((((CN573_PSE143,(((Jp54,Jp60),J9UH1F),(W15Dec14,LiA63))),(PAO1,IDEXXCanine4)),LiA19),IDEXXCanine8)),((((JD312,JD317),(((((((JD310,JD326),JD329),JD315),JD322),JD335),JD324),JD304)),((((((JD332,JD323),JD314),(JD328,(JD316,(JD333,JD313)))),(JD334,(JD325,JD306))),JD318),JD320)),JD331)),(PA7,LMG5031));'"
      ]
     },
     "execution_count": 205,
     "metadata": {},
     "output_type": "execute_result"
    }
   ],
   "source": [
    "# create the tree\n",
    "%time tree_str = upgma(dist_mat)\n",
    "with open('../data/pseudo_tree.dnd', 'w') as dnd:\n",
    "    dnd.write(tree_str)\n",
    "tree_str"
   ]
  },
  {
   "cell_type": "code",
   "execution_count": 206,
   "metadata": {},
   "outputs": [],
   "source": [
    "with open('../data/pseudo_tree.dnd', 'r') as dnd:\n",
    "    tree_str = dnd.read()"
   ]
  },
  {
   "cell_type": "code",
   "execution_count": 207,
   "metadata": {
    "scrolled": true
   },
   "outputs": [
    {
     "name": "stdout",
     "output_type": "stream",
     "text": [
      "                                       /---------------------- TA151           \n",
      "                                       |                                       \n",
      "                                       |             /-------- Jp222           \n",
      "                               /-------+        /----+                         \n",
      "                               |       |        |    |   /---- Bo559           \n",
      "                               |       |    /---+    \\---+                     \n",
      "                               |       |    |   |        \\---- W15Apr4         \n",
      "                               |       \\----+   |                              \n",
      "                               |            |   \\------------- Cotonu1         \n",
      "                               |            |                                  \n",
      "                               |            \\----------------- LiA179          \n",
      "                               |                                               \n",
      "                               |                         /---- Lw1047          \n",
      "                               |            /------------+                     \n",
      "                          /----+            |            \\---- CPHL2000        \n",
      "                          |    |            |                                  \n",
      "                          |    |       /----+            /---- LiA18           \n",
      "                          |    |       |    |        /---+                     \n",
      "                          |    |       |    |   /----+   \\---- Jp241           \n",
      "                          |    |       |    |   |    |                         \n",
      "                          |    |   /---+    \\---+    \\-------- A17             \n",
      "                          |    |   |   |        |                              \n",
      "                          |    |   |   |        \\------------- Aa249           \n",
      "                          |    |   |   |                                       \n",
      "                          |    |   |   \\---------------------- LiA145          \n",
      "                          |    \\---+                                           \n",
      "                          |        |                     /---- A15             \n",
      "                          |        |                 /---+                     \n",
      "                          |        |            /----+   \\---- A9              \n",
      "                          |        |            |    |                         \n",
      "                      /---+        \\------------+    \\-------- Tu863           \n",
      "                      |   |                     |                              \n",
      "                      |   |                     |        /---- Tu61            \n",
      "                      |   |                     \\--------+                     \n",
      "                      |   |                              \\---- SWPA15J NSWPA15a\n",
      "                      |   |                                                    \n",
      "                      |   |            /---------------------- ATCC27853       \n",
      "                      |   |            |                                       \n",
      "                      |   |            |        /------------- LiA50           \n",
      "                      |   |        /---+    /---+                              \n",
      "                      |   |        |   |    |   |    /-------- A22             \n",
      "                      |   |        |   |    |   \\----+                         \n",
      "                      |   |        |   |    |        |   /---- W15Aug23        \n",
      "                      |   |        |   \\----+        \\---+                     \n",
      "                      |   |        |        |            \\---- Us411           \n",
      "                      |   |        |        |                                  \n",
      "                      |   |        |        |   /------------- M72             \n",
      "                      |   \\--------+        |   |                              \n",
      "                      |            |        \\---+        /---- A11             \n",
      "                      |            |            |    /---+                     \n",
      "                      |            |            |    |   \\---- A13             \n",
      "                      |            |            \\----+                         \n",
      "                      |            |                 |   /---- 5BR2            \n",
      "                      |            |                 \\---+                     \n",
      "                      |            |                     \\---- CPHL10299       \n",
      "                      |            |                                           \n",
      "                      |            \\-------------------------- PhDW6           \n",
      "                      |                                                        \n",
      "                      |                         /------------- IC1             \n",
      "                      |                         |                              \n",
      "                      |                     /---+        /---- CPHL950         \n",
      "                      |                     |   |    /---+                     \n",
      "                      |                     |   \\----+   \\---- Mi159           \n",
      "                      |                /----+        |                         \n",
      "                 /----+                |    |        \\-------- W5Aug16         \n",
      "                 |    |                |    |                                  \n",
      "                 |    |                |    \\----------------- Pae85           \n",
      "                 |    |        /-------+                                       \n",
      "                 |    |        |       |                 /---- ESP06B          \n",
      "                 |    |        |       |             /---+                     \n",
      "                 |    |        |       |             |   \\---- Br993           \n",
      "                 |    |        |       \\-------------+                         \n",
      "                 |    |        |                     |   /---- Co380791        \n",
      "                 |    |        |                     \\---+                     \n",
      "                 |    |        |                         \\---- Co398373        \n",
      "                 |    |        |                                               \n",
      "                 |    |        |                         /---- A237            \n",
      "                 |    |        |                     /---+                     \n",
      "                 |    |        |                     |   \\---- Pae113          \n",
      "                 |    |        |            /--------+                         \n",
      "                 |    |   /----+            |        |   /---- W15Okt31        \n",
      "                 |    |   |    |            |        \\---+                     \n",
      "                 |    |   |    |            |            \\---- Jp245           \n",
      "                 |    |   |    |       /----+                                  \n",
      "                 |    |   |    |       |    |            /---- C3128           \n",
      "                 |    |   |    |       |    |        /---+                     \n",
      "                 |    |   |    |       |    |   /----+   \\---- PT31M           \n",
      "                 |    |   |    |       |    |   |    |                         \n",
      "                 |    |   |    |   /---+    \\---+    \\-------- W5Aug28         \n",
      "                 |    |   |    |   |   |        |                              \n",
      "                 |    |   |    |   |   |        |        /---- C5311           \n",
      "                 |    |   |    |   |   |        \\--------+                     \n",
      "                 |    |   |    |   |   |                 \\---- JD303           \n",
      "                 |    |   |    |   |   |                                       \n",
      "                 |    |   |    \\---+   \\---------------------- LiA161          \n",
      "                 |    |   |        |                                           \n",
      "                 |    |   |        |   /---------------------- A19             \n",
      "                 |    |   |        |   |                                       \n",
      "                 |    \\---+        |   |                 /---- Pae110          \n",
      "                 |        |        |   |             /---+                     \n",
      "                 |        |        \\---+        /----+   \\---- Pae100          \n",
      "                 |        |            |        |    |                         \n",
      "                 |        |            |    /---+    \\-------- Pae102          \n",
      "                 |        |            |    |   |                              \n",
      "                 |        |            \\----+   \\------------- CPHL8203        \n",
      "                 |        |                 |                                  \n",
      "                 |        |                 \\----------------- CPHL5083        \n",
      "             /---+        |                                                    \n",
      "             |   |        |                              /---- LiA96           \n",
      "             |   |        |                          /---+                     \n",
      "             |   |        |                     /----+   \\---- LiA91           \n",
      "             |   |        |                     |    |                         \n",
      "             |   |        |                 /---+    \\-------- LiA131          \n",
      "             |   |        |                 |   |                              \n",
      "             |   |        |            /----+   \\------------- PMM38           \n",
      "             |   |        |            |    |                                  \n",
      "             |   |        |            |    \\----------------- Mex2            \n",
      "             |   |        \\------------+                                       \n",
      "             |   |                     |                 /---- W15Dec3         \n",
      "             |   |                     |             /---+                     \n",
      "             |   |                     \\-------------+   \\---- CND03           \n",
      "             |   |                                   |                         \n",
      "             |   |                                   \\-------- Jp1303          \n",
      "             |   |                                                             \n",
      "             |   |                                   /-------- 5920            \n",
      "             |   |                          /--------+                         \n",
      "             |   |                          |        |   /---- PHLS08959       \n",
      "             |   |                          |        \\---+                     \n",
      "             |   |                          |            \\---- W15Dec4         \n",
      "             |   |                     /----+                                  \n",
      "             |   |                     |    |            /---- A10             \n",
      "             |   |                     |    |        /---+                     \n",
      "             |   |                     |    |   /----+   \\---- CPHL6749        \n",
      "             |   |                     |    |   |    |                         \n",
      "             |   |                 /---+    \\---+    \\-------- Jp238           \n",
      "             |   |                 |   |        |                              \n",
      "             |   |                 |   |        \\------------- Pae160          \n",
      "        /----+   |                 |   |                                       \n",
      "        |    |   |                 |   |             /-------- Lo049           \n",
      "        |    |   |             /---+   \\-------------+                         \n",
      "        |    |   |             |   |                 |   /---- CPHL1999        \n",
      "        |    |   |             |   |                 \\---+                     \n",
      "        |    |   |             |   |                     \\---- CPHL8058        \n",
      "        |    |   |        /----+   |                                           \n",
      "        |    |   |        |    |   \\-------------------------- CPHL10701       \n",
      "        |    |   |        |    |                                               \n",
      "        |    |   |        |    |                         /---- LiA70           \n",
      "        |    |   |        |    \\-------------------------+                     \n",
      "        |    |   |        |                              \\---- Br670           \n",
      "        |    |   |        |                                                    \n",
      "        |    |   |        |                              /---- Jp1170          \n",
      "        |    |   \\--------+                          /---+                     \n",
      "        |    |            |                          |   \\---- Jp1200          \n",
      "        |    |            |                     /----+                         \n",
      "        |    |            |                     |    |   /---- Jp1155          \n",
      "        |    |            |                 /---+    \\---+                     \n",
      "        |    |            |                 |   |        \\---- Jp1206          \n",
      "        |    |            |            /----+   |                              \n",
      "        |    |            |            |    |   \\------------- TuD199          \n",
      "        |    |            \\------------+    |                                  \n",
      "        |    |                         |    \\----------------- Jp224           \n",
      "        |    |                         |                                       \n",
      "        |    |                         \\---------------------- LMG2107         \n",
      "    /---+    |                                                                 \n",
      "    |   |    |                                       /-------- CPHL10662       \n",
      "    |   |    |                                  /----+                         \n",
      "    |   |    |                                  |    |   /---- Jp100           \n",
      "    |   |    |                                  |    \\---+                     \n",
      "    |   |    \\----------------------------------+        \\---- Jp97            \n",
      "    |   |                                       |                              \n",
      "    |   |                                       |        /---- J80UH1OS1       \n",
      "    |   |                                       \\--------+                     \n",
      "    |   |                                                \\---- LiA133          \n",
      "    |   |                                                                      \n",
      "    |   |                                   /----------------- CN573 PSE143    \n",
      "    |   |                                   |                                  \n",
      "    |   |                                   |            /---- Jp54            \n",
      "    |   |                              /----+        /---+                     \n",
      "    |   |                              |    |   /----+   \\---- Jp60            \n",
      "    |   |                              |    |   |    |                         \n",
      "    |   |                              |    \\---+    \\-------- J9UH1F          \n",
      "    |   |                              |        |                              \n",
      "    |   |                          /---+        |        /---- W15Dec14        \n",
      "    |   |                          |   |        \\--------+                     \n",
      "    |   |                          |   |                 \\---- LiA63           \n",
      "    |   |                          |   |                                       \n",
      "    |   |                      /---+   |                 /---- PAO1            \n",
      "    |   |                      |   |   \\-----------------+                     \n",
      "    |   |                      |   |                     \\---- IDEXXCanine4    \n",
      "    |   \\----------------------+   |                                           \n",
      "    |                          |   \\-------------------------- LiA19           \n",
      "    |                          |                                               \n",
      "    |                          \\------------------------------ IDEXXCanine8    \n",
      "    |                                                                          \n",
      "    |                                                    /---- JD312           \n",
      "/---+                     /------------------------------+                     \n",
      "|   |                     |                              \\---- JD317           \n",
      "|   |                     |                                                    \n",
      "|   |                     |                              /---- JD310           \n",
      "|   |                     |                          /---+                     \n",
      "|   |                     |                     /----+   \\---- JD326           \n",
      "|   |                     |                     |    |                         \n",
      "|   |                 /---+                 /---+    \\-------- JD329           \n",
      "|   |                 |   |                 |   |                              \n",
      "|   |                 |   |            /----+   \\------------- JD315           \n",
      "|   |                 |   |            |    |                                  \n",
      "|   |                 |   |        /---+    \\----------------- JD322           \n",
      "|   |                 |   |        |   |                                       \n",
      "|   |                 |   |    /---+   \\---------------------- JD335           \n",
      "|   |                 |   |    |   |                                           \n",
      "|   |                 |   \\----+   \\-------------------------- JD324           \n",
      "|   |                 |        |                                               \n",
      "|   |                 |        \\------------------------------ JD304           \n",
      "|   |                 |                                                        \n",
      "|   |                 |                                  /---- JD332           \n",
      "|   |                 |                              /---+                     \n",
      "|   |                 |                     /--------+   \\---- JD323           \n",
      "|   |            /----+                     |        |                         \n",
      "+   |            |    |                /----+        \\-------- JD314           \n",
      "|   |            |    |                |    |                                  \n",
      "|   |            |    |                |    |   /------------- JD328           \n",
      "|   |            |    |                |    \\---+                              \n",
      "|   |            |    |                |        |    /-------- JD316           \n",
      "|   |            |    |            /---+        \\----+                         \n",
      "|   |            |    |            |   |             |   /---- JD333           \n",
      "|   |            |    |            |   |             \\---+                     \n",
      "|   |            |    |            |   |                 \\---- JD313           \n",
      "|   \\------------+    |            |   |                                       \n",
      "|                |    |        /---+   |             /-------- JD334           \n",
      "|                |    |        |   |   \\-------------+                         \n",
      "|                |    |        |   |                 |   /---- JD325           \n",
      "|                |    |        |   |                 \\---+                     \n",
      "|                |    \\--------+   |                     \\---- JD306           \n",
      "|                |             |   |                                           \n",
      "|                |             |   \\-------------------------- JD318           \n",
      "|                |             |                                               \n",
      "|                |             \\------------------------------ JD320           \n",
      "|                |                                                             \n",
      "|                \\-------------------------------------------- JD331           \n",
      "|                                                                              \n",
      "|                                                        /---- PA7             \n",
      "\\--------------------------------------------------------+                     \n",
      "                                                         \\---- LMG5031         \n",
      "                                                                               \n",
      "                                                                               \n"
     ]
    }
   ],
   "source": [
    "# visualize tree with dendropy\n",
    "tree = dendropy.Tree.get(data=tree_str, schema='newick')\n",
    "print(tree.as_ascii_plot())"
   ]
  },
  {
   "cell_type": "code",
   "execution_count": 208,
   "metadata": {
    "scrolled": true
   },
   "outputs": [
    {
     "name": "stdout",
     "output_type": "stream",
     "text": [
      "                                       /---------------------- ta151:\t\t\tTrue/False           \n",
      "                                       |                                       \n",
      "                                       |             /-------- jp222:\t\t\tFalse/False           \n",
      "                               /-------+        /----+                         \n",
      "                               |       |        |    |   /---- bo559:\t\t\tFalse/False           \n",
      "                               |       |    /---+    \\---+                     \n",
      "                               |       |    |   |        \\---- w15apr4:\t\t\tFalse/False         \n",
      "                               |       \\----+   |                              \n",
      "                               |            |   \\------------- cotonu1:\t\t\tFalse/False         \n",
      "                               |            |                                  \n",
      "                               |            \\----------------- lia179:\t\t\tFalse/False          \n",
      "                               |                                               \n",
      "                               |                         /---- lw1047:\t\t\tFalse/False          \n",
      "                               |            /------------+                     \n",
      "                          /----+            |            \\---- cphl2000:\t\tFalse/False        \n",
      "                          |    |            |                                  \n",
      "                          |    |       /----+            /---- lia18:\t\t\tFalse/False           \n",
      "                          |    |       |    |        /---+                     \n",
      "                          |    |       |    |   /----+   \\---- jp241:\t\t\tFalse/False           \n",
      "                          |    |       |    |   |    |                         \n",
      "                          |    |   /---+    \\---+    \\-------- a17:\t\t\tTrue/False             \n",
      "                          |    |   |   |        |                              \n",
      "                          |    |   |   |        \\------------- aa249:\t\t\tFalse/False           \n",
      "                          |    |   |   |                                       \n",
      "                          |    |   |   \\---------------------- lia145:\t\t\tFalse/False          \n",
      "                          |    \\---+                                           \n",
      "                          |        |                     /---- a15:\t\t\tFalse/False             \n",
      "                          |        |                 /---+                     \n",
      "                          |        |            /----+   \\---- a9:\t\t\tFalse/False              \n",
      "                          |        |            |    |                         \n",
      "                      /---+        \\------------+    \\-------- tu863:\t\t\tFalse/False           \n",
      "                      |   |                     |                              \n",
      "                      |   |                     |        /---- tu61:\t\t\tFalse/False            \n",
      "                      |   |                     \\--------+                     \n",
      "                      |   |                              \\---- swpa15j_nswpa15a:\tTrue/False\n",
      "                      |   |                                                    \n",
      "                      |   |            /---------------------- atcc27853:\t\tFalse/False       \n",
      "                      |   |            |                                       \n",
      "                      |   |            |        /------------- lia50:\t\t\tFalse/False           \n",
      "                      |   |        /---+    /---+                              \n",
      "                      |   |        |   |    |   |    /-------- a22:\t\t\tFalse/False             \n",
      "                      |   |        |   |    |   \\----+                         \n",
      "                      |   |        |   |    |        |   /---- w15aug23:\t\tFalse/False        \n",
      "                      |   |        |   \\----+        \\---+                     \n",
      "                      |   |        |        |            \\---- us411:\t\t\tFalse/False           \n",
      "                      |   |        |        |                                  \n",
      "                      |   |        |        |   /------------- m72:\t\t\tFalse/False             \n",
      "                      |   \\--------+        |   |                              \n",
      "                      |            |        \\---+        /---- a11:\t\t\tTrue/False             \n",
      "                      |            |            |    /---+                     \n",
      "                      |            |            |    |   \\---- a13:\t\t\tTrue/True             \n",
      "                      |            |            \\----+                         \n",
      "                      |            |                 |   /---- 5br2:\t\t\tFalse/False            \n",
      "                      |            |                 \\---+                     \n",
      "                      |            |                     \\---- cphl10299:\t\tFalse/False       \n",
      "                      |            |                                           \n",
      "                      |            \\-------------------------- phdw6:\t\t\tFalse/False           \n",
      "                      |                                                        \n",
      "                      |                         /------------- ic1:\t\t\tFalse/False             \n",
      "                      |                         |                              \n",
      "                      |                     /---+        /---- cphl950:\t\t\tFalse/False         \n",
      "                      |                     |   |    /---+                     \n",
      "                      |                     |   \\----+   \\---- mi159:\t\t\tFalse/False           \n",
      "                      |                /----+        |                         \n",
      "                 /----+                |    |        \\-------- w5aug16:\t\t\tFalse/False         \n",
      "                 |    |                |    |                                  \n",
      "                 |    |                |    \\----------------- pae85:\t\t\tFalse/False           \n",
      "                 |    |        /-------+                                       \n",
      "                 |    |        |       |                 /---- esp06b:\t\t\tFalse/False          \n",
      "                 |    |        |       |             /---+                     \n",
      "                 |    |        |       |             |   \\---- br993:\t\t\tFalse/False           \n",
      "                 |    |        |       \\-------------+                         \n",
      "                 |    |        |                     |   /---- co380791:\t\tFalse/False        \n",
      "                 |    |        |                     \\---+                     \n",
      "                 |    |        |                         \\---- co398373:\t\tFalse/False        \n",
      "                 |    |        |                                               \n",
      "                 |    |        |                         /---- a237:\t\t\tTrue/False            \n",
      "                 |    |        |                     /---+                     \n",
      "                 |    |        |                     |   \\---- pae113:\t\t\tFalse/False          \n",
      "                 |    |        |            /--------+                         \n",
      "                 |    |   /----+            |        |   /---- w15okt31:\t\tFalse/False        \n",
      "                 |    |   |    |            |        \\---+                     \n",
      "                 |    |   |    |            |            \\---- jp245:\t\t\tFalse/False           \n",
      "                 |    |   |    |       /----+                                  \n",
      "                 |    |   |    |       |    |            /---- c3128:\t\t\tFalse/False           \n",
      "                 |    |   |    |       |    |        /---+                     \n",
      "                 |    |   |    |       |    |   /----+   \\---- pt31m:\t\t\tFalse/False           \n",
      "                 |    |   |    |       |    |   |    |                         \n",
      "                 |    |   |    |   /---+    \\---+    \\-------- w5aug28:\t\t\tFalse/False         \n",
      "                 |    |   |    |   |   |        |                              \n",
      "                 |    |   |    |   |   |        |        /---- c5311:\t\t\tFalse/False           \n",
      "                 |    |   |    |   |   |        \\--------+                     \n",
      "                 |    |   |    |   |   |                 \\---- jd303:\t\t\tFalse/False           \n",
      "                 |    |   |    |   |   |                                       \n",
      "                 |    |   |    \\---+   \\---------------------- lia161:\t\t\tFalse/False          \n",
      "                 |    |   |        |                                           \n",
      "                 |    |   |        |   /---------------------- a19:\t\t\tFalse/False             \n",
      "                 |    |   |        |   |                                       \n",
      "                 |    \\---+        |   |                 /---- pae110:\t\t\tFalse/False          \n",
      "                 |        |        |   |             /---+                     \n",
      "                 |        |        \\---+        /----+   \\---- pae100:\t\t\tFalse/False          \n",
      "                 |        |            |        |    |                         \n",
      "                 |        |            |    /---+    \\-------- pae102:\t\t\tFalse/False          \n",
      "                 |        |            |    |   |                              \n",
      "                 |        |            \\----+   \\------------- cphl8203:\t\tFalse/False        \n",
      "                 |        |                 |                                  \n",
      "                 |        |                 \\----------------- cphl5083:\t\tFalse/False        \n",
      "             /---+        |                                                    \n",
      "             |   |        |                              /---- lia96:\t\t\tFalse/False           \n",
      "             |   |        |                          /---+                     \n",
      "             |   |        |                     /----+   \\---- lia91:\t\t\tFalse/False           \n",
      "             |   |        |                     |    |                         \n",
      "             |   |        |                 /---+    \\-------- lia131:\t\t\tFalse/False          \n",
      "             |   |        |                 |   |                              \n",
      "             |   |        |            /----+   \\------------- pmm38:\t\t\tnan/nan           \n",
      "             |   |        |            |    |                                  \n",
      "             |   |        |            |    \\----------------- mex2:\t\t\tFalse/False            \n",
      "             |   |        \\------------+                                       \n",
      "             |   |                     |                 /---- w15dec3:\t\t\tFalse/False         \n",
      "             |   |                     |             /---+                     \n",
      "             |   |                     \\-------------+   \\---- cnd03:\t\t\tFalse/False           \n",
      "             |   |                                   |                         \n",
      "             |   |                                   \\-------- jp1303:\t\t\tFalse/False          \n",
      "             |   |                                                             \n",
      "             |   |                                   /-------- 5920:\t\t\tnan/nan            \n",
      "             |   |                          /--------+                         \n",
      "             |   |                          |        |   /---- phls08959:\t\tFalse/False       \n",
      "             |   |                          |        \\---+                     \n",
      "             |   |                          |            \\---- w15dec4:\t\t\tFalse/False         \n",
      "             |   |                     /----+                                  \n",
      "             |   |                     |    |            /---- a10:\t\t\tTrue/False             \n",
      "             |   |                     |    |        /---+                     \n",
      "             |   |                     |    |   /----+   \\---- cphl6749:\t\tFalse/False        \n",
      "             |   |                     |    |   |    |                         \n",
      "             |   |                 /---+    \\---+    \\-------- jp238:\t\t\tFalse/False           \n",
      "             |   |                 |   |        |                              \n",
      "             |   |                 |   |        \\------------- pae160:\t\t\tFalse/False          \n",
      "        /----+   |                 |   |                                       \n",
      "        |    |   |                 |   |             /-------- lo049:\t\t\tFalse/False           \n",
      "        |    |   |             /---+   \\-------------+                         \n",
      "        |    |   |             |   |                 |   /---- cphl1999:\t\tFalse/False        \n",
      "        |    |   |             |   |                 \\---+                     \n",
      "        |    |   |             |   |                     \\---- cphl8058:\t\tFalse/False        \n",
      "        |    |   |        /----+   |                                           \n",
      "        |    |   |        |    |   \\-------------------------- cphl10701:\t\tFalse/False       \n",
      "        |    |   |        |    |                                               \n",
      "        |    |   |        |    |                         /---- lia70:\t\t\tFalse/False           \n",
      "        |    |   |        |    \\-------------------------+                     \n",
      "        |    |   |        |                              \\---- br670:\t\t\tFalse/False           \n",
      "        |    |   |        |                                                    \n",
      "        |    |   |        |                              /---- jp1170:\t\t\tFalse/False          \n",
      "        |    |   \\--------+                          /---+                     \n",
      "        |    |            |                          |   \\---- jp1200:\t\t\tFalse/False          \n",
      "        |    |            |                     /----+                         \n",
      "        |    |            |                     |    |   /---- jp1155:\t\t\tTrue/False          \n",
      "        |    |            |                 /---+    \\---+                     \n",
      "        |    |            |                 |   |        \\---- jp1206:\t\t\tFalse/False          \n",
      "        |    |            |            /----+   |                              \n",
      "        |    |            |            |    |   \\------------- tud199:\t\t\tFalse/False          \n",
      "        |    |            \\------------+    |                                  \n",
      "        |    |                         |    \\----------------- jp224:\t\t\tFalse/False           \n",
      "        |    |                         |                                       \n",
      "        |    |                         \\---------------------- lmg2107:\t\t\tFalse/False         \n",
      "    /---+    |                                                                 \n",
      "    |   |    |                                       /-------- cphl10662:\t\tFalse/False       \n",
      "    |   |    |                                  /----+                         \n",
      "    |   |    |                                  |    |   /---- jp100:\t\t\tFalse/False           \n",
      "    |   |    |                                  |    \\---+                     \n",
      "    |   |    \\----------------------------------+        \\---- jp97:\t\t\tTrue/False            \n",
      "    |   |                                       |                              \n",
      "    |   |                                       |        /---- j80uh1os1:\t\tFalse/False       \n",
      "    |   |                                       \\--------+                     \n",
      "    |   |                                                \\---- lia133:\t\t\tTrue/False          \n",
      "    |   |                                                                      \n",
      "    |   |                                   /----------------- cn573_pse143:\t\tFalse/True    \n",
      "    |   |                                   |                                  \n",
      "    |   |                                   |            /---- jp54:\t\t\tFalse/False            \n",
      "    |   |                              /----+        /---+                     \n",
      "    |   |                              |    |   /----+   \\---- jp60:\t\t\tFalse/False            \n",
      "    |   |                              |    |   |    |                         \n",
      "    |   |                              |    \\---+    \\-------- j9uh1f:\t\t\tFalse/False          \n",
      "    |   |                              |        |                              \n",
      "    |   |                          /---+        |        /---- w15dec14:\t\tFalse/False        \n",
      "    |   |                          |   |        \\--------+                     \n",
      "    |   |                          |   |                 \\---- lia63:\t\t\tFalse/False           \n",
      "    |   |                          |   |                                       \n",
      "    |   |                      /---+   |                 /---- pao1:\t\t\tnan/nan            \n",
      "    |   |                      |   |   \\-----------------+                     \n",
      "    |   |                      |   |                     \\---- idexxcanine4:\t\tTrue/False    \n",
      "    |   \\----------------------+   |                                           \n",
      "    |                          |   \\-------------------------- lia19:\t\t\tFalse/False           \n",
      "    |                          |                                               \n",
      "    |                          \\------------------------------ idexxcanine8:\t\tTrue/False    \n",
      "    |                                                                          \n",
      "    |                                                    /---- jd312:\t\t\tTrue/False           \n",
      "/---+                     /------------------------------+                     \n",
      "|   |                     |                              \\---- jd317:\t\t\tTrue/False           \n",
      "|   |                     |                                                    \n",
      "|   |                     |                              /---- jd310:\t\t\tTrue/True           \n",
      "|   |                     |                          /---+                     \n",
      "|   |                     |                     /----+   \\---- jd326:\t\t\tTrue/False           \n",
      "|   |                     |                     |    |                         \n",
      "|   |                 /---+                 /---+    \\-------- jd329:\t\t\tFalse/False           \n",
      "|   |                 |   |                 |   |                              \n",
      "|   |                 |   |            /----+   \\------------- jd315:\t\t\tFalse/False           \n",
      "|   |                 |   |            |    |                                  \n",
      "|   |                 |   |        /---+    \\----------------- jd322:\t\t\tFalse/True           \n",
      "|   |                 |   |        |   |                                       \n",
      "|   |                 |   |    /---+   \\---------------------- jd335:\t\t\tFalse/False           \n",
      "|   |                 |   |    |   |                                           \n",
      "|   |                 |   \\----+   \\-------------------------- jd324:\t\t\tTrue/False           \n",
      "|   |                 |        |                                               \n",
      "|   |                 |        \\------------------------------ jd304:\t\t\tFalse/False           \n",
      "|   |                 |                                                        \n",
      "|   |                 |                                  /---- jd332:\t\t\tTrue/False           \n",
      "|   |                 |                              /---+                     \n",
      "|   |                 |                     /--------+   \\---- jd323:\t\t\tFalse/False           \n",
      "|   |            /----+                     |        |                         \n",
      "+   |            |    |                /----+        \\-------- jd314:\t\t\tFalse/False           \n",
      "|   |            |    |                |    |                                  \n",
      "|   |            |    |                |    |   /------------- jd328:\t\t\tTrue/False           \n",
      "|   |            |    |                |    \\---+                              \n",
      "|   |            |    |                |        |    /-------- jd316:\t\t\tFalse/True           \n",
      "|   |            |    |            /---+        \\----+                         \n",
      "|   |            |    |            |   |             |   /---- jd333:\t\t\tFalse/False           \n",
      "|   |            |    |            |   |             \\---+                     \n",
      "|   |            |    |            |   |                 \\---- jd313:\t\t\tFalse/False           \n",
      "|   \\------------+    |            |   |                                       \n",
      "|                |    |        /---+   |             /-------- jd334:\t\t\tTrue/True           \n",
      "|                |    |        |   |   \\-------------+                         \n",
      "|                |    |        |   |                 |   /---- jd325:\t\t\tTrue/False           \n",
      "|                |    |        |   |                 \\---+                     \n",
      "|                |    \\--------+   |                     \\---- jd306:\t\t\tTrue/False           \n",
      "|                |             |   |                                           \n",
      "|                |             |   \\-------------------------- jd318:\t\t\tFalse/False           \n",
      "|                |             |                                               \n",
      "|                |             \\------------------------------ jd320:\t\t\tTrue/False           \n",
      "|                |                                                             \n",
      "|                \\-------------------------------------------- jd331:\t\t\tTrue/False           \n",
      "|                                                                              \n",
      "|                                                        /---- pa7:\t\t\tFalse/False             \n",
      "\\--------------------------------------------------------+                     \n",
      "                                                         \\---- lmg5031:\t\t\tTrue/False         \n",
      "                                                                               \n",
      "                                                                               \n"
     ]
    }
   ],
   "source": [
    "# format the ascii tree with labels\n",
    "tree_ascii = tree.as_ascii_plot()\n",
    "for i, record in records.iterrows():\n",
    "    l = len(record['id'])\n",
    "    if l < 8:\n",
    "        indent = '\\t\\t\\t'\n",
    "    elif l < 13:\n",
    "        indent = '\\t\\t'\n",
    "    else:\n",
    "        indent = '\\t'\n",
    "    tree_ascii = tree_ascii.replace(record['id'].replace('_', ' '),\n",
    "                                    '{id__}:{indent}{carb}/{toby}'.format(\n",
    "                                        id__=record['id'].lower(), # lower case to avoid something wrong\n",
    "                                        indent=indent,carb=record['carb'],toby=record['toby']),\n",
    "                                    1)\n",
    "print(tree_ascii)"
   ]
  },
  {
   "cell_type": "code",
   "execution_count": 134,
   "metadata": {},
   "outputs": [
    {
     "data": {
      "image/png": "[encoded data removed]",
      "text/plain": [
       "<Figure size 1656x1656 with 1 Axes>"
      ]
     },
     "metadata": {
      "needs_background": "light"
     },
     "output_type": "display_data"
    }
   ],
   "source": [
    "# visualize tree with biopython and matplotlib\n",
    "tree = Phylo.read('../data/pseudo_tree.dnd', format='newick')\n",
    "plt.figure(figsize=(23, 23))\n",
    "plt.title('$Pseudomonas$ phylogenetic tree')\n",
    "Phylo.draw(tree, axes=plt.gca())"
   ]
  },
  {
   "cell_type": "markdown",
   "metadata": {},
   "source": [
    "# Dimensionality reduction on distance matrix"
   ]
  },
  {
   "cell_type": "code",
   "execution_count": 50,
   "metadata": {},
   "outputs": [],
   "source": [
    "from sklearn.manifold import TSNE\n",
    "from sklearn.decomposition import PCA\n",
    "from sklearn.preprocessing import StandardScaler"
   ]
  },
  {
   "cell_type": "code",
   "execution_count": 44,
   "metadata": {},
   "outputs": [],
   "source": [
    "dist_mat = pd.read_csv('../data/pseudo_dist_mat.csv', index_col='id')\n",
    "dist_mat[dist_mat==np.inf] = 0"
   ]
  },
  {
   "cell_type": "code",
   "execution_count": 45,
   "metadata": {},
   "outputs": [],
   "source": [
    "scaler = StandardScaler()\n",
    "dist_mat_scaled = scaler.fit_transform(dist_mat)"
   ]
  },
  {
   "cell_type": "code",
   "execution_count": 50,
   "metadata": {},
   "outputs": [],
   "source": [
    "pca = PCA(n_components=2)\n",
    "dist_mat_pca = pca.fit_transform(dist_mat_scaled)"
   ]
  },
  {
   "cell_type": "code",
   "execution_count": 64,
   "metadata": {},
   "outputs": [
    {
     "data": {
      "image/png": "[encoded data removed]",
      "text/plain": [
       "<Figure size 691.2x345.6 with 2 Axes>"
      ]
     },
     "metadata": {
      "needs_background": "light"
     },
     "output_type": "display_data"
    }
   ],
   "source": [
    "plt.figure(figsize=(9.6, 4.8))\n",
    "plt.subplot('121')\n",
    "plt.scatter(dist_mat_pca[:, 0], dist_mat_pca[:, 1], c=records['carb'])\n",
    "plt.subplot('122')\n",
    "plt.scatter(dist_mat_pca[:, 0], dist_mat_pca[:, 1], c=records['toby'])\n",
    "\n",
    "plt.tight_layout()\n",
    "plt.show()"
   ]
  },
  {
   "cell_type": "code",
   "execution_count": 67,
   "metadata": {},
   "outputs": [],
   "source": [
    "tsne = TSNE(n_components=2)\n",
    "dist_mat_tsne = tsne.fit_transform(dist_mat_scaled)"
   ]
  },
  {
   "cell_type": "code",
   "execution_count": 68,
   "metadata": {},
   "outputs": [
    {
     "data": {
      "image/png": "[encoded data removed]",
      "text/plain": [
       "<Figure size 691.2x345.6 with 2 Axes>"
      ]
     },
     "metadata": {
      "needs_background": "light"
     },
     "output_type": "display_data"
    }
   ],
   "source": [
    "plt.figure(figsize=(9.6, 4.8))\n",
    "plt.subplot('121')\n",
    "plt.scatter(dist_mat_tsne[:, 0], dist_mat_tsne[:, 1], c=records['carb'])\n",
    "plt.subplot('122')\n",
    "plt.scatter(dist_mat_tsne[:, 0], dist_mat_tsne[:, 1], c=records['toby'])\n",
    "\n",
    "plt.tight_layout()\n",
    "plt.show()"
   ]
  },
  {
   "cell_type": "markdown",
   "metadata": {},
   "source": [
    "# Experiment"
   ]
  },
  {
   "cell_type": "markdown",
   "metadata": {},
   "source": [
    "## remove redundant feature"
   ]
  },
  {
   "cell_type": "code",
   "execution_count": 95,
   "metadata": {},
   "outputs": [],
   "source": [
    "records.dropna(inplace=True)"
   ]
  },
  {
   "cell_type": "code",
   "execution_count": 96,
   "metadata": {},
   "outputs": [],
   "source": [
    "from sklearn.feature_selection import VarianceThreshold\n",
    "selector = VarianceThreshold()"
   ]
  },
  {
   "cell_type": "code",
   "execution_count": 97,
   "metadata": {},
   "outputs": [],
   "source": [
    "encoding = records['sequence'].apply(transformation)"
   ]
  },
  {
   "cell_type": "code",
   "execution_count": 98,
   "metadata": {},
   "outputs": [],
   "source": [
    "encoding = pd.DataFrame(encoding.to_dict()).transpose().to_numpy()"
   ]
  },
  {
   "cell_type": "code",
   "execution_count": 99,
   "metadata": {},
   "outputs": [],
   "source": [
    "encoding.dump('../data/pseudo_encoding.dat')"
   ]
  },
  {
   "cell_type": "code",
   "execution_count": 100,
   "metadata": {},
   "outputs": [
    {
     "name": "stdout",
     "output_type": "stream",
     "text": [
      "CPU times: user 546 ms, sys: 124 ms, total: 670 ms\n",
      "Wall time: 680 ms\n"
     ]
    }
   ],
   "source": [
    "%time encoding_trans = selector.fit_transform(encoding)"
   ]
  },
  {
   "cell_type": "code",
   "execution_count": 101,
   "metadata": {},
   "outputs": [
    {
     "data": {
      "text/plain": [
       "(119, 261677)"
      ]
     },
     "execution_count": 101,
     "metadata": {},
     "output_type": "execute_result"
    }
   ],
   "source": [
    "encoding_trans.shape"
   ]
  },
  {
   "cell_type": "markdown",
   "metadata": {},
   "source": [
    "## encoding"
   ]
  },
  {
   "cell_type": "code",
   "execution_count": 102,
   "metadata": {},
   "outputs": [],
   "source": [
    "from sklearn.preprocessing import OneHotEncoder\n",
    "encoder = OneHotEncoder(categories='auto', handle_unknown='ignore')"
   ]
  },
  {
   "cell_type": "code",
   "execution_count": 103,
   "metadata": {},
   "outputs": [],
   "source": [
    "encoding_seq = encoder.fit_transform(encoding_trans)"
   ]
  },
  {
   "cell_type": "code",
   "execution_count": 104,
   "metadata": {},
   "outputs": [
    {
     "data": {
      "text/plain": [
       "<119x592901 sparse matrix of type '<class 'numpy.float64'>'\n",
       "\twith 31139563 stored elements in Compressed Sparse Row format>"
      ]
     },
     "execution_count": 104,
     "metadata": {},
     "output_type": "execute_result"
    }
   ],
   "source": [
    "encoding_seq"
   ]
  },
  {
   "cell_type": "code",
   "execution_count": 105,
   "metadata": {},
   "outputs": [],
   "source": [
    "from sklearn.decomposition import TruncatedSVD\n",
    "svd = TruncatedSVD(n_components=2)\n",
    "encoding_seq_svd = svd.fit_transform(encoding_seq)"
   ]
  },
  {
   "cell_type": "code",
   "execution_count": 106,
   "metadata": {},
   "outputs": [
    {
     "data": {
      "image/png": "[encoded data removed]",
      "text/plain": [
       "<Figure size 691.2x345.6 with 2 Axes>"
      ]
     },
     "metadata": {
      "needs_background": "light"
     },
     "output_type": "display_data"
    }
   ],
   "source": [
    "plt.figure(figsize=(9.6, 4.8))\n",
    "plt.subplot('121')\n",
    "plt.scatter(encoding_seq_svd[:, 0], encoding_seq_svd[:, 1], c=records['carb'])\n",
    "plt.subplot('122')\n",
    "plt.scatter(encoding_seq_svd[:, 0], encoding_seq_svd[:, 1], c=records['toby'])\n",
    "\n",
    "plt.tight_layout()\n",
    "plt.show()"
   ]
  },
  {
   "cell_type": "markdown",
   "metadata": {},
   "source": [
    "# Training"
   ]
  },
  {
   "cell_type": "code",
   "execution_count": 119,
   "metadata": {},
   "outputs": [],
   "source": [
    "from sklearn.model_selection import train_test_split"
   ]
  },
  {
   "cell_type": "code",
   "execution_count": 118,
   "metadata": {},
   "outputs": [],
   "source": [
    "X  = encoding_seq.todense()\n",
    "y1, y2 = records['carb'].astype('bool'), records['toby'].astype('bool')"
   ]
  },
  {
   "cell_type": "code",
   "execution_count": 121,
   "metadata": {},
   "outputs": [],
   "source": [
    "X1_train, X1_test, y1_train, y1_test = train_test_split(X, y1, stratify=y1)\n",
    "X2_train, X2_test, y2_train, y2_test = train_test_split(X, y2, stratify=y2)"
   ]
  },
  {
   "cell_type": "code",
   "execution_count": 110,
   "metadata": {},
   "outputs": [],
   "source": [
    "from sklearn.ensemble import RandomForestClassifier\n",
    "rf_clf = RandomForestClassifier(n_estimators=100, )"
   ]
  },
  {
   "cell_type": "code",
   "execution_count": 122,
   "metadata": {},
   "outputs": [
    {
     "data": {
      "text/plain": [
       "RandomForestClassifier(bootstrap=True, class_weight=None, criterion='gini',\n",
       "                       max_depth=None, max_features='auto', max_leaf_nodes=None,\n",
       "                       min_impurity_decrease=0.0, min_impurity_split=None,\n",
       "                       min_samples_leaf=1, min_samples_split=2,\n",
       "                       min_weight_fraction_leaf=0.0, n_estimators=100,\n",
       "                       n_jobs=None, oob_score=False, random_state=None,\n",
       "                       verbose=0, warm_start=False)"
      ]
     },
     "execution_count": 122,
     "metadata": {},
     "output_type": "execute_result"
    }
   ],
   "source": [
    "rf_clf.fit(X1_train, y1_train)"
   ]
  },
  {
   "cell_type": "code",
   "execution_count": 124,
   "metadata": {},
   "outputs": [
    {
     "data": {
      "text/plain": [
       "array([[22,  2],\n",
       "       [ 4,  2]])"
      ]
     },
     "execution_count": 124,
     "metadata": {},
     "output_type": "execute_result"
    }
   ],
   "source": [
    "from sklearn.metrics import confusion_matrix\n",
    "confusion_matrix(y1_test, rf_clf.predict(X1_t))"
   ]
  },
  {
   "cell_type": "code",
   "execution_count": 126,
   "metadata": {},
   "outputs": [
    {
     "data": {
      "text/plain": [
       "array([[28,  0],\n",
       "       [ 2,  0]])"
      ]
     },
     "execution_count": 126,
     "metadata": {},
     "output_type": "execute_result"
    }
   ],
   "source": [
    "rf_clf.fit(X2_train, y2_train)\n",
    "confusion_matrix(y2_test, rf_clf.predict(X2_test))"
   ]
  },
  {
   "cell_type": "code",
   "execution_count": 129,
   "metadata": {},
   "outputs": [],
   "source": [
    "from sklearn.linear_model import LogisticRegression\n",
    "lr = LogisticRegression(solver='lbfgs')"
   ]
  },
  {
   "cell_type": "code",
   "execution_count": 130,
   "metadata": {},
   "outputs": [
    {
     "data": {
      "text/plain": [
       "array([[23,  1],\n",
       "       [ 5,  1]])"
      ]
     },
     "execution_count": 130,
     "metadata": {},
     "output_type": "execute_result"
    }
   ],
   "source": [
    "lr.fit(X1_train, y1_train)\n",
    "confusion_matrix(y1_test, lr.predict(X1_test))"
   ]
  },
  {
   "cell_type": "code",
   "execution_count": 131,
   "metadata": {},
   "outputs": [
    {
     "data": {
      "text/plain": [
       "array([[28,  0],\n",
       "       [ 2,  0]])"
      ]
     },
     "execution_count": 131,
     "metadata": {},
     "output_type": "execute_result"
    }
   ],
   "source": [
    "lr.fit(X2_train, y2_train)\n",
    "confusion_matrix(y2_test, lr.predict(X2_test))"
   ]
  },
  {
   "cell_type": "code",
   "execution_count": null,
   "metadata": {},
   "outputs": [],
   "source": []
  }
 ],
 "metadata": {
  "kernelspec": {
   "display_name": "Python 3",
   "language": "python",
   "name": "python3"
  },
  "language_info": {
   "codemirror_mode": {
    "name": "ipython",
    "version": 3
   },
   "file_extension": ".py",
   "mimetype": "text/x-python",
   "name": "python",
   "nbconvert_exporter": "python",
   "pygments_lexer": "ipython3",
   "version": "3.7.4"
  }
 },
 "nbformat": 4,
 "nbformat_minor": 2
}
