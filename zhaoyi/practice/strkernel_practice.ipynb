{
 "cells": [
  {
   "cell_type": "code",
   "execution_count": 4,
   "metadata": {},
   "outputs": [],
   "source": [
    "from strkernel.mismatch_kernel import MismatchKernel\n",
    "from strkernel.mismatch_kernel import preprocess\n",
    "from Bio import SeqIO\n",
    "from Bio.Seq import Seq\n",
    "from sklearn.svm import SVC\n",
    "\n",
    "from sklearn.model_selection import train_test_split\n",
    "from sklearn.metrics import roc_curve, auc, precision_recall_curve, average_precision_score\n",
    "from sklearn.metrics import classification_report\n",
    "import matplotlib.pyplot as plt\n",
    "import numpy as np\n",
    "from numpy import random"
   ]
  },
  {
   "cell_type": "code",
   "execution_count": 30,
   "metadata": {},
   "outputs": [],
   "source": [
    "seq = [seq.seq[:10] for seq in SeqIO.parse('../../data/pseudo/concatenated.fasta', 'fasta')]"
   ]
  },
  {
   "cell_type": "code",
   "execution_count": 31,
   "metadata": {
    "scrolled": false
   },
   "outputs": [],
   "source": [
    "seq_processed = preprocess(seq, ignoreLower=False)"
   ]
  },
  {
   "cell_type": "code",
   "execution_count": 32,
   "metadata": {},
   "outputs": [
    {
     "data": {
      "text/plain": [
       "[[0, 3, 2, 0, 2, 3, 2, 0, 3, 1],\n",
       " [0, 3, 2, 0, 2, 3, 2, 0, 3, 1],\n",
       " [0, 3, 2, 0, 2, 3, 2, 0, 3, 1],\n",
       " [0, 3, 2, 0, 2, 3, 2, 0, 3, 1],\n",
       " [0, 3, 2, 0, 2, 3, 2, 0, 3, 1],\n",
       " [0, 3, 2, 0, 2, 3, 2, 0, 3, 1],\n",
       " [0, 3, 2, 0, 2, 3, 2, 0, 3, 1],\n",
       " [0, 3, 2, 0, 2, 3, 2, 0, 3, 1],\n",
       " [0, 3, 2, 0, 2, 3, 2, 0, 3, 1],\n",
       " [0, 3, 2, 0, 2, 3, 2, 0, 3, 1],\n",
       " [0, 3, 2, 0, 2, 3, 2, 0, 3, 1],\n",
       " [0, 3, 2, 0, 2, 3, 2, 0, 3, 1],\n",
       " [0, 3, 2, 0, 2, 3, 2, 0, 3, 1],\n",
       " [0, 3, 2, 0, 2, 3, 2, 0, 3, 1],\n",
       " [0, 3, 2, 0, 2, 3, 2, 0, 3, 1],\n",
       " [0, 3, 2, 0, 2, 3, 2, 0, 3, 1],\n",
       " [0, 3, 2, 0, 2, 3, 2, 0, 3, 1],\n",
       " [0, 3, 2, 0, 2, 3, 2, 0, 3, 1],\n",
       " [0, 3, 2, 0, 2, 3, 2, 0, 3, 1],\n",
       " [0, 3, 2, 0, 2, 3, 2, 0, 3, 1],\n",
       " [0, 3, 2, 0, 2, 3, 2, 0, 3, 1],\n",
       " [0, 3, 2, 0, 2, 3, 2, 0, 3, 1],\n",
       " [0, 3, 2, 0, 2, 3, 2, 0, 3, 1],\n",
       " [0, 3, 2, 0, 2, 3, 2, 0, 3, 1],\n",
       " [0, 3, 2, 0, 2, 3, 2, 0, 3, 1],\n",
       " [0, 3, 2, 0, 1, 3, 2, 0, 3, 1],\n",
       " [0, 3, 2, 0, 1, 3, 2, 0, 3, 1],\n",
       " [0, 3, 2, 0, 2, 3, 2, 0, 3, 1],\n",
       " [0, 3, 2, 0, 2, 3, 2, 0, 3, 1],\n",
       " [0, 3, 2, 0, 2, 3, 2, 0, 3, 1],\n",
       " [0, 3, 2, 0, 2, 3, 2, 0, 3, 1],\n",
       " [0, 3, 2, 0, 2, 3, 2, 0, 3, 1],\n",
       " [0, 3, 2, 0, 2, 3, 2, 0, 3, 1],\n",
       " [0, 3, 2, 0, 2, 3, 2, 0, 3, 1],\n",
       " [0, 3, 2, 0, 2, 3, 2, 0, 3, 1],\n",
       " [0, 3, 2, 0, 2, 3, 2, 0, 3, 1],\n",
       " [0, 3, 2, 0, 2, 3, 2, 0, 3, 1],\n",
       " [0, 3, 2, 0, 2, 3, 2, 0, 3, 1],\n",
       " [0, 3, 2, 0, 2, 3, 2, 0, 3, 1],\n",
       " [0, 3, 2, 0, 2, 3, 2, 0, 3, 1],\n",
       " [0, 3, 2, 0, 2, 3, 2, 0, 3, 1],\n",
       " [0, 3, 2, 0, 2, 3, 2, 0, 3, 1],\n",
       " [0, 3, 2, 0, 2, 3, 2, 0, 3, 1],\n",
       " [0, 3, 2, 0, 2, 3, 2, 0, 3, 1],\n",
       " [0, 3, 2, 0, 2, 3, 2, 0, 3, 1],\n",
       " [0, 3, 2, 0, 2, 3, 2, 0, 3, 1],\n",
       " [0, 3, 2, 0, 2, 3, 2, 0, 3, 1],\n",
       " [0, 0, 0, 0, 0, 0, 0, 0, 0, 0],\n",
       " [0, 2, 1, 0, 1, 2, 1, 0, 2, 2],\n",
       " [0, 2, 1, 0, 1, 2, 1, 0, 2, 2],\n",
       " [0, 2, 1, 0, 1, 2, 1, 0, 2, 2],\n",
       " [0, 2, 1, 0, 1, 2, 1, 0, 2, 2],\n",
       " [0, 2, 1, 0, 1, 2, 1, 0, 2, 2],\n",
       " [0, 2, 1, 0, 1, 2, 1, 0, 2, 2],\n",
       " [0, 2, 1, 0, 1, 2, 1, 0, 2, 2],\n",
       " [0, 2, 1, 0, 1, 2, 1, 0, 2, 2],\n",
       " [0, 2, 1, 0, 1, 2, 1, 0, 2, 2],\n",
       " [0, 2, 1, 0, 1, 2, 1, 0, 2, 2],\n",
       " [0, 2, 1, 0, 1, 2, 1, 0, 2, 2],\n",
       " [0, 2, 1, 0, 1, 2, 1, 0, 2, 2],\n",
       " [0, 2, 1, 0, 1, 2, 1, 0, 2, 2],\n",
       " [0, 2, 1, 0, 1, 2, 1, 0, 2, 2],\n",
       " [0, 2, 1, 0, 1, 2, 1, 0, 2, 2],\n",
       " [0, 2, 1, 0, 1, 2, 1, 0, 2, 2],\n",
       " [0, 2, 1, 0, 1, 2, 1, 0, 2, 2],\n",
       " [0, 2, 1, 0, 1, 2, 1, 0, 2, 2],\n",
       " [0, 2, 1, 0, 1, 2, 1, 0, 2, 2],\n",
       " [0, 2, 1, 0, 1, 2, 1, 0, 2, 2],\n",
       " [0, 2, 1, 0, 1, 2, 1, 0, 2, 2],\n",
       " [0, 2, 1, 0, 1, 2, 1, 0, 2, 2],\n",
       " [0, 2, 1, 0, 1, 2, 1, 0, 2, 2],\n",
       " [0, 2, 1, 0, 1, 2, 1, 0, 2, 2],\n",
       " [0, 2, 1, 0, 1, 2, 1, 0, 2, 2],\n",
       " [0, 2, 1, 0, 1, 2, 1, 0, 2, 2],\n",
       " [0, 2, 1, 0, 1, 2, 1, 0, 2, 2],\n",
       " [0, 2, 1, 0, 1, 2, 1, 0, 2, 2],\n",
       " [0, 2, 1, 0, 1, 2, 1, 0, 2, 2],\n",
       " [0, 2, 1, 0, 1, 2, 1, 0, 2, 2],\n",
       " [0, 2, 1, 0, 1, 2, 1, 0, 2, 2],\n",
       " [0, 2, 1, 0, 1, 2, 1, 0, 2, 2],\n",
       " [0, 2, 1, 0, 1, 2, 1, 0, 2, 2],\n",
       " [0, 0, 0, 0, 0, 0, 0, 0, 0, 0],\n",
       " [0, 0, 0, 0, 0, 0, 0, 0, 0, 0],\n",
       " [0, 0, 0, 0, 0, 0, 0, 0, 0, 0],\n",
       " [0, 0, 0, 0, 0, 0, 0, 0, 0, 0],\n",
       " [0, 0, 0, 0, 0, 0, 0, 0, 0, 0],\n",
       " [0, 0, 0, 0, 0, 0, 0, 0, 0, 0],\n",
       " [0, 0, 0, 0, 0, 0, 0, 0, 0, 0],\n",
       " [0, 0, 0, 0, 0, 0, 0, 0, 0, 0],\n",
       " [0, 0, 0, 0, 0, 0, 0, 0, 0, 0],\n",
       " [0, 0, 0, 0, 0, 0, 0, 0, 0, 0],\n",
       " [0, 0, 0, 0, 0, 0, 0, 0, 0, 0],\n",
       " [0, 0, 0, 0, 0, 0, 0, 0, 0, 0],\n",
       " [0, 0, 0, 0, 0, 0, 0, 0, 0, 0],\n",
       " [0, 0, 0, 0, 0, 0, 0, 0, 0, 0],\n",
       " [0, 0, 0, 0, 0, 0, 0, 0, 0, 0],\n",
       " [0, 0, 0, 0, 0, 0, 0, 0, 0, 0],\n",
       " [0, 0, 0, 0, 0, 0, 0, 0, 0, 0],\n",
       " [0, 0, 0, 0, 0, 0, 0, 0, 0, 0],\n",
       " [0, 0, 0, 0, 0, 0, 0, 0, 0, 0],\n",
       " [0, 0, 0, 0, 0, 0, 0, 0, 0, 0],\n",
       " [0, 0, 0, 0, 0, 0, 0, 0, 0, 0],\n",
       " [0, 0, 0, 0, 0, 0, 0, 0, 0, 0],\n",
       " [0, 0, 0, 0, 0, 0, 0, 0, 0, 0],\n",
       " [0, 0, 0, 0, 0, 0, 0, 0, 0, 0],\n",
       " [0, 0, 0, 0, 0, 0, 0, 0, 0, 0],\n",
       " [0, 0, 0, 0, 0, 0, 0, 0, 0, 0],\n",
       " [0, 0, 0, 0, 0, 0, 0, 0, 0, 0],\n",
       " [0, 0, 0, 0, 0, 0, 0, 0, 0, 0],\n",
       " [0, 0, 0, 0, 0, 0, 0, 0, 0, 0],\n",
       " [0, 0, 0, 0, 0, 0, 0, 0, 0, 0],\n",
       " [0, 0, 0, 0, 0, 0, 0, 0, 0, 0],\n",
       " [0, 0, 0, 0, 0, 0, 0, 0, 0, 0],\n",
       " [0, 0, 0, 0, 0, 0, 0, 0, 0, 0],\n",
       " [0, 0, 0, 0, 0, 0, 0, 0, 0, 0],\n",
       " [0, 0, 0, 0, 0, 0, 0, 0, 0, 0],\n",
       " [0, 0, 0, 0, 0, 0, 0, 0, 0, 0],\n",
       " [0, 0, 0, 0, 0, 0, 0, 0, 0, 0],\n",
       " [0, 0, 0, 0, 0, 0, 0, 0, 0, 0],\n",
       " [0, 0, 0, 0, 0, 0, 0, 0, 0, 0],\n",
       " [0, 0, 0, 0, 0, 0, 0, 0, 0, 0],\n",
       " [0, 0, 0, 0, 0, 0, 0, 0, 0, 0]]"
      ]
     },
     "execution_count": 32,
     "metadata": {},
     "output_type": "execute_result"
    }
   ],
   "source": [
    "seq_processed"
   ]
  },
  {
   "cell_type": "code",
   "execution_count": 33,
   "metadata": {},
   "outputs": [
    {
     "name": "stdout",
     "output_type": "stream",
     "text": [
      "CPU times: user 2.45 s, sys: 9.11 ms, total: 2.46 s\n",
      "Wall time: 2.45 s\n"
     ]
    }
   ],
   "source": [
    "%time kernel = MismatchKernel(l=5, k=5, m=1).get_kernel(seq_processed).kernel"
   ]
  },
  {
   "cell_type": "code",
   "execution_count": 35,
   "metadata": {},
   "outputs": [
    {
     "data": {
      "text/plain": [
       "<matplotlib.colorbar.Colorbar at 0x7f37362d45d0>"
      ]
     },
     "execution_count": 35,
     "metadata": {},
     "output_type": "execute_result"
    },
    {
     "data": {
      "image/png": "[encoded data removed]",
      "text/plain": [
       "<Figure size 288x288 with 2 Axes>"
      ]
     },
     "metadata": {
      "needs_background": "light"
     },
     "output_type": "display_data"
    }
   ],
   "source": [
    "plt.matshow(kernel)\n",
    "plt.colorbar()"
   ]
  },
  {
   "cell_type": "code",
   "execution_count": 24,
   "metadata": {},
   "outputs": [],
   "source": [
    "mismatch_collection = ['aATGCg', 'ACGTTT', 'agATGC','TCACcg', 'cgTCTCGAgt']\n",
    "# sequences = ['aatgcACGTTGAgatcg','acgtgACGTTTGacggt', 'agtccATGCTGTaagtc', 'gttccTCACCGTcgcgt', 'gtacgTCTCGCTgtcgt']\n",
    "# preprocess\n",
    "after_process = preprocess(mismatch_collection, ignoreLower=False)\n",
    "# compute mismatch kernel\n",
    "mismatch_kernel = MismatchKernel(l=5, k=5, m=1).get_kernel(after_process, normalize=False)"
   ]
  },
  {
   "cell_type": "code",
   "execution_count": 27,
   "metadata": {},
   "outputs": [
    {
     "data": {
      "text/plain": [
       "[[0, 0, 3, 2, 1, 2],\n",
       " [0, 1, 2, 3, 3, 3],\n",
       " [0, 2, 0, 3, 2, 1],\n",
       " [3, 1, 0, 1, 1, 2],\n",
       " [1, 2, 3, 1, 3, 1]]"
      ]
     },
     "execution_count": 27,
     "metadata": {},
     "output_type": "execute_result"
    }
   ],
   "source": [
    "after_process"
   ]
  },
  {
   "cell_type": "code",
   "execution_count": 26,
   "metadata": {},
   "outputs": [
    {
     "data": {
      "text/plain": [
       "<matplotlib.image.AxesImage at 0x7f37275aebd0>"
      ]
     },
     "execution_count": 26,
     "metadata": {},
     "output_type": "execute_result"
    },
    {
     "data": {
      "image/png": "[encoded data removed]",
      "text/plain": [
       "<Figure size 288x288 with 1 Axes>"
      ]
     },
     "metadata": {
      "needs_background": "light"
     },
     "output_type": "display_data"
    }
   ],
   "source": [
    "plt.matshow(mismatch_kernel.kernel)"
   ]
  },
  {
   "cell_type": "code",
   "execution_count": null,
   "metadata": {},
   "outputs": [],
   "source": []
  }
 ],
 "metadata": {
  "kernelspec": {
   "display_name": "Python 3",
   "language": "python",
   "name": "python3"
  },
  "language_info": {
   "codemirror_mode": {
    "name": "ipython",
    "version": 3
   },
   "file_extension": ".py",
   "mimetype": "text/x-python",
   "name": "python",
   "nbconvert_exporter": "python",
   "pygments_lexer": "ipython3",
   "version": "3.7.4"
  }
 },
 "nbformat": 4,
 "nbformat_minor": 2
}
