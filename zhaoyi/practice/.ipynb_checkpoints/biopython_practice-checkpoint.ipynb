{
 "cells": [
  {
   "cell_type": "code",
   "execution_count": 1,
   "metadata": {},
   "outputs": [],
   "source": [
    "import Bio\n",
    "from Bio import SeqIO\n",
    "from Bio.Cluster import distancematrix\n",
    "\n",
    "import numpy as np\n",
    "import pandas as pd"
   ]
  },
  {
   "cell_type": "code",
   "execution_count": 8,
   "metadata": {},
   "outputs": [
    {
     "data": {
      "text/plain": [
       "[array([], dtype=float64),\n",
       " array([16.]),\n",
       " array([64., 16.]),\n",
       " array([ 1.,  9., 49.])]"
      ]
     },
     "execution_count": 8,
     "metadata": {},
     "output_type": "execute_result"
    }
   ],
   "source": [
    "data = np.array([[0, 1,  2,  3],\n",
    "                 [4, 5,  6,  7],\n",
    "                 [8, 9, 10, 11],\n",
    "                 [1, 2,  3,  4]])\n",
    "distancematrix(data)"
   ]
  },
  {
   "cell_type": "code",
   "execution_count": 18,
   "metadata": {},
   "outputs": [
    {
     "data": {
      "text/plain": [
       "[array([], dtype=float64),\n",
       " array([12.5]),\n",
       " array([30.5,  4. ]),\n",
       " array([ 2.5,  4. , 16. ])]"
      ]
     },
     "execution_count": 18,
     "metadata": {},
     "output_type": "execute_result"
    }
   ],
   "source": [
    "data = np.array([[0, 0],\n",
    "                 [3, 4],\n",
    "                 [5, 6],\n",
    "                 [1, 2]])\n",
    "distancematrix(data, transpose=False, dist='e')"
   ]
  },
  {
   "cell_type": "code",
   "execution_count": 13,
   "metadata": {},
   "outputs": [
    {
     "data": {
      "text/plain": [
       "array([[ 0., 16., 64.,  1.],\n",
       "       [16.,  0., 16.,  9.],\n",
       "       [64., 16.,  0., 49.],\n",
       "       [ 1.,  9., 49.,  0.]])"
      ]
     },
     "execution_count": 13,
     "metadata": {},
     "output_type": "execute_result"
    }
   ],
   "source": [
    "np.array([[ 0., 16., 64., 1.], [16., 0., 16., 9.], [64., 16., 0., 49.], [ 1., 9., 49., 0.]])"
   ]
  },
  {
   "cell_type": "code",
   "execution_count": 4,
   "metadata": {},
   "outputs": [],
   "source": [
    "with open(\"../data/staph/core_gene_alignment.fasta\", \"w\") as output:\n",
    "    for sequence in SeqIO.parse('../data/staph/core_gene_alignment-narsa.aln', 'fasta'):\n",
    "        seq = Bio.Seq.Seq(sequence.seq._data.upper(), alphabet=Bio.Alphabet.Alphabet())\n",
    "        record = Bio.SeqRecord.SeqRecord(seq, id=sequence.id, description='')\n",
    "        SeqIO.write(record, output, \"fasta\")"
   ]
  },
  {
   "cell_type": "code",
   "execution_count": 5,
   "metadata": {},
   "outputs": [],
   "source": [
    "with open(\"../data/staph/saureus_core_gene_alignment.fasta\", \"w\") as output:\n",
    "    for sequence in SeqIO.parse('../data/staph/saureus_core_gene_alignment.aln', 'fasta'):\n",
    "        seq = Bio.Seq.Seq(sequence.seq._data.upper(), alphabet=Bio.Alphabet.Alphabet())\n",
    "        record = Bio.SeqRecord.SeqRecord(seq, id=sequence.id, description='')\n",
    "        SeqIO.write(record, output, \"fasta\")"
   ]
  },
  {
   "cell_type": "code",
   "execution_count": 6,
   "metadata": {},
   "outputs": [],
   "source": [
    "with open(\"../data/staph/combined.fasta\", \"w\") as output:\n",
    "    for sequence in SeqIO.parse('../data/staph/core_gene_alignment-narsa.aln', 'fasta'):\n",
    "        seq = Bio.Seq.Seq(sequence.seq._data.upper(), alphabet=Bio.Alphabet.Alphabet())\n",
    "        record = Bio.SeqRecord.SeqRecord(seq, id=sequence.id, description='')\n",
    "        SeqIO.write(record, output, \"fasta\")\n",
    "    for sequence in SeqIO.parse('../data/staph/saureus_core_gene_alignment.aln', 'fasta'):\n",
    "        seq = Bio.Seq.Seq(sequence.seq._data.upper(), alphabet=Bio.Alphabet.Alphabet())\n",
    "        record = Bio.SeqRecord.SeqRecord(seq, id=sequence.id, description='')\n",
    "        SeqIO.write(record, output, \"fasta\")"
   ]
  },
  {
   "cell_type": "code",
   "execution_count": 3,
   "metadata": {},
   "outputs": [
    {
     "ename": "NameError",
     "evalue": "name 'pd' is not defined",
     "output_type": "error",
     "traceback": [
      "\u001b[0;31m---------------------------------------------------------------------------\u001b[0m",
      "\u001b[0;31mNameError\u001b[0m                                 Traceback (most recent call last)",
      "\u001b[0;32m<ipython-input-3-69248a0ef1ed>\u001b[0m in \u001b[0;36m<module>\u001b[0;34m\u001b[0m\n\u001b[1;32m      1\u001b[0m \u001b[0msrc\u001b[0m \u001b[0;34m=\u001b[0m \u001b[0mSeqIO\u001b[0m\u001b[0;34m.\u001b[0m\u001b[0mparse\u001b[0m\u001b[0;34m(\u001b[0m\u001b[0;34m'../data/staph/combined.fasta'\u001b[0m\u001b[0;34m,\u001b[0m \u001b[0;34m'fasta'\u001b[0m\u001b[0;34m)\u001b[0m\u001b[0;34m\u001b[0m\u001b[0;34m\u001b[0m\u001b[0m\n\u001b[1;32m      2\u001b[0m \u001b[0mdata\u001b[0m \u001b[0;34m=\u001b[0m \u001b[0;34m[\u001b[0m\u001b[0;34m(\u001b[0m\u001b[0mrecords_pseudo\u001b[0m\u001b[0;34m.\u001b[0m\u001b[0mid\u001b[0m\u001b[0;34m,\u001b[0m \u001b[0mrecords_pseudo\u001b[0m\u001b[0;34m.\u001b[0m\u001b[0mseq\u001b[0m\u001b[0;34m.\u001b[0m\u001b[0m_data\u001b[0m\u001b[0;34m)\u001b[0m \u001b[0;32mfor\u001b[0m \u001b[0mrecords_pseudo\u001b[0m \u001b[0;32min\u001b[0m \u001b[0msrc\u001b[0m\u001b[0;34m]\u001b[0m\u001b[0;34m\u001b[0m\u001b[0;34m\u001b[0m\u001b[0m\n\u001b[0;32m----> 3\u001b[0;31m \u001b[0mseq\u001b[0m \u001b[0;34m=\u001b[0m \u001b[0mpd\u001b[0m\u001b[0;34m.\u001b[0m\u001b[0mDataFrame\u001b[0m\u001b[0;34m(\u001b[0m\u001b[0mdata\u001b[0m\u001b[0;34m=\u001b[0m\u001b[0mdata\u001b[0m\u001b[0;34m,\u001b[0m \u001b[0mcolumns\u001b[0m\u001b[0;34m=\u001b[0m\u001b[0;34m[\u001b[0m\u001b[0;34m'id'\u001b[0m\u001b[0;34m,\u001b[0m \u001b[0;34m'sequence'\u001b[0m\u001b[0;34m]\u001b[0m\u001b[0;34m)\u001b[0m\u001b[0;34m\u001b[0m\u001b[0;34m\u001b[0m\u001b[0m\n\u001b[0m",
      "\u001b[0;31mNameError\u001b[0m: name 'pd' is not defined"
     ]
    }
   ],
   "source": [
    "src = SeqIO.parse('../data/staph/combined.fasta', 'fasta')\n",
    "data = [(records_pseudo.id, records_pseudo.seq._data) for records_pseudo in src]\n",
    "seq = pd.DataFrame(data=data, columns=['id', 'sequence'])"
   ]
  },
  {
   "cell_type": "code",
   "execution_count": null,
   "metadata": {},
   "outputs": [],
   "source": []
  }
 ],
 "metadata": {
  "kernelspec": {
   "display_name": "Python 3",
   "language": "python",
   "name": "python3"
  },
  "language_info": {
   "codemirror_mode": {
    "name": "ipython",
    "version": 3
   },
   "file_extension": ".py",
   "mimetype": "text/x-python",
   "name": "python",
   "nbconvert_exporter": "python",
   "pygments_lexer": "ipython3",
   "version": "3.7.4"
  }
 },
 "nbformat": 4,
 "nbformat_minor": 2
}
