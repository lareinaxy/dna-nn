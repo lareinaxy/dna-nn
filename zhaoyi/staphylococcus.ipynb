{
 "cells": [
  {
   "cell_type": "code",
   "execution_count": 16,
   "metadata": {
    "scrolled": true
   },
   "outputs": [],
   "source": [
    "import numpy as np\n",
    "import pandas as pd\n",
    "import matplotlib.pyplot as plt\n",
    "from Bio import SeqIO\n",
    "%matplotlib inline\n",
    "pd.options.display.precision = 3"
   ]
  },
  {
   "cell_type": "code",
   "execution_count": 17,
   "metadata": {},
   "outputs": [],
   "source": [
    "# load responses-staph.csv - the result of antibiotic resistence of staphylococcus\n",
    "# 125 * 1\n",
    "resp = pd.read_csv('../data/responses-staph.csv')"
   ]
  },
  {
   "cell_type": "code",
   "execution_count": 18,
   "metadata": {},
   "outputs": [],
   "source": [
    "# load core_gene_alignment-narsa.aln - the gene sequence of staphylococcus\n",
    "# 125 * 983088\n",
    "src = SeqIO.parse('../data/core_gene_alignment-narsa.aln', 'fasta')\n",
    "data = [(record.id, record.seq._data.upper()) for record in src]\n",
    "seq = pd.DataFrame(data=data, columns=['ids', 'sequence'])"
   ]
  },
  {
   "cell_type": "code",
   "execution_count": 19,
   "metadata": {},
   "outputs": [],
   "source": [
    "# merge DataFrames of two files into one DataFrame\n",
    "records = pd.merge(seq, resp, on='ids')"
   ]
  },
  {
   "cell_type": "code",
   "execution_count": 20,
   "metadata": {},
   "outputs": [
    {
     "data": {
      "text/plain": [
       "False    103\n",
       "True      21\n",
       "Name: resp, dtype: int64"
      ]
     },
     "execution_count": 20,
     "metadata": {},
     "output_type": "execute_result"
    }
   ],
   "source": [
    "records['resp'].value_counts()"
   ]
  },
  {
   "cell_type": "code",
   "execution_count": 21,
   "metadata": {},
   "outputs": [],
   "source": [
    "# calculate missing number and percentage of nucleotides of each sequence\n",
    "from collections import Counter\n",
    "\n",
    "seq_len = np.mean(records['sequence'].apply(len))\n",
    "records['missing'] = records['sequence'].apply(lambda seq: Counter(seq)['-'])"
   ]
  },
  {
   "cell_type": "code",
   "execution_count": 22,
   "metadata": {},
   "outputs": [
    {
     "data": {
      "text/html": [
       "<div>\n",
       "<style scoped>\n",
       "    .dataframe tbody tr th:only-of-type {\n",
       "        vertical-align: middle;\n",
       "    }\n",
       "\n",
       "    .dataframe tbody tr th {\n",
       "        vertical-align: top;\n",
       "    }\n",
       "\n",
       "    .dataframe thead th {\n",
       "        text-align: right;\n",
       "    }\n",
       "</style>\n",
       "<table border=\"1\" class=\"dataframe\">\n",
       "  <thead>\n",
       "    <tr style=\"text-align: right;\">\n",
       "      <th></th>\n",
       "      <th>ids</th>\n",
       "      <th>sequence</th>\n",
       "      <th>resp</th>\n",
       "      <th>missing</th>\n",
       "      <th>missing_percentage</th>\n",
       "    </tr>\n",
       "  </thead>\n",
       "  <tbody>\n",
       "    <tr>\n",
       "      <td>0</td>\n",
       "      <td>NRS001</td>\n",
       "      <td>ATGAACATTTATGATGAATATAGAAGTTATTTAATAGAAGAACTGG...</td>\n",
       "      <td>False</td>\n",
       "      <td>2511</td>\n",
       "      <td>0.255</td>\n",
       "    </tr>\n",
       "    <tr>\n",
       "      <td>1</td>\n",
       "      <td>NRS002</td>\n",
       "      <td>----------------------------------------------...</td>\n",
       "      <td>False</td>\n",
       "      <td>25278</td>\n",
       "      <td>2.571</td>\n",
       "    </tr>\n",
       "    <tr>\n",
       "      <td>2</td>\n",
       "      <td>NRS003</td>\n",
       "      <td>ATGAACATTTATGATGAATATAGAAGTTATTTAATAGAAGAACTGG...</td>\n",
       "      <td>False</td>\n",
       "      <td>48213</td>\n",
       "      <td>4.904</td>\n",
       "    </tr>\n",
       "    <tr>\n",
       "      <td>3</td>\n",
       "      <td>NRS021</td>\n",
       "      <td>ATGAAAATTTATGATGAATATAGAAGTTATGTAATAGAAGAACTGG...</td>\n",
       "      <td>False</td>\n",
       "      <td>2442</td>\n",
       "      <td>0.248</td>\n",
       "    </tr>\n",
       "    <tr>\n",
       "      <td>4</td>\n",
       "      <td>NRS022</td>\n",
       "      <td>ATGAACATTTATGATGAATATAGAAGTTATGTAATAGAAGAACTGG...</td>\n",
       "      <td>False</td>\n",
       "      <td>3885</td>\n",
       "      <td>0.395</td>\n",
       "    </tr>\n",
       "    <tr>\n",
       "      <td>...</td>\n",
       "      <td>...</td>\n",
       "      <td>...</td>\n",
       "      <td>...</td>\n",
       "      <td>...</td>\n",
       "      <td>...</td>\n",
       "    </tr>\n",
       "    <tr>\n",
       "      <td>120</td>\n",
       "      <td>NRS272</td>\n",
       "      <td>ATGAAAATTTATGATGAATATAGAAGTTATGTAATAGAAGAACTGG...</td>\n",
       "      <td>False</td>\n",
       "      <td>66885</td>\n",
       "      <td>6.804</td>\n",
       "    </tr>\n",
       "    <tr>\n",
       "      <td>121</td>\n",
       "      <td>NRS275</td>\n",
       "      <td>ATGAAAATTTATGATGAATATAGAAGTTATGTAATAGAAGAACTGG...</td>\n",
       "      <td>False</td>\n",
       "      <td>8052</td>\n",
       "      <td>0.819</td>\n",
       "    </tr>\n",
       "    <tr>\n",
       "      <td>122</td>\n",
       "      <td>NRS383</td>\n",
       "      <td>ATGAACATTTATGATGAATATAGAAGTTATGTAATAGAAGAACTGG...</td>\n",
       "      <td>False</td>\n",
       "      <td>3003</td>\n",
       "      <td>0.305</td>\n",
       "    </tr>\n",
       "    <tr>\n",
       "      <td>123</td>\n",
       "      <td>NRS386</td>\n",
       "      <td>ATGAAAATTTATGATGAATATAGAAGTTATGTAATAGAAGAACTGG...</td>\n",
       "      <td>True</td>\n",
       "      <td>2790</td>\n",
       "      <td>0.284</td>\n",
       "    </tr>\n",
       "    <tr>\n",
       "      <td>124</td>\n",
       "      <td>NRS387</td>\n",
       "      <td>ATGAACATTTATGATGAATATAGAAGTTATTTAATAGAAGAACTGG...</td>\n",
       "      <td>False</td>\n",
       "      <td>2487</td>\n",
       "      <td>0.253</td>\n",
       "    </tr>\n",
       "  </tbody>\n",
       "</table>\n",
       "<p>125 rows × 5 columns</p>\n",
       "</div>"
      ],
      "text/plain": [
       "        ids                                           sequence   resp  \\\n",
       "0    NRS001  ATGAACATTTATGATGAATATAGAAGTTATTTAATAGAAGAACTGG...  False   \n",
       "1    NRS002  ----------------------------------------------...  False   \n",
       "2    NRS003  ATGAACATTTATGATGAATATAGAAGTTATTTAATAGAAGAACTGG...  False   \n",
       "3    NRS021  ATGAAAATTTATGATGAATATAGAAGTTATGTAATAGAAGAACTGG...  False   \n",
       "4    NRS022  ATGAACATTTATGATGAATATAGAAGTTATGTAATAGAAGAACTGG...  False   \n",
       "..      ...                                                ...    ...   \n",
       "120  NRS272  ATGAAAATTTATGATGAATATAGAAGTTATGTAATAGAAGAACTGG...  False   \n",
       "121  NRS275  ATGAAAATTTATGATGAATATAGAAGTTATGTAATAGAAGAACTGG...  False   \n",
       "122  NRS383  ATGAACATTTATGATGAATATAGAAGTTATGTAATAGAAGAACTGG...  False   \n",
       "123  NRS386  ATGAAAATTTATGATGAATATAGAAGTTATGTAATAGAAGAACTGG...   True   \n",
       "124  NRS387  ATGAACATTTATGATGAATATAGAAGTTATTTAATAGAAGAACTGG...  False   \n",
       "\n",
       "     missing  missing_percentage  \n",
       "0       2511               0.255  \n",
       "1      25278               2.571  \n",
       "2      48213               4.904  \n",
       "3       2442               0.248  \n",
       "4       3885               0.395  \n",
       "..       ...                 ...  \n",
       "120    66885               6.804  \n",
       "121     8052               0.819  \n",
       "122     3003               0.305  \n",
       "123     2790               0.284  \n",
       "124     2487               0.253  \n",
       "\n",
       "[125 rows x 5 columns]"
      ]
     },
     "execution_count": 22,
     "metadata": {},
     "output_type": "execute_result"
    }
   ],
   "source": [
    "records['missing_percentage'] = records['missing'] / seq_len * 100\n",
    "records"
   ]
  },
  {
   "cell_type": "code",
   "execution_count": 23,
   "metadata": {},
   "outputs": [
    {
     "data": {
      "image/png": "[encoded data removed]",
      "text/plain": [
       "<Figure size 432x288 with 1 Axes>"
      ]
     },
     "metadata": {
      "needs_background": "light"
     },
     "output_type": "display_data"
    }
   ],
   "source": [
    "# show the skewness of the data set\n",
    "def show_count(rects):\n",
    "    '''Show the height of each bar in the bar chart'''\n",
    "    for rect in rects:\n",
    "        height = rect.get_height()\n",
    "        plt.annotate('{}'.format(height),\n",
    "                     xy=(rect.get_x() + rect.get_width()/2, height),\n",
    "                     ha='center', va='bottom')\n",
    "\n",
    "x = np.array([0, 0.5]) # False, True\n",
    "\n",
    "resp_counts = records['resp'].value_counts()\n",
    "rects = plt.bar(x=x, height=resp_counts, width=0.25, alpha=0.9, label='unknown')\n",
    "\n",
    "show_count(rects)\n",
    "\n",
    "plt.xticks(x, ['Susceptible', 'Resistant'])\n",
    "plt.ylim((0, 110))\n",
    "plt.ylabel('counts')\n",
    "plt.title('Resistance of $Staphylococcus$ to unknown')\n",
    "\n",
    "plt.tight_layout()\n",
    "plt.legend()\n",
    "plt.savefig('staph_skewness.png')\n",
    "plt.show()"
   ]
  },
  {
   "cell_type": "code",
   "execution_count": 24,
   "metadata": {},
   "outputs": [
    {
     "data": {
      "text/html": [
       "<div>\n",
       "<style scoped>\n",
       "    .dataframe tbody tr th:only-of-type {\n",
       "        vertical-align: middle;\n",
       "    }\n",
       "\n",
       "    .dataframe tbody tr th {\n",
       "        vertical-align: top;\n",
       "    }\n",
       "\n",
       "    .dataframe thead th {\n",
       "        text-align: right;\n",
       "    }\n",
       "</style>\n",
       "<table border=\"1\" class=\"dataframe\">\n",
       "  <thead>\n",
       "    <tr style=\"text-align: right;\">\n",
       "      <th></th>\n",
       "      <th>unknown</th>\n",
       "    </tr>\n",
       "  </thead>\n",
       "  <tbody>\n",
       "    <tr>\n",
       "      <td>False</td>\n",
       "      <td>83.065</td>\n",
       "    </tr>\n",
       "    <tr>\n",
       "      <td>True</td>\n",
       "      <td>16.935</td>\n",
       "    </tr>\n",
       "  </tbody>\n",
       "</table>\n",
       "</div>"
      ],
      "text/plain": [
       "       unknown\n",
       "False   83.065\n",
       "True    16.935"
      ]
     },
     "execution_count": 24,
     "metadata": {},
     "output_type": "execute_result"
    }
   ],
   "source": [
    "# calculate true/false percentage of the class\n",
    "counts = pd.DataFrame({'unknown': resp_counts})\n",
    "counts.div(counts.sum() / 100)"
   ]
  },
  {
   "cell_type": "code",
   "execution_count": 25,
   "metadata": {},
   "outputs": [
    {
     "data": {
      "image/png": "[encoded data removed]",
      "text/plain": [
       "<Figure size 432x288 with 1 Axes>"
      ]
     },
     "metadata": {
      "needs_background": "light"
     },
     "output_type": "display_data"
    }
   ],
   "source": [
    "# show the missingness of the sequence\n",
    "data = records['missing_percentage']\n",
    "n, bins, patches = plt.hist(data, bins=30, alpha=0.9)\n",
    "mu, sigma = np.mean(data), np.std(data)\n",
    "\n",
    "plt.grid()\n",
    "plt.xlim((0, 15))\n",
    "plt.yticks(ticks=range(0, 90, 10))\n",
    "plt.ylim((0, 80))\n",
    "plt.ylabel('counts')\n",
    "plt.xlabel('percentage of missing nucleotides(%)')\n",
    "plt.title('Distribution of percentage of missing nucleotides')\n",
    "plt.text(6, 70, '$\\mu={:.3}, \\sigma={:.3}$'.format(mu, sigma))\n",
    "\n",
    "plt.tight_layout()\n",
    "plt.savefig('staph_missingness_1.png')\n",
    "plt.show()"
   ]
  },
  {
   "cell_type": "code",
   "execution_count": 26,
   "metadata": {},
   "outputs": [
    {
     "data": {
      "text/plain": [
       "13.025792197646599"
      ]
     },
     "execution_count": 26,
     "metadata": {},
     "output_type": "execute_result"
    }
   ],
   "source": [
    "highest_missing_percentage = np.max(records['missing_percentage'])\n",
    "highest_missing_percentage"
   ]
  },
  {
   "cell_type": "code",
   "execution_count": 27,
   "metadata": {},
   "outputs": [
    {
     "data": {
      "image/png": "[encoded data removed]",
      "text/plain": [
       "<Figure size 1382.4x345.6 with 1 Axes>"
      ]
     },
     "metadata": {
      "needs_background": "light"
     },
     "output_type": "display_data"
    }
   ],
   "source": [
    "# show the individual missingness of the sequence\n",
    "plt.figure(figsize=(19.2, 4.8))\n",
    "plt.scatter(range(125), records['missing_percentage'])\n",
    "\n",
    "plt.xlim((-1, 125))\n",
    "plt.ylim((0, 14))\n",
    "plt.xticks(ticks=range(125), labels=records['ids'].to_list(), rotation=90, fontsize=9)\n",
    "plt.ylabel('percentage of missing nucleotides(%)')\n",
    "plt.title('Individual percentage of missing nucleotides')\n",
    "plt.grid(axis='y')\n",
    "plt.savefig('staph_missingness_2.png')\n",
    "plt.show()"
   ]
  },
  {
   "cell_type": "markdown",
   "metadata": {},
   "source": [
    "# Experiment"
   ]
  },
  {
   "cell_type": "code",
   "execution_count": 28,
   "metadata": {},
   "outputs": [
    {
     "data": {
      "text/plain": [
       "0      ATGAACATTTATGATGAATATAGAAGTTATTTAATAGAAGAACTGG...\n",
       "1      ----------------------------------------------...\n",
       "2      ATGAACATTTATGATGAATATAGAAGTTATTTAATAGAAGAACTGG...\n",
       "3      ATGAAAATTTATGATGAATATAGAAGTTATGTAATAGAAGAACTGG...\n",
       "4      ATGAACATTTATGATGAATATAGAAGTTATGTAATAGAAGAACTGG...\n",
       "                             ...                        \n",
       "120    ATGAAAATTTATGATGAATATAGAAGTTATGTAATAGAAGAACTGG...\n",
       "121    ATGAAAATTTATGATGAATATAGAAGTTATGTAATAGAAGAACTGG...\n",
       "122    ATGAACATTTATGATGAATATAGAAGTTATGTAATAGAAGAACTGG...\n",
       "123    ATGAAAATTTATGATGAATATAGAAGTTATGTAATAGAAGAACTGG...\n",
       "124    ATGAACATTTATGATGAATATAGAAGTTATTTAATAGAAGAACTGG...\n",
       "Name: sequence, Length: 125, dtype: object"
      ]
     },
     "execution_count": 28,
     "metadata": {},
     "output_type": "execute_result"
    }
   ],
   "source": [
    "sequence = records['sequence']\n",
    "sequence"
   ]
  },
  {
   "cell_type": "code",
   "execution_count": 29,
   "metadata": {},
   "outputs": [],
   "source": [
    "from sklearn.feature_selection import VarianceThreshold\n",
    "selector = VarianceThreshold()"
   ]
  },
  {
   "cell_type": "code",
   "execution_count": 30,
   "metadata": {},
   "outputs": [],
   "source": [
    "forward = str.maketrans('-ACTGN', '012345')\n",
    "backward = str.maketrans('012345', '-ACTGN')\n",
    "def transformation(str):\n",
    "    return [int(i) for i in str.translate(forward)]"
   ]
  },
  {
   "cell_type": "code",
   "execution_count": 31,
   "metadata": {},
   "outputs": [
    {
     "name": "stdout",
     "output_type": "stream",
     "text": [
      "Counter({'A': 345986, 'T': 294496, 'G': 192941, 'C': 147154, '-': 2511})\n",
      "Counter({'A': 337511, 'T': 287275, 'G': 189106, 'C': 143918, '-': 25278})\n",
      "Counter({'A': 329401, 'T': 279828, 'G': 184938, 'C': 140708, '-': 48213})\n",
      "Counter({'A': 345979, 'T': 294475, 'G': 192959, 'C': 147233, '-': 2442})\n",
      "Counter({'A': 345511, 'T': 294082, 'G': 192719, 'C': 146891, '-': 3885})\n",
      "Counter({'A': 345660, 'T': 294132, 'G': 192816, 'C': 147105, '-': 3375})\n",
      "Counter({'A': 343519, 'T': 292212, 'G': 191690, 'C': 146262, '-': 9405})\n",
      "Counter({'A': 340683, 'T': 289818, 'G': 190408, 'C': 145157, '-': 17022})\n",
      "Counter({'A': 345863, 'T': 294299, 'G': 192890, 'C': 147153, '-': 2883})\n",
      "Counter({'A': 346022, 'T': 294459, 'G': 192979, 'C': 147225, '-': 2403})\n",
      "Counter({'A': 345896, 'T': 294441, 'G': 192901, 'C': 147120, '-': 2730})\n",
      "Counter({'A': 346018, 'T': 294491, 'G': 192954, 'C': 147156, '-': 2469})\n",
      "Counter({'A': 343034, 'T': 291567, 'G': 191407, 'C': 146010, '-': 11070})\n",
      "Counter({'A': 343732, 'T': 292542, 'G': 191825, 'C': 146340, '-': 8649})\n",
      "Counter({'A': 340908, 'T': 290016, 'G': 190460, 'C': 145357, '-': 16347})\n",
      "Counter({'A': 340016, 'T': 289336, 'G': 190119, 'C': 144954, '-': 18663})\n",
      "Counter({'A': 345871, 'T': 294292, 'G': 192865, 'C': 147141, '-': 2919})\n",
      "Counter({'A': 345940, 'T': 294519, 'G': 193021, 'C': 147154, '-': 2454})\n",
      "Counter({'A': 345823, 'T': 294322, 'G': 192877, 'C': 147165, '-': 2901})\n",
      "Counter({'A': 345823, 'T': 294326, 'G': 192841, 'C': 147071, '-': 3027})\n",
      "Counter({'A': 328245, 'T': 279475, 'G': 184443, 'C': 140501, '-': 50424})\n",
      "Counter({'A': 346032, 'T': 294471, 'G': 192976, 'C': 147218, '-': 2391})\n",
      "Counter({'A': 343149, 'T': 292155, 'G': 191787, 'C': 146166, '-': 9831})\n",
      "Counter({'A': 340286, 'T': 289840, 'G': 190453, 'C': 144902, '-': 17607})\n",
      "Counter({'A': 344767, 'T': 293404, 'G': 192354, 'C': 146719, '-': 5844})\n",
      "Counter({'A': 345644, 'T': 294177, 'G': 192791, 'C': 147035, '-': 3441})\n",
      "Counter({'A': 345918, 'T': 294369, 'G': 192905, 'C': 147178, '-': 2718})\n",
      "Counter({'A': 344613, 'T': 293339, 'G': 192335, 'C': 146732, '-': 6069})\n",
      "Counter({'A': 341295, 'T': 290593, 'G': 190784, 'C': 145455, '-': 14961})\n",
      "Counter({'A': 346032, 'T': 294588, 'G': 192989, 'C': 147124, '-': 2355})\n",
      "Counter({'A': 345677, 'T': 294200, 'G': 192764, 'C': 147054, '-': 3393})\n",
      "Counter({'A': 340751, 'T': 290222, 'G': 190195, 'C': 145090, '-': 16830})\n",
      "Counter({'A': 345887, 'T': 294293, 'G': 192895, 'C': 147148, '-': 2865})\n",
      "Counter({'A': 345956, 'T': 294484, 'G': 192885, 'C': 147213, '-': 2550})\n",
      "Counter({'A': 344895, 'T': 293479, 'G': 192405, 'C': 146861, '-': 5448})\n",
      "Counter({'A': 345966, 'T': 294427, 'G': 192929, 'C': 147207, '-': 2559})\n",
      "Counter({'A': 344813, 'T': 293600, 'G': 192488, 'C': 146850, '-': 5337})\n",
      "Counter({'A': 345601, 'T': 294078, 'G': 192539, 'C': 146949, '-': 3921})\n",
      "Counter({'A': 345553, 'T': 294122, 'G': 192757, 'C': 147026, '-': 3630})\n",
      "Counter({'A': 345919, 'T': 294363, 'G': 192904, 'C': 147178, '-': 2724})\n",
      "Counter({'A': 345801, 'T': 294312, 'G': 192844, 'C': 147140, '-': 2991})\n",
      "Counter({'A': 345922, 'T': 294410, 'G': 192905, 'C': 147205, '-': 2646})\n",
      "Counter({'A': 345983, 'T': 294386, 'G': 192929, 'C': 147174, '-': 2616})\n",
      "Counter({'A': 345658, 'T': 294347, 'G': 192848, 'C': 147133, '-': 3102})\n",
      "Counter({'A': 345358, 'T': 293937, 'G': 192590, 'C': 146925, '-': 4278})\n",
      "Counter({'A': 343105, 'T': 292368, 'G': 191684, 'C': 146109, '-': 9822})\n",
      "Counter({'A': 345642, 'T': 294225, 'G': 192720, 'C': 146966, '-': 3525, 'N': 10})\n",
      "Counter({'A': 345557, 'T': 294160, 'G': 192692, 'C': 147073, '-': 3606})\n",
      "Counter({'A': 345863, 'T': 294329, 'G': 192931, 'C': 147184, '-': 2781})\n",
      "Counter({'A': 340461, 'T': 289828, 'G': 190393, 'C': 145195, '-': 17211})\n",
      "Counter({'A': 345766, 'T': 294206, 'G': 192841, 'C': 147077, '-': 3198})\n",
      "Counter({'A': 345851, 'T': 294324, 'G': 192898, 'C': 147156, '-': 2859})\n",
      "Counter({'A': 336440, 'T': 285956, 'G': 188236, 'C': 143506, '-': 28950})\n",
      "Counter({'A': 341896, 'T': 290922, 'G': 190916, 'C': 145632, '-': 13722})\n",
      "Counter({'A': 326312, 'T': 277694, 'G': 183457, 'C': 139684, '-': 55941})\n",
      "Counter({'A': 344461, 'T': 293166, 'G': 192225, 'C': 146624, '-': 6612})\n",
      "Counter({'A': 344512, 'T': 293306, 'G': 192118, 'C': 146498, '-': 6654})\n",
      "Counter({'A': 345730, 'T': 294175, 'G': 192845, 'C': 147092, '-': 3246})\n",
      "Counter({'A': 344093, 'T': 293114, 'G': 192143, 'C': 146529, '-': 7209})\n",
      "Counter({'A': 345299, 'T': 293894, 'G': 192630, 'C': 146945, '-': 4320})\n",
      "Counter({'A': 325961, 'T': 277365, 'G': 183365, 'C': 139622, '-': 56775})\n",
      "Counter({'A': 300324, 'T': 255587, 'G': 170024, 'C': 129098, '-': 128055})\n",
      "Counter({'A': 340238, 'T': 289984, 'G': 190245, 'C': 145014, '-': 17607})\n",
      "Counter({'A': 340435, 'T': 289870, 'G': 190142, 'C': 144905, '-': 17736})\n",
      "Counter({'A': 345977, 'T': 294419, 'G': 192944, 'C': 147228, '-': 2520})\n",
      "Counter({'A': 345825, 'T': 294385, 'G': 192822, 'C': 147071, '-': 2985})\n",
      "Counter({'A': 344069, 'T': 292747, 'G': 192084, 'C': 146544, '-': 7644})\n",
      "Counter({'A': 345984, 'T': 294427, 'G': 192952, 'C': 147226, '-': 2499})\n",
      "Counter({'A': 344654, 'T': 293626, 'G': 192497, 'C': 146743, '-': 5568})\n",
      "Counter({'A': 341882, 'T': 290924, 'G': 190914, 'C': 145694, '-': 13674})\n",
      "Counter({'A': 345633, 'T': 294107, 'G': 192571, 'C': 146955, '-': 3822})\n",
      "Counter({'A': 345812, 'T': 294264, 'G': 192854, 'C': 147119, '-': 3039})\n",
      "Counter({'A': 339614, 'T': 288645, 'G': 189843, 'C': 144829, '-': 20157})\n",
      "Counter({'A': 345865, 'T': 294277, 'G': 192856, 'C': 147138, '-': 2952})\n",
      "Counter({'A': 345904, 'T': 294368, 'G': 192870, 'C': 147180, '-': 2766})\n",
      "Counter({'A': 345849, 'T': 294251, 'G': 192846, 'C': 147130, '-': 3012})\n",
      "Counter({'A': 345442, 'T': 293957, 'G': 192677, 'C': 147010, '-': 4002})\n",
      "Counter({'A': 345868, 'T': 294336, 'G': 192922, 'C': 147184, '-': 2778})\n",
      "Counter({'A': 344511, 'T': 293351, 'G': 192141, 'C': 146530, '-': 6555})\n",
      "Counter({'A': 345001, 'T': 293639, 'G': 192492, 'C': 146790, '-': 5166})\n",
      "Counter({'A': 345384, 'T': 294093, 'G': 192586, 'C': 146864, '-': 4161})\n",
      "Counter({'A': 344207, 'T': 293172, 'G': 192140, 'C': 146609, '-': 6960})\n",
      "Counter({'A': 344958, 'T': 293600, 'G': 192498, 'C': 146845, '-': 5187})\n",
      "Counter({'A': 345822, 'T': 294253, 'G': 192861, 'C': 147104, '-': 3048})\n",
      "Counter({'A': 344901, 'T': 293658, 'G': 192510, 'C': 146850, '-': 5169})\n",
      "Counter({'A': 329069, 'T': 280778, 'G': 184807, 'C': 140842, '-': 47592})\n",
      "Counter({'A': 345991, 'T': 294387, 'G': 192926, 'C': 147135, '-': 2649})\n",
      "Counter({'A': 341678, 'T': 291007, 'G': 190829, 'C': 145507, '-': 14067})\n",
      "Counter({'A': 345209, 'T': 293893, 'G': 192647, 'C': 146857, '-': 4482})\n",
      "Counter({'A': 345322, 'T': 293802, 'G': 192572, 'C': 146907, '-': 4485})\n",
      "Counter({'A': 344842, 'T': 293523, 'G': 192225, 'C': 146729, '-': 5769})\n",
      "Counter({'A': 343565, 'T': 291967, 'G': 191392, 'C': 146033, '-': 10131})\n",
      "Counter({'A': 314876, 'T': 267554, 'G': 174915, 'C': 133253, '-': 92490})\n",
      "Counter({'A': 345940, 'T': 294433, 'G': 192939, 'C': 147190, '-': 2586})\n",
      "Counter({'A': 344860, 'T': 293645, 'G': 192464, 'C': 146857, '-': 5262})\n",
      "Counter({'A': 344443, 'T': 293169, 'G': 192100, 'C': 146485, '-': 6891})\n",
      "Counter({'A': 345257, 'T': 293802, 'G': 192447, 'C': 146755, '-': 4827})\n",
      "Counter({'A': 345860, 'T': 294363, 'G': 192721, 'C': 146985, '-': 3159})\n",
      "Counter({'A': 345796, 'T': 294356, 'G': 192837, 'C': 147069, '-': 3030})\n",
      "Counter({'A': 345435, 'T': 294112, 'G': 192749, 'C': 147039, '-': 3753})\n",
      "Counter({'A': 342165, 'T': 291363, 'G': 191024, 'C': 145552, '-': 12984})\n",
      "Counter({'A': 345825, 'T': 294239, 'G': 192912, 'C': 147145, '-': 2967})\n",
      "Counter({'A': 345457, 'T': 293953, 'G': 192725, 'C': 147035, '-': 3918})\n",
      "Counter({'A': 342458, 'T': 292110, 'G': 191503, 'C': 146007, '-': 11010})\n",
      "Counter({'A': 342694, 'T': 291746, 'G': 191476, 'C': 146042, '-': 11130})\n",
      "Counter({'A': 345977, 'T': 294536, 'G': 193028, 'C': 147162, '-': 2385})\n",
      "Counter({'A': 345240, 'T': 293819, 'G': 192495, 'C': 146941, '-': 4593})\n",
      "Counter({'A': 344446, 'T': 293176, 'G': 192255, 'C': 146674, '-': 6537})\n",
      "Counter({'A': 345301, 'T': 293974, 'G': 192705, 'C': 146992, '-': 4116})\n",
      "Counter({'A': 345981, 'T': 294433, 'G': 192954, 'C': 147230, '-': 2490})\n",
      "Counter({'A': 346008, 'T': 294488, 'G': 192984, 'C': 147184, '-': 2424})\n",
      "Counter({'A': 337076, 'T': 287580, 'G': 188955, 'C': 144004, '-': 25473})\n"
     ]
    },
    {
     "name": "stdout",
     "output_type": "stream",
     "text": [
      "Counter({'A': 333750, 'T': 284428, 'G': 187020, 'C': 142535, '-': 35355})\n",
      "Counter({'A': 344507, 'T': 293082, 'G': 192302, 'C': 146690, '-': 6507})\n",
      "Counter({'A': 342320, 'T': 291156, 'G': 190768, 'C': 145533, '-': 13311})\n",
      "Counter({'A': 345827, 'T': 294283, 'G': 192884, 'C': 147118, '-': 2976})\n",
      "Counter({'A': 333404, 'T': 283573, 'G': 186756, 'C': 142239, '-': 37116})\n",
      "Counter({'A': 342969, 'T': 292209, 'G': 191551, 'C': 146018, '-': 10341})\n",
      "Counter({'A': 341953, 'T': 291024, 'G': 191209, 'C': 145765, '-': 13137})\n",
      "Counter({'A': 313368, 'T': 266590, 'G': 176748, 'C': 134675, '-': 91707})\n",
      "Counter({'A': 322138, 'T': 274214, 'G': 181594, 'C': 138257, '-': 66885})\n",
      "Counter({'A': 343824, 'T': 292775, 'G': 192026, 'C': 146411, '-': 8052})\n",
      "Counter({'A': 345856, 'T': 294253, 'G': 192840, 'C': 147136, '-': 3003})\n",
      "Counter({'A': 345875, 'T': 294369, 'G': 192915, 'C': 147139, '-': 2790})\n",
      "Counter({'A': 346018, 'T': 294490, 'G': 192942, 'C': 147151, '-': 2487})\n"
     ]
    }
   ],
   "source": [
    "from collections import Counter\n",
    "\n",
    "for seq in sequence:\n",
    "    print(Counter(seq))"
   ]
  },
  {
   "cell_type": "code",
   "execution_count": 32,
   "metadata": {},
   "outputs": [
    {
     "name": "stdout",
     "output_type": "stream",
     "text": [
      "CPU times: user 46.7 s, sys: 936 ms, total: 47.7 s\n",
      "Wall time: 47.7 s\n"
     ]
    }
   ],
   "source": [
    "%time tran = selector.fit_transform(sequence.apply(transformation).to_list())"
   ]
  },
  {
   "cell_type": "code",
   "execution_count": 33,
   "metadata": {},
   "outputs": [
    {
     "data": {
      "text/plain": [
       "496218"
      ]
     },
     "execution_count": 33,
     "metadata": {},
     "output_type": "execute_result"
    }
   ],
   "source": [
    "len(tran[0])"
   ]
  },
  {
   "cell_type": "code",
   "execution_count": null,
   "metadata": {},
   "outputs": [],
   "source": []
  }
 ],
 "metadata": {
  "kernelspec": {
   "display_name": "Python 3",
   "language": "python",
   "name": "python3"
  },
  "language_info": {
   "codemirror_mode": {
    "name": "ipython",
    "version": 3
   },
   "file_extension": ".py",
   "mimetype": "text/x-python",
   "name": "python",
   "nbconvert_exporter": "python",
   "pygments_lexer": "ipython3",
   "version": "3.7.4"
  }
 },
 "nbformat": 4,
 "nbformat_minor": 2
}
