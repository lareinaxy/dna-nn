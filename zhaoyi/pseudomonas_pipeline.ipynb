{
 "cells": [
  {
   "cell_type": "code",
   "execution_count": 10,
   "metadata": {},
   "outputs": [],
   "source": [
    "import numpy as np\n",
    "import pandas as pd\n",
    "\n",
    "from load import load_pseudo, load_nucleotides\n",
    "\n",
    "pd.options.display.precision = 3\n",
    "pd.options.display.max_colwidth = 10"
   ]
  },
  {
   "cell_type": "code",
   "execution_count": 2,
   "metadata": {
    "scrolled": false
   },
   "outputs": [
    {
     "name": "stdout",
     "output_type": "stream",
     "text": [
      "CPU times: user 4.57 s, sys: 265 ms, total: 4.84 s\n",
      "Wall time: 4.85 s\n"
     ]
    },
    {
     "data": {
      "text/html": [
       "<div>\n",
       "<style scoped>\n",
       "    .dataframe tbody tr th:only-of-type {\n",
       "        vertical-align: middle;\n",
       "    }\n",
       "\n",
       "    .dataframe tbody tr th {\n",
       "        vertical-align: top;\n",
       "    }\n",
       "\n",
       "    .dataframe thead th {\n",
       "        text-align: right;\n",
       "    }\n",
       "</style>\n",
       "<table border=\"1\" class=\"dataframe\">\n",
       "  <thead>\n",
       "    <tr style=\"text-align: right;\">\n",
       "      <th></th>\n",
       "      <th>id</th>\n",
       "      <th>sequence</th>\n",
       "      <th>missing</th>\n",
       "      <th>missing %</th>\n",
       "      <th>sequence_i</th>\n",
       "      <th>missing_i</th>\n",
       "      <th>missing %_i</th>\n",
       "      <th>carb</th>\n",
       "      <th>toby</th>\n",
       "    </tr>\n",
       "  </thead>\n",
       "  <tbody>\n",
       "    <tr>\n",
       "      <td>0</td>\n",
       "      <td>TA151</td>\n",
       "      <td>ATGAGT...</td>\n",
       "      <td>31842</td>\n",
       "      <td>6.588</td>\n",
       "      <td>ATGAGT...</td>\n",
       "      <td>28410</td>\n",
       "      <td>5.878</td>\n",
       "      <td>True</td>\n",
       "      <td>False</td>\n",
       "    </tr>\n",
       "    <tr>\n",
       "      <td>1</td>\n",
       "      <td>IC1</td>\n",
       "      <td>ATGAGT...</td>\n",
       "      <td>46071</td>\n",
       "      <td>9.532</td>\n",
       "      <td>ATGAGT...</td>\n",
       "      <td>34714</td>\n",
       "      <td>7.182</td>\n",
       "      <td>False</td>\n",
       "      <td>False</td>\n",
       "    </tr>\n",
       "    <tr>\n",
       "      <td>2</td>\n",
       "      <td>A237</td>\n",
       "      <td>ATGAGT...</td>\n",
       "      <td>44514</td>\n",
       "      <td>9.210</td>\n",
       "      <td>ATGAGT...</td>\n",
       "      <td>35933</td>\n",
       "      <td>7.434</td>\n",
       "      <td>True</td>\n",
       "      <td>False</td>\n",
       "    </tr>\n",
       "    <tr>\n",
       "      <td>3</td>\n",
       "      <td>5920</td>\n",
       "      <td>ATGAGT...</td>\n",
       "      <td>49497</td>\n",
       "      <td>10.241</td>\n",
       "      <td>ATGAGT...</td>\n",
       "      <td>36873</td>\n",
       "      <td>7.629</td>\n",
       "      <td>NaN</td>\n",
       "      <td>NaN</td>\n",
       "    </tr>\n",
       "    <tr>\n",
       "      <td>4</td>\n",
       "      <td>LiA96</td>\n",
       "      <td>ATGAGT...</td>\n",
       "      <td>44067</td>\n",
       "      <td>9.117</td>\n",
       "      <td>ATGAGT...</td>\n",
       "      <td>34454</td>\n",
       "      <td>7.128</td>\n",
       "      <td>False</td>\n",
       "      <td>False</td>\n",
       "    </tr>\n",
       "    <tr>\n",
       "      <td>...</td>\n",
       "      <td>...</td>\n",
       "      <td>...</td>\n",
       "      <td>...</td>\n",
       "      <td>...</td>\n",
       "      <td>...</td>\n",
       "      <td>...</td>\n",
       "      <td>...</td>\n",
       "      <td>...</td>\n",
       "      <td>...</td>\n",
       "    </tr>\n",
       "    <tr>\n",
       "      <td>117</td>\n",
       "      <td>JD318</td>\n",
       "      <td>------...</td>\n",
       "      <td>77766</td>\n",
       "      <td>16.090</td>\n",
       "      <td>ATGAGT...</td>\n",
       "      <td>39108</td>\n",
       "      <td>8.091</td>\n",
       "      <td>False</td>\n",
       "      <td>False</td>\n",
       "    </tr>\n",
       "    <tr>\n",
       "      <td>118</td>\n",
       "      <td>Jp238</td>\n",
       "      <td>------...</td>\n",
       "      <td>43062</td>\n",
       "      <td>8.909</td>\n",
       "      <td>ATGAGT...</td>\n",
       "      <td>32466</td>\n",
       "      <td>6.717</td>\n",
       "      <td>False</td>\n",
       "      <td>False</td>\n",
       "    </tr>\n",
       "    <tr>\n",
       "      <td>119</td>\n",
       "      <td>Jp1303</td>\n",
       "      <td>------...</td>\n",
       "      <td>44151</td>\n",
       "      <td>9.135</td>\n",
       "      <td>ATGAGT...</td>\n",
       "      <td>32792</td>\n",
       "      <td>6.785</td>\n",
       "      <td>False</td>\n",
       "      <td>False</td>\n",
       "    </tr>\n",
       "    <tr>\n",
       "      <td>120</td>\n",
       "      <td>JD304</td>\n",
       "      <td>------...</td>\n",
       "      <td>75465</td>\n",
       "      <td>15.613</td>\n",
       "      <td>ATGAGT...</td>\n",
       "      <td>38729</td>\n",
       "      <td>8.013</td>\n",
       "      <td>False</td>\n",
       "      <td>False</td>\n",
       "    </tr>\n",
       "    <tr>\n",
       "      <td>121</td>\n",
       "      <td>LiA131</td>\n",
       "      <td>------...</td>\n",
       "      <td>42507</td>\n",
       "      <td>8.795</td>\n",
       "      <td>ATGAGT...</td>\n",
       "      <td>33933</td>\n",
       "      <td>7.021</td>\n",
       "      <td>False</td>\n",
       "      <td>False</td>\n",
       "    </tr>\n",
       "  </tbody>\n",
       "</table>\n",
       "<p>122 rows × 9 columns</p>\n",
       "</div>"
      ],
      "text/plain": [
       "         id   sequence  missing  missing % sequence_i  missing_i  missing %_i  \\\n",
       "0     TA151  ATGAGT...    31842      6.588  ATGAGT...      28410      5.878     \n",
       "1       IC1  ATGAGT...    46071      9.532  ATGAGT...      34714      7.182     \n",
       "2      A237  ATGAGT...    44514      9.210  ATGAGT...      35933      7.434     \n",
       "3      5920  ATGAGT...    49497     10.241  ATGAGT...      36873      7.629     \n",
       "4     LiA96  ATGAGT...    44067      9.117  ATGAGT...      34454      7.128     \n",
       "..      ...        ...      ...        ...        ...        ...        ...     \n",
       "117   JD318  ------...    77766     16.090  ATGAGT...      39108      8.091     \n",
       "118   Jp238  ------...    43062      8.909  ATGAGT...      32466      6.717     \n",
       "119  Jp1303  ------...    44151      9.135  ATGAGT...      32792      6.785     \n",
       "120   JD304  ------...    75465     15.613  ATGAGT...      38729      8.013     \n",
       "121  LiA131  ------...    42507      8.795  ATGAGT...      33933      7.021     \n",
       "\n",
       "      carb   toby  \n",
       "0     True  False  \n",
       "1    False  False  \n",
       "2     True  False  \n",
       "3      NaN    NaN  \n",
       "4    False  False  \n",
       "..     ...    ...  \n",
       "117  False  False  \n",
       "118  False  False  \n",
       "119  False  False  \n",
       "120  False  False  \n",
       "121  False  False  \n",
       "\n",
       "[122 rows x 9 columns]"
      ]
     },
     "execution_count": 2,
     "metadata": {},
     "output_type": "execute_result"
    }
   ],
   "source": [
    "%time records = load_pseudo()\n",
    "records"
   ]
  },
  {
   "cell_type": "code",
   "execution_count": 4,
   "metadata": {},
   "outputs": [
    {
     "name": "stdout",
     "output_type": "stream",
     "text": [
      "CPU times: user 45.4 s, sys: 839 ms, total: 46.3 s\n",
      "Wall time: 43.6 s\n"
     ]
    }
   ],
   "source": [
    "%time n = load_nucleotides('../data/pseudo/concatenated.fasta')"
   ]
  },
  {
   "cell_type": "code",
   "execution_count": 5,
   "metadata": {},
   "outputs": [
    {
     "name": "stdout",
     "output_type": "stream",
     "text": [
      "CPU times: user 49.8 s, sys: 1.24 s, total: 51 s\n",
      "Wall time: 45.1 s\n"
     ]
    }
   ],
   "source": [
    "%time n_i = load_nucleotides('../data/pseudo/concatenated_naive_impute.fasta')"
   ]
  },
  {
   "cell_type": "markdown",
   "metadata": {},
   "source": [
    "# Feature selection"
   ]
  },
  {
   "cell_type": "code",
   "execution_count": 142,
   "metadata": {},
   "outputs": [],
   "source": [
    "from sklearn.feature_selection import VarianceThreshold\n",
    "selector = VarianceThreshold(0.008)"
   ]
  },
  {
   "cell_type": "code",
   "execution_count": 137,
   "metadata": {},
   "outputs": [
    {
     "data": {
      "text/plain": [
       "0.00812953507121742"
      ]
     },
     "execution_count": 137,
     "metadata": {},
     "output_type": "execute_result"
    }
   ],
   "source": [
    "# justification for why < 0.008 is the threshold to drop a column\n",
    "arr = np.ones((122, 1))*4\n",
    "arr[:1] = 3\n",
    "np.var(arr)"
   ]
  },
  {
   "cell_type": "code",
   "execution_count": 109,
   "metadata": {},
   "outputs": [],
   "source": [
    "forward = str.maketrans('-ACTG', '01234')\n",
    "def transformation(str):\n",
    "    return [int(i) for i in str.translate(forward)]"
   ]
  },
  {
   "cell_type": "code",
   "execution_count": 149,
   "metadata": {},
   "outputs": [],
   "source": [
    "def translate(encoding):\n",
    "    selector = VarianceThreshold(0.008)\n",
    "    encoding_new = selector.fit_transform(encoding)\n",
    "    return encoding_new, selector"
   ]
  },
  {
   "cell_type": "code",
   "execution_count": 85,
   "metadata": {},
   "outputs": [
    {
     "name": "stdout",
     "output_type": "stream",
     "text": [
      "CPU times: user 55.9 s, sys: 1.79 s, total: 57.7 s\n",
      "Wall time: 51.2 s\n"
     ]
    }
   ],
   "source": [
    "%time encoding = pd.DataFrame(records['sequence'].apply(transformation).to_list())"
   ]
  },
  {
   "cell_type": "code",
   "execution_count": 143,
   "metadata": {},
   "outputs": [],
   "source": [
    "encoding_new = selector.fit_transform(encoding)"
   ]
  },
  {
   "cell_type": "code",
   "execution_count": 144,
   "metadata": {},
   "outputs": [
    {
     "data": {
      "text/plain": [
       "True     261868\n",
       "False    221465\n",
       "dtype: int64"
      ]
     },
     "execution_count": 144,
     "metadata": {},
     "output_type": "execute_result"
    }
   ],
   "source": [
    "pd.Series(selector.get_support()).value_counts()"
   ]
  },
  {
   "cell_type": "code",
   "execution_count": 86,
   "metadata": {},
   "outputs": [
    {
     "name": "stdout",
     "output_type": "stream",
     "text": [
      "CPU times: user 56 s, sys: 990 ms, total: 57 s\n",
      "Wall time: 50.2 s\n"
     ]
    }
   ],
   "source": [
    "%time encoding_i = pd.DataFrame(records['sequence_i'].apply(transformation).to_list())"
   ]
  },
  {
   "cell_type": "code",
   "execution_count": 145,
   "metadata": {},
   "outputs": [],
   "source": [
    "encoding_i_new = selector.fit_transform(encoding_i)"
   ]
  },
  {
   "cell_type": "code",
   "execution_count": 146,
   "metadata": {},
   "outputs": [
    {
     "data": {
      "text/plain": [
       "False    369206\n",
       "True     114127\n",
       "dtype: int64"
      ]
     },
     "execution_count": 146,
     "metadata": {},
     "output_type": "execute_result"
    }
   ],
   "source": [
    "pd.Series(selector.get_support()).value_counts()"
   ]
  },
  {
   "cell_type": "code",
   "execution_count": 125,
   "metadata": {},
   "outputs": [
    {
     "data": {
      "text/plain": [
       "<matplotlib.image.AxesImage at 0x7f0e0aed86d0>"
      ]
     },
     "execution_count": 125,
     "metadata": {},
     "output_type": "execute_result"
    },
    {
     "data": {
      "image/png": "[encoded data removed]",
      "text/plain": [
       "<Figure size 864x360 with 1 Axes>"
      ]
     },
     "metadata": {
      "needs_background": "light"
     },
     "output_type": "display_data"
    }
   ],
   "source": [
    "import matplotlib.pyplot as plt\n",
    "plt.figure(figsize=(12, 5))\n",
    "plt.imshow(encoding, aspect='auto')"
   ]
  },
  {
   "cell_type": "code",
   "execution_count": null,
   "metadata": {},
   "outputs": [],
   "source": []
  }
 ],
 "metadata": {
  "kernelspec": {
   "display_name": "Python 3",
   "language": "python",
   "name": "python3"
  },
  "language_info": {
   "codemirror_mode": {
    "name": "ipython",
    "version": 3
   },
   "file_extension": ".py",
   "mimetype": "text/x-python",
   "name": "python",
   "nbconvert_exporter": "python",
   "pygments_lexer": "ipython3",
   "version": "3.7.4"
  }
 },
 "nbformat": 4,
 "nbformat_minor": 2
}
